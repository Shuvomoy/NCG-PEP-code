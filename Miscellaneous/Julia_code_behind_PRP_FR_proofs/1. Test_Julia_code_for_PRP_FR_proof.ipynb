{
 "cells": [
  {
   "cell_type": "code",
   "execution_count": 36,
   "id": "bf639b8f-6a1d-4cd6-a737-d7aa7908c6ae",
   "metadata": {},
   "outputs": [
    {
     "name": "stdout",
     "output_type": "stream",
     "text": [
      "Set parameter Username\n",
      "Academic license - for non-commercial use only - expires 2023-11-06\n"
     ]
    }
   ],
   "source": [
    "## Load the code\n",
    "\n",
    "include(\"ratio_of_function_values.jl\");"
   ]
  },
  {
   "cell_type": "code",
   "execution_count": 37,
   "id": "6dc5c256-369c-4e43-b27a-a0a9c4b14a22",
   "metadata": {},
   "outputs": [
    {
     "data": {
      "text/plain": [
       "(1, 0, 0, 0)"
      ]
     },
     "execution_count": 37,
     "metadata": {},
     "output_type": "execute_result"
    }
   ],
   "source": [
    "## Parameters\n",
    "\n",
    "μ = 0.5\n",
    "L = 1\n",
    "R = 1 # min(R_term_1,R_term_2)\n",
    "bigM = 1e6\n",
    "η_2 = 1 # should be 1 for PRP, 0 for FR\n",
    "c_0_input_initial_given = (L+μ)^2/(4*μ*L) \n",
    "# this means ||d_{k-1}||^2 <= c_0*||g_{k-1}||^2, should be something > 1, \n",
    "# valid selection for PRP is (1+(L/μ)^2) based on Polyak's result\n",
    "# for FR, it can be any number greater than 1\n",
    "\n",
    "# for finding function value ratio\n",
    "c_f_input, c_x_input, c_g_input, c_p_input =  1, 0, 0, 0\n",
    "ι_f_input, ι_x_input, ι_g_input, ι_p_input = 1, 0, 0, 0"
   ]
  },
  {
   "cell_type": "code",
   "execution_count": 38,
   "id": "45d4c539-d2b9-4520-b5e5-e234aa2eec3b",
   "metadata": {},
   "outputs": [
    {
     "name": "stderr",
     "output_type": "stream",
     "text": [
      "\u001b[36m\u001b[1m[ \u001b[22m\u001b[39m\u001b[36m\u001b[1mInfo: \u001b[22m\u001b[39mconjugacy condition is satisfied\n"
     ]
    }
   ],
   "source": [
    "## Warm-start point\n",
    "\n",
    "G_ws, Ft_ws, L_cholesky_ws, γ_kM1_ws, β_kM1_ws = feasible_sol_generator_Lyapunov_Ada_PEP(μ, L, R, η_2; c_f = c_f_input, c_x = c_x_input, c_g = c_g_input, c_p = c_p_input, ι_f = ι_f_input, ι_x = ι_x_input, ι_g = ι_g_input, ι_p = ι_p_input)\n",
    "\n",
    "## Create the index set of points\n",
    "\n",
    "k = 1; ⋆ = -1;\n",
    "I_N_star = [⋆; k-1; k]\n",
    "idx_set_λ_ws_effective = index_set_constructor_for_dual_vars_full(I_N_star);"
   ]
  },
  {
   "cell_type": "code",
   "execution_count": 39,
   "id": "45714ab4-aa80-48f4-a17d-501f684aeef9",
   "metadata": {},
   "outputs": [
    {
     "name": "stderr",
     "output_type": "stream",
     "text": [
      "\u001b[36m\u001b[1m[ \u001b[22m\u001b[39m\u001b[36m\u001b[1mInfo: \u001b[22m\u001b[39m[🎉 ] defining the variables\n",
      "\u001b[36m\u001b[1m[ \u001b[22m\u001b[39m\u001b[36m\u001b[1mInfo: \u001b[22m\u001b[39mno bound imposed\n",
      "\u001b[36m\u001b[1m[ \u001b[22m\u001b[39m\u001b[36m\u001b[1mInfo: \u001b[22m\u001b[39m[🎍 ] adding the data generator function to create 𝐱, 𝐠, 𝐟\n",
      "\u001b[36m\u001b[1m[ \u001b[22m\u001b[39m\u001b[36m\u001b[1mInfo: \u001b[22m\u001b[39m[🎢 ] adding the constraints\n",
      "\u001b[36m\u001b[1m[ \u001b[22m\u001b[39m\u001b[36m\u001b[1mInfo: \u001b[22m\u001b[39mconinterpol ℓ = i_j_idx(-1, 0)\n",
      "\u001b[36m\u001b[1m[ \u001b[22m\u001b[39m\u001b[36m\u001b[1mInfo: \u001b[22m\u001b[39mconinterpol ℓ = i_j_idx(-1, 1)\n",
      "\u001b[36m\u001b[1m[ \u001b[22m\u001b[39m\u001b[36m\u001b[1mInfo: \u001b[22m\u001b[39mconinterpol ℓ = i_j_idx(0, -1)\n",
      "\u001b[36m\u001b[1m[ \u001b[22m\u001b[39m\u001b[36m\u001b[1mInfo: \u001b[22m\u001b[39mconinterpol ℓ = i_j_idx(0, 1)\n",
      "\u001b[36m\u001b[1m[ \u001b[22m\u001b[39m\u001b[36m\u001b[1mInfo: \u001b[22m\u001b[39mconinterpol ℓ = i_j_idx(1, -1)\n",
      "\u001b[36m\u001b[1m[ \u001b[22m\u001b[39m\u001b[36m\u001b[1mInfo: \u001b[22m\u001b[39mconinterpol ℓ = i_j_idx(1, 0)\n"
     ]
    },
    {
     "name": "stdout",
     "output_type": "stream",
     "text": [
      "\n",
      "=======================================\n",
      "           Academic License\n",
      "       (NOT FOR COMMERCIAL USE)\n",
      "         Artelys Knitro 13.1.0\n",
      "=======================================\n",
      "\n",
      "Knitro presolve eliminated 82 variables and 146 constraints.\n",
      "\n",
      "algorithm:               1\n",
      "convex:                  0\n",
      "datacheck:               0\n",
      "hessian_no_f:            1\n",
      "honorbnds:               1\n",
      "strat_warm_start:        1\n",
      "The problem is identified as a QCQP.\n",
      "Knitro shifted start point further inside presolved bounds (5 variables).\n",
      "Knitro fixing 78 variables eliminated from the presolve.\n",
      "\n",
      "Problem Characteristics                                 (   Presolved)\n",
      "-----------------------\n",
      "Objective goal:  Maximize\n",
      "Objective type:  linear\n",
      "Number of variables:                                111 (          29)\n",
      "    bounded below only:                               2 (           8)\n",
      "    bounded above only:                               0 (           0)\n",
      "    bounded below and above:                          0 (           2)\n",
      "    fixed:                                            6 (           0)\n",
      "    free:                                           103 (          19)\n",
      "Number of constraints:                              201 (          55)\n",
      "    linear equalities:                              138 (          10)\n",
      "    quadratic equalities:                            18 (          16)\n",
      "    gen. nonlinear equalities:                        0 (           0)\n",
      "    linear one-sided inequalities:                   41 (          25)\n",
      "    quadratic one-sided inequalities:                 4 (           4)\n",
      "    gen. nonlinear one-sided inequalities:            0 (           0)\n",
      "    linear two-sided inequalities:                    0 (           0)\n",
      "    quadratic two-sided inequalities:                 0 (           0)\n",
      "    gen. nonlinear two-sided inequalities:            0 (           0)\n",
      "Number of nonzeros in Jacobian:                     488 (         204)\n",
      "Number of nonzeros in Hessian:                       85 (          30)\n",
      "\n",
      "WARNING: Problem has more equality constraints than variables.\n",
      "\n",
      "Knitro using the Interior-Point/Barrier Direct algorithm.\n",
      "\n",
      "  Iter      Objective      FeasError   OptError    ||Step||    CGits \n",
      "--------  --------------  ----------  ----------  ----------  -------\n",
      "       0    4.890028e-03   1.511e+00\n",
      "      10    7.414492e-02   7.907e-06   1.654e+01   2.793e-02        0\n",
      "      20    3.608181e-01   5.886e-04   1.507e-03   1.422e-01        0\n",
      "      23    3.600003e-01   7.504e-07   5.281e-07   2.647e-03        0\n",
      "\n",
      "EXIT: Locally optimal solution found.\n",
      "\n",
      "Final Statistics\n",
      "----------------\n",
      "Final objective value               =   3.60000272715657e-01\n",
      "Final feasibility error (abs / rel) =   7.50e-07 / 4.97e-07\n",
      "Final optimality error  (abs / rel) =   5.28e-07 / 5.28e-07\n",
      "# of iterations                     =         23 \n",
      "# of CG iterations                  =          1 \n",
      "# of function evaluations           =          0\n",
      "# of gradient evaluations           =          0\n",
      "# of Hessian evaluations            =          0\n",
      "Total program time (secs)           =       0.00311 (     0.003 CPU time)\n",
      "Time spent in evaluations (secs)    =       0.00000\n",
      "\n",
      "===============================================================================\n",
      "\n"
     ]
    },
    {
     "name": "stderr",
     "output_type": "stream",
     "text": [
      "\u001b[36m\u001b[1m[ \u001b[22m\u001b[39m\u001b[36m\u001b[1mInfo: \u001b[22m\u001b[39m[🎇 ] adding objective\n",
      "\u001b[36m\u001b[1m[ \u001b[22m\u001b[39m\u001b[36m\u001b[1mInfo: \u001b[22m\u001b[39m[👲 ] warm-start values for all the variables\n",
      "\u001b[36m\u001b[1m[ \u001b[22m\u001b[39m\u001b[36m\u001b[1mInfo: \u001b[22m\u001b[39m[🙌 \t🙏 ] model building done, starting the optimization process\n",
      "\u001b[36m\u001b[1m[ \u001b[22m\u001b[39m\u001b[36m\u001b[1mInfo: \u001b[22m\u001b[39m[😻 ] optimal solution found done, store the solution\n",
      "\u001b[36m\u001b[1m[ \u001b[22m\u001b[39m\u001b[36m\u001b[1mInfo: \u001b[22m\u001b[39m[💹 ] warm-start objective value = 0.004890027894322182, and objective value of found solution = 0.3600002727156568\n",
      "\u001b[36m\u001b[1m[ \u001b[22m\u001b[39m\u001b[36m\u001b[1mInfo: \u001b[22m\u001b[39mIMPORTANT INFO\n",
      "\u001b[36m\u001b[1m[ \u001b[22m\u001b[39m\u001b[36m\u001b[1mInfo: \u001b[22m\u001b[39m------------------------------------------\n",
      "\u001b[36m\u001b[1m[ \u001b[22m\u001b[39m\u001b[36m\u001b[1mInfo: \u001b[22m\u001b[39m||g_{k-1}||^2 =  1.1999998142876516\n",
      "\u001b[36m\u001b[1m[ \u001b[22m\u001b[39m\u001b[36m\u001b[1mInfo: \u001b[22m\u001b[39m||p_{k-1}||^2 = 1.349999791073655\n",
      "\u001b[36m\u001b[1m[ \u001b[22m\u001b[39m\u001b[36m\u001b[1mInfo: \u001b[22m\u001b[39mNCG-PEP Theory PRP ( f_{k+1} - f_⋆ ) / ( f_k - f_⋆ ) = 0.36\n",
      "\u001b[36m\u001b[1m[ \u001b[22m\u001b[39m\u001b[36m\u001b[1mInfo: \u001b[22m\u001b[39mNCG-PEP Numerical ( f_{k+1} - f_⋆ ) / ( f_k - f_⋆ )= 0.3600002727156568\n",
      "\u001b[36m\u001b[1m[ \u001b[22m\u001b[39m\u001b[36m\u001b[1mInfo: \u001b[22m\u001b[39m------------------------------------------\n",
      "\u001b[36m\u001b[1m[ \u001b[22m\u001b[39m\u001b[36m\u001b[1mInfo: \u001b[22m\u001b[39m[💀 ] The dual multipliers for interpolation inequalities are: [-0.24004714599534238, -0.4002675048847742, -0.00012546309130551334, -0.6000282821171736, -0.00018912415651942192, -0.0001066658954143929]\n"
     ]
    }
   ],
   "source": [
    "## Generate locally optimal solution\n",
    "\n",
    "G_loc_opt, Ft_loc_opt, L_cholesky_loc_opt, γ_kM1_loc_opt, β_kM1_loc_opt, t_loc_opt, lower_bound_var_loc_opt, upper_bound_var_loc_opt, solve_time_loc_opt = Ratio_of_Function_Values_Model(\n",
    "\t# different parameters to be used\n",
    "    # -------------------------------\n",
    "    μ, L, R,\n",
    "    # warm-start points\n",
    "    # -----------------\n",
    "    idx_set_λ_ws_effective, G_ws, Ft_ws, L_cholesky_ws, γ_kM1_ws,  β_kM1_ws;\n",
    "\t# different options\n",
    "\t# -----------------\n",
    "\t# [🐘 ] solver type\n",
    "\tsolver = LocalOptSolver,\n",
    "\t# the solvers are:\n",
    "\t# GlobalOptSolver to find the globally optimal solution (uses gurobi)\n",
    "\t# LocalOptSolver to find the locally optimal solution (uses KNITRO)\n",
    "\t# BoundCompSolver to find valid bounds on the decision variables (uses Alpine)\n",
    "\t# [🐯 ] cost coefficients\n",
    "    c_f = c_f_input, c_x = c_x_input, c_g = c_g_input, c_p = c_p_input,\n",
    "\tι_f = ι_f_input, ι_x = ι_x_input, ι_g = ι_g_input, ι_p = ι_p_input,\n",
    "\tshow_output = :on, # options are :on and :off\n",
    "\tlower_bound_opt_val = 0,\n",
    "\tupper_bound_opt_val = Inf,\n",
    "\timpose_pattern_interpolation = :off,\n",
    "\timpose_pattern_noninterpolation = :off,\n",
    "\tbound_impose = :off, # # options are :generic, and :off\n",
    "\tbound_M = Inf,\n",
    "\tlower_bound_var = [], # lower bound vector on the decision variables\n",
    "\tupper_bound_var = [], # upper bound vector on the decision variables\n",
    "\tPSDness_modeling = :exact, # options are :exact and :through_ϵ and :lazy_constraint_callback\n",
    "    ϵ_tol_feas = 1e-6, # feasiblity tolerance for minimum eigenvalue of G\n",
    "    maxCutCount=1e6, # number of lazy cuts when we use lazy constraints for modeling G = L_cholesky*L_cholesky\n",
    "\tPRP_Plus = :off, # options are :positive_case, :negative_case and :off\n",
    "    c_0_input_initial = c_0_input_initial_given,\n",
    "\tη_2_input = η_2\n",
    "\t)\n",
    "\n",
    "## Set the warm-starting points for the later stage\n",
    "\n",
    "G_ws, Ft_ws, L_cholesky_ws, γ_kM1_ws, β_kM1_ws, t_ws, lower_bound_var_ws, upper_bound_var_ws, solve_time_ws = G_loc_opt, Ft_loc_opt, L_cholesky_loc_opt, γ_kM1_loc_opt, β_kM1_loc_opt, t_loc_opt, lower_bound_var_loc_opt, upper_bound_var_loc_opt, solve_time_loc_opt\n",
    "\n",
    "## Compute bound\n",
    "\n",
    "bound_M_G_loc_opt = 3*maximum(G_loc_opt[i,i] for i in 1:size(G_loc_opt,1));\n",
    "\n",
    "bound_M_F_loc_opt = 3*maximum(Ft_loc_opt[i] for i in 1:size(Ft_loc_opt,1));\n",
    "\n",
    "bound_M_loc_opt = maximum([bound_M_G_loc_opt, bound_M_F_loc_opt]);"
   ]
  },
  {
   "cell_type": "code",
   "execution_count": 40,
   "id": "c66fd5af-55b0-4a58-af35-94b2ff8da2df",
   "metadata": {},
   "outputs": [
    {
     "name": "stdout",
     "output_type": "stream",
     "text": [
      "Set parameter NonConvex to value 2\n",
      "Set parameter MIPFocus to value 3\n",
      "Set parameter MIPGap to value 0.01\n",
      "Set parameter Presolve to value 2\n",
      "Set parameter MIPFocus to value 1\n"
     ]
    },
    {
     "name": "stderr",
     "output_type": "stream",
     "text": [
      "\u001b[36m\u001b[1m[ \u001b[22m\u001b[39m\u001b[36m\u001b[1mInfo: \u001b[22m\u001b[39m[🎉 ] defining the variables\n",
      "\u001b[36m\u001b[1m[ \u001b[22m\u001b[39m\u001b[36m\u001b[1mInfo: \u001b[22m\u001b[39m[💣 ] imposing bound on the the entries of G, F based on Lyapunov function choice\n",
      "\u001b[36m\u001b[1m[ \u001b[22m\u001b[39m\u001b[36m\u001b[1mInfo: \u001b[22m\u001b[39m[🎍 ] adding the data generator function to create 𝐱, 𝐠, 𝐟\n",
      "\u001b[36m\u001b[1m[ \u001b[22m\u001b[39m\u001b[36m\u001b[1mInfo: \u001b[22m\u001b[39m[🎢 ] adding the constraints\n",
      "\u001b[36m\u001b[1m[ \u001b[22m\u001b[39m\u001b[36m\u001b[1mInfo: \u001b[22m\u001b[39mconinterpol ℓ = i_j_idx(-1, 0)\n",
      "\u001b[36m\u001b[1m[ \u001b[22m\u001b[39m\u001b[36m\u001b[1mInfo: \u001b[22m\u001b[39mconinterpol ℓ = i_j_idx(-1, 1)\n",
      "\u001b[36m\u001b[1m[ \u001b[22m\u001b[39m\u001b[36m\u001b[1mInfo: \u001b[22m\u001b[39mconinterpol ℓ = i_j_idx(0, -1)\n",
      "\u001b[36m\u001b[1m[ \u001b[22m\u001b[39m\u001b[36m\u001b[1mInfo: \u001b[22m\u001b[39mconinterpol ℓ = i_j_idx(0, 1)\n",
      "\u001b[36m\u001b[1m[ \u001b[22m\u001b[39m\u001b[36m\u001b[1mInfo: \u001b[22m\u001b[39mconinterpol ℓ = i_j_idx(1, -1)\n",
      "\u001b[36m\u001b[1m[ \u001b[22m\u001b[39m\u001b[36m\u001b[1mInfo: \u001b[22m\u001b[39mconinterpol ℓ = i_j_idx(1, 0)\n",
      "\u001b[36m\u001b[1m[ \u001b[22m\u001b[39m\u001b[36m\u001b[1mInfo: \u001b[22m\u001b[39m[🎇 ] adding objective\n",
      "\u001b[36m\u001b[1m[ \u001b[22m\u001b[39m\u001b[36m\u001b[1mInfo: \u001b[22m\u001b[39m[👲 ] warm-start values for all the variables\n",
      "\u001b[36m\u001b[1m[ \u001b[22m\u001b[39m\u001b[36m\u001b[1mInfo: \u001b[22m\u001b[39m[🙌 \t🙏 ] model building done, starting the optimization process\n",
      "\u001b[36m\u001b[1m[ \u001b[22m\u001b[39m\u001b[36m\u001b[1mInfo: \u001b[22m\u001b[39m[😻 ] optimal solution found done, store the solution\n"
     ]
    },
    {
     "name": "stdout",
     "output_type": "stream",
     "text": [
      "Set parameter NonConvex to value 2\n",
      "Set parameter MIPFocus to value 1\n",
      "Set parameter MIPGap to value 0.01\n",
      "Set parameter Presolve to value 2\n",
      "Set parameter LazyConstraints to value 1\n",
      "Gurobi Optimizer version 10.0.0 build v10.0.0rc2 (mac64[rosetta2])\n",
      "\n",
      "CPU model: Apple M1 Max\n",
      "Thread count: 10 physical cores, 10 logical processors, using up to 10 threads\n",
      "\n",
      "Optimize a model with 209 rows, 111 columns and 1088 nonzeros\n",
      "Model fingerprint: 0xd3d10540\n",
      "Model has 66 quadratic constraints\n",
      "Coefficient statistics:\n",
      "  Matrix range     [8e-07, 4e+00]\n",
      "  QMatrix range    [5e-01, 2e+00]\n",
      "  QLMatrix range   [1e+00, 2e+00]\n",
      "  Objective range  [1e+00, 1e+00]\n",
      "  Bounds range     [2e+00, 1e+01]\n",
      "  RHS range        [1e+00, 1e+00]\n",
      "  QRHS range       [1e+00, 1e+00]\n",
      "Presolve removed 108 rows and 78 columns\n",
      "\n",
      "Continuous model is non-convex -- solving as a MIP\n",
      "\n",
      "\n",
      "Loaded user MIP start with objective 0.36\n",
      "\n",
      "Presolve removed 115 rows and 87 columns\n",
      "Presolve time: 0.00s\n",
      "Presolved: 113 rows, 27 columns, 663 nonzeros\n",
      "Presolved model has 6 bilinear constraint(s)\n",
      "Variable types: 27 continuous, 0 integer (0 binary)\n",
      "Root relaxation presolved: 111 rows, 27 columns, 661 nonzeros\n",
      "\n",
      "\n",
      "Root relaxation: objective 4.396074e+00, 28 iterations, 0.00 seconds (0.00 work units)\n",
      "\n",
      "    Nodes    |    Current Node    |     Objective Bounds      |     Work\n",
      " Expl Unexpl |  Obj  Depth IntInf | Incumbent    BestBd   Gap | It/Node Time\n",
      "\n",
      "     0     0    4.39607    0    5    0.36000    4.39607  1121%     -    0s\n",
      "     0     0    0.96387    0    6    0.36000    0.96387   168%     -    0s\n",
      "     0     0    0.89056    0    6    0.36000    0.89056   147%     -    0s\n",
      "     0     0    0.76750    0    6    0.36000    0.76750   113%     -    0s\n",
      "     0     0    0.73269    0    6    0.36000    0.73269   104%     -    0s\n",
      "     0     0    0.72347    0    6    0.36000    0.72347   101%     -    0s\n",
      "     0     0    0.70160    0    6    0.36000    0.70160  94.9%     -    0s\n",
      "     0     0    0.69658    0    5    0.36000    0.69658  93.5%     -    0s\n",
      "     0     2    0.69658    0    5    0.36000    0.69658  93.5%     -    0s\n",
      "\n",
      "Cutting planes:\n",
      "  RLT: 2\n",
      "  PSD: 8\n",
      "  Lazy constraints: 224\n",
      "\n",
      "Explored 390 nodes (1486 simplex iterations) in 0.29 seconds (0.05 work units)\n",
      "Thread count was 10 (of 10 available processors)\n",
      "\n",
      "Solution count 1: 0.36 \n",
      "\n",
      "Optimal solution found (tolerance 1.00e-02)\n",
      "Best objective 3.600002733458e-01, best bound 3.631232469023e-01, gap 0.8675%\n",
      "\n",
      "User-callback calls 1252, time in user-callback 0.07 sec\n"
     ]
    },
    {
     "name": "stderr",
     "output_type": "stream",
     "text": [
      "\u001b[36m\u001b[1m[ \u001b[22m\u001b[39m\u001b[36m\u001b[1mInfo: \u001b[22m\u001b[39m[💹 ] warm-start objective value = 0.3600002733457846, and objective value of found solution = 0.3600002733457846\n",
      "\u001b[36m\u001b[1m[ \u001b[22m\u001b[39m\u001b[36m\u001b[1mInfo: \u001b[22m\u001b[39mIMPORTANT INFO\n",
      "\u001b[36m\u001b[1m[ \u001b[22m\u001b[39m\u001b[36m\u001b[1mInfo: \u001b[22m\u001b[39m------------------------------------------\n",
      "\u001b[36m\u001b[1m[ \u001b[22m\u001b[39m\u001b[36m\u001b[1mInfo: \u001b[22m\u001b[39m||g_{k-1}||^2 =  1.1999998142876516\n",
      "\u001b[36m\u001b[1m[ \u001b[22m\u001b[39m\u001b[36m\u001b[1mInfo: \u001b[22m\u001b[39m||p_{k-1}||^2 = 1.349999791073608\n",
      "\u001b[36m\u001b[1m[ \u001b[22m\u001b[39m\u001b[36m\u001b[1mInfo: \u001b[22m\u001b[39mNCG-PEP Theory PRP ( f_{k+1} - f_⋆ ) / ( f_k - f_⋆ ) = 0.36\n",
      "\u001b[36m\u001b[1m[ \u001b[22m\u001b[39m\u001b[36m\u001b[1mInfo: \u001b[22m\u001b[39mNCG-PEP Numerical ( f_{k+1} - f_⋆ ) / ( f_k - f_⋆ )= 0.3600002733457846\n",
      "\u001b[36m\u001b[1m[ \u001b[22m\u001b[39m\u001b[36m\u001b[1mInfo: \u001b[22m\u001b[39m------------------------------------------\n"
     ]
    },
    {
     "data": {
      "text/plain": [
       "([3.5988028435692203 1.9997006195072409 0.7197636879990472 1.7997752406277492; 1.9997006195072409 1.1999998142876516 0.23998103585594127 1.1999998142876516; 0.7197636879990472 0.23998103585594127 0.431931601491017 0.0; 1.7997752406277492 1.1999998142876516 0.0 1.349999791073608], [1.0, 0.3600002733457846], [1.8970511033831643 0.0 0.0 0.0; 1.0541100163371706 0.2980804526239485 0.0 0.0; 0.37941183503415654 -0.5366361102097084 0.0 0.0; 0.9487225839277059 0.6707646870663218 0.0 0.0], 1.0667930000764576, 0.1599588296094507, 0.3600002733457846, Any[], Any[], 0.30562520027160645)"
      ]
     },
     "execution_count": 40,
     "metadata": {},
     "output_type": "execute_result"
    }
   ],
   "source": [
    "## Compute globally optimal solution\n",
    "\n",
    "G_glb_opt, Ft_glb_opt, L_cholesky_glb_opt, γ_kM1_glb_opt, β_kM1_glb_opt, t_glb_opt, lower_bound_var_glb_opt, upper_bound_var_glb_opt, solve_time_glb_opt = Ratio_of_Function_Values_Model(\n",
    "\t# different parameters to be used\n",
    "    # -------------------------------\n",
    "    μ, L, R,\n",
    "    # warm-start points\n",
    "    # -----------------\n",
    "    idx_set_λ_ws_effective, G_ws, Ft_ws, L_cholesky_ws, γ_kM1_ws,  β_kM1_ws;\n",
    "\t# different options\n",
    "\t# -----------------\n",
    "\t# [🐘 ] solver type\n",
    "\tsolver = GlobalOptSolver,\n",
    "\t# the solvers are:\n",
    "\t# GlobalOptSolver to find the globally optimal solution (uses gurobi)\n",
    "\t# LocalOptSolver to find the locally optimal solution (uses KNITRO)\n",
    "\t# BoundCompSolver to find valid bounds on the decision variables (uses Alpine)\n",
    "\t# [🐯 ] cost coefficients\n",
    "    c_f = c_f_input, c_x = c_x_input, c_g = c_g_input, c_p = c_p_input,\n",
    "\tι_f = ι_f_input, ι_x = ι_x_input, ι_g = ι_g_input, ι_p = ι_p_input,\n",
    "\tshow_output = :on, # options are :on and :off\n",
    "\tlower_bound_opt_val = 0,\n",
    "\tupper_bound_opt_val = Inf,\n",
    "\timpose_pattern_interpolation = :off,\n",
    "\timpose_pattern_noninterpolation = :off,\n",
    "\tbound_impose = :generic, # # options are :generic, :alpine, and :off\n",
    "\tbound_M = bound_M_loc_opt,\n",
    "\tlower_bound_var = [], # lower bound vector on the decision variables\n",
    "\tupper_bound_var = [], # upper bound vector on the decision variables\n",
    "\tPSDness_modeling = :lazy_constraint_callback, # options are :exact and :through_ϵ and :lazy_constraint_callback\n",
    "    ϵ_tol_feas = 1e-6, # feasiblity tolerance for minimum eigenvalue of G\n",
    "    maxCutCount=1e6, # number of lazy cuts when we use lazy constraints for modeling G = L_cholesky*L_cholesky\n",
    "\tPRP_Plus = :off, # options are :positive_case, :negative_case and :off\n",
    "\tc_0_input_initial = c_0_input_initial_given,\n",
    "\tη_2_input = η_2\n",
    "\t)\n",
    "\n",
    "## Set the warm-starting points for the later stage\n",
    "\n",
    "G_ws, Ft_ws, L_cholesky_ws, γ_kM1_ws, β_kM1_ws, t_ws, lower_bound_var_ws, upper_bound_var_ws, solve_time_ws = G_glb_opt, Ft_glb_opt, L_cholesky_glb_opt, γ_kM1_glb_opt, β_kM1_glb_opt, t_glb_opt, lower_bound_var_glb_opt, upper_bound_var_glb_opt, solve_time_glb_opt"
   ]
  },
  {
   "cell_type": "code",
   "execution_count": 41,
   "id": "099ef38d-09e5-41c4-9f15-fd177352b64d",
   "metadata": {},
   "outputs": [
    {
     "name": "stdout",
     "output_type": "stream",
     "text": [
      "\n",
      "=======================================\n",
      "           Academic License\n",
      "       (NOT FOR COMMERCIAL USE)\n",
      "         Artelys Knitro 13.1.0\n",
      "=======================================\n",
      "\n",
      "Knitro presolve eliminated 82 variables and 146 constraints.\n",
      "\n",
      "algorithm:               1\n",
      "convex:                  0\n",
      "datacheck:               0\n",
      "hessian_no_f:            1\n",
      "honorbnds:               1\n",
      "strat_warm_start:        1\n",
      "The problem is identified as a QCQP.\n",
      "Knitro shifted start point further inside presolved bounds (2 variables).\n",
      "Knitro fixing 78 variables eliminated from the presolve.\n",
      "\n",
      "Problem Characteristics                                 (   Presolved)\n",
      "-----------------------\n",
      "Objective goal:  Maximize\n",
      "Objective type:  linear\n",
      "Number of variables:                                111 (          29)\n",
      "    bounded below only:                               2 (           8)\n",
      "    bounded above only:                               0 (           0)\n",
      "    bounded below and above:                          0 (           2)\n",
      "    fixed:                                            6 (           0)\n",
      "    free:                                           103 (          19)\n",
      "Number of constraints:                              201 (          55)\n",
      "    linear equalities:                              138 (          10)\n",
      "    quadratic equalities:                            18 (          16)\n",
      "    gen. nonlinear equalities:                        0 (           0)\n",
      "    linear one-sided inequalities:                   41 (          25)\n",
      "    quadratic one-sided inequalities:                 4 (           4)\n",
      "    gen. nonlinear one-sided inequalities:            0 (           0)\n",
      "    linear two-sided inequalities:                    0 (           0)\n",
      "    quadratic two-sided inequalities:                 0 (           0)\n",
      "    gen. nonlinear two-sided inequalities:            0 (           0)\n",
      "Number of nonzeros in Jacobian:                     488 (         204)\n",
      "Number of nonzeros in Hessian:                       85 (          30)\n",
      "\n",
      "WARNING: Problem has more equality constraints than variables.\n",
      "\n",
      "Knitro using the Interior-Point/Barrier Direct algorithm.\n",
      "\n",
      "  Iter      Objective      FeasError   OptError    ||Step||    CGits \n",
      "--------  --------------  ----------  ----------  ----------  -------\n",
      "       0    3.600003e-01   1.042e-07\n",
      "       3    3.600000e-01   2.068e-08   2.391e-08   6.592e-04        0\n",
      "\n",
      "EXIT: Locally optimal solution found.\n",
      "\n",
      "Final Statistics\n",
      "----------------\n",
      "Final objective value               =   3.60000007164086e-01\n",
      "Final feasibility error (abs / rel) =   2.07e-08 / 2.07e-08\n",
      "Final optimality error  (abs / rel) =   2.39e-08 / 2.39e-08\n",
      "# of iterations                     =          3 \n",
      "# of CG iterations                  =          0 \n",
      "# of function evaluations           =          0\n",
      "# of gradient evaluations           =          0\n",
      "# of Hessian evaluations            =          0\n",
      "Total program time (secs)           =       0.00135 (     0.001 CPU time)\n",
      "Time spent in evaluations (secs)    =       0.00000\n",
      "\n",
      "===============================================================================\n",
      "\n"
     ]
    },
    {
     "name": "stderr",
     "output_type": "stream",
     "text": [
      "\u001b[36m\u001b[1m[ \u001b[22m\u001b[39m\u001b[36m\u001b[1mInfo: \u001b[22m\u001b[39m[🎉 ] defining the variables\n",
      "\u001b[36m\u001b[1m[ \u001b[22m\u001b[39m\u001b[36m\u001b[1mInfo: \u001b[22m\u001b[39mno bound imposed\n",
      "\u001b[36m\u001b[1m[ \u001b[22m\u001b[39m\u001b[36m\u001b[1mInfo: \u001b[22m\u001b[39m[🎍 ] adding the data generator function to create 𝐱, 𝐠, 𝐟\n",
      "\u001b[36m\u001b[1m[ \u001b[22m\u001b[39m\u001b[36m\u001b[1mInfo: \u001b[22m\u001b[39m[🎢 ] adding the constraints\n",
      "\u001b[36m\u001b[1m[ \u001b[22m\u001b[39m\u001b[36m\u001b[1mInfo: \u001b[22m\u001b[39mconinterpol ℓ = i_j_idx(-1, 0)\n",
      "\u001b[36m\u001b[1m[ \u001b[22m\u001b[39m\u001b[36m\u001b[1mInfo: \u001b[22m\u001b[39mconinterpol ℓ = i_j_idx(-1, 1)\n",
      "\u001b[36m\u001b[1m[ \u001b[22m\u001b[39m\u001b[36m\u001b[1mInfo: \u001b[22m\u001b[39mconinterpol ℓ = i_j_idx(0, -1)\n",
      "\u001b[36m\u001b[1m[ \u001b[22m\u001b[39m\u001b[36m\u001b[1mInfo: \u001b[22m\u001b[39mconinterpol ℓ = i_j_idx(0, 1)\n",
      "\u001b[36m\u001b[1m[ \u001b[22m\u001b[39m\u001b[36m\u001b[1mInfo: \u001b[22m\u001b[39mconinterpol ℓ = i_j_idx(1, -1)\n",
      "\u001b[36m\u001b[1m[ \u001b[22m\u001b[39m\u001b[36m\u001b[1mInfo: \u001b[22m\u001b[39mconinterpol ℓ = i_j_idx(1, 0)\n",
      "\u001b[36m\u001b[1m[ \u001b[22m\u001b[39m\u001b[36m\u001b[1mInfo: \u001b[22m\u001b[39m[🎇 ] adding objective\n",
      "\u001b[36m\u001b[1m[ \u001b[22m\u001b[39m\u001b[36m\u001b[1mInfo: \u001b[22m\u001b[39m[👲 ] warm-start values for all the variables\n",
      "\u001b[36m\u001b[1m[ \u001b[22m\u001b[39m\u001b[36m\u001b[1mInfo: \u001b[22m\u001b[39m[🙌 \t🙏 ] model building done, starting the optimization process\n",
      "\u001b[36m\u001b[1m[ \u001b[22m\u001b[39m\u001b[36m\u001b[1mInfo: \u001b[22m\u001b[39m[😻 ] optimal solution found done, store the solution\n",
      "\u001b[36m\u001b[1m[ \u001b[22m\u001b[39m\u001b[36m\u001b[1mInfo: \u001b[22m\u001b[39m[💹 ] warm-start objective value = 0.3600002733457846, and objective value of found solution = 0.3600000071640856\n",
      "\u001b[36m\u001b[1m[ \u001b[22m\u001b[39m\u001b[36m\u001b[1mInfo: \u001b[22m\u001b[39mIMPORTANT INFO\n",
      "\u001b[36m\u001b[1m[ \u001b[22m\u001b[39m\u001b[36m\u001b[1mInfo: \u001b[22m\u001b[39m------------------------------------------\n",
      "\u001b[36m\u001b[1m[ \u001b[22m\u001b[39m\u001b[36m\u001b[1mInfo: \u001b[22m\u001b[39m||g_{k-1}||^2 =  1.1999999922394473\n",
      "\u001b[36m\u001b[1m[ \u001b[22m\u001b[39m\u001b[36m\u001b[1mInfo: \u001b[22m\u001b[39m||p_{k-1}||^2 = 1.349999991269378\n",
      "\u001b[36m\u001b[1m[ \u001b[22m\u001b[39m\u001b[36m\u001b[1mInfo: \u001b[22m\u001b[39mNCG-PEP Theory PRP ( f_{k+1} - f_⋆ ) / ( f_k - f_⋆ ) = 0.36\n",
      "\u001b[36m\u001b[1m[ \u001b[22m\u001b[39m\u001b[36m\u001b[1mInfo: \u001b[22m\u001b[39mNCG-PEP Numerical ( f_{k+1} - f_⋆ ) / ( f_k - f_⋆ )= 0.3600000071640856\n",
      "\u001b[36m\u001b[1m[ \u001b[22m\u001b[39m\u001b[36m\u001b[1mInfo: \u001b[22m\u001b[39m------------------------------------------\n",
      "\u001b[36m\u001b[1m[ \u001b[22m\u001b[39m\u001b[36m\u001b[1mInfo: \u001b[22m\u001b[39m[💀 ] The dual multipliers for interpolation inequalities are: [-0.24000679607100053, -0.4000629502928139, -6.157895505642325e-5, -0.5999905513544345, -8.16084692459251e-6, -4.5341212187332725e-5]\n"
     ]
    },
    {
     "data": {
      "text/plain": [
       "([3.599667497372845 1.9999168704316874 0.7199346352648768 1.7999376495053419; 1.9999168704316874 1.1999999922394473 0.23999483520655507 1.1999999922394475; 0.7199346352648768 0.23999483520655507 0.4319814085789792 0.0; 1.7999376495053419 1.1999999922394475 0.0 1.349999991269378], [1.0, 0.36000000707305213], [1.8972789723623942 0.0 0.0 0.0; 1.0540974193972938 0.29812518305274716 0.0 0.0; 0.379456392067821 -0.5366509631993033 0.0 0.0; 0.9486942485457361 0.6708048998404537 0.0 0.0], 1.0667010860346273, 0.1599888121763658, 0.3600000071640856, Any[], Any[], 0.0013470000121742487)"
      ]
     },
     "execution_count": 41,
     "metadata": {},
     "output_type": "execute_result"
    }
   ],
   "source": [
    "## Polish the globally optimal solution\n",
    "\n",
    "G_glb_opt_plshd, Ft_glb_opt_plshd, L_cholesky_glb_opt_plshd, γ_kM1_glb_opt_plshd, β_kM1_glb_opt_plshd, t_glb_opt_plshd, lower_bound_var_glb_opt_plshd, upper_bound_var_glb_opt_plshd, solve_time_glb_opt_plshd = Ratio_of_Function_Values_Model(\n",
    "\t# different parameters to be used\n",
    "    # -------------------------------\n",
    "    μ, L, R,\n",
    "    # warm-start points\n",
    "    # -----------------\n",
    "    idx_set_λ_ws_effective, G_ws, Ft_ws, L_cholesky_ws, γ_kM1_ws,  β_kM1_ws;\n",
    "\t# different options\n",
    "\t# -----------------\n",
    "\t# [🐘 ] solver type\n",
    "\tsolver = LocalOptSolver,\n",
    "\t# the solvers are:\n",
    "\t# GlobalOptSolver to find the globally optimal solution (uses gurobi)\n",
    "\t# LocalOptSolver to find the locally optimal solution (uses KNITRO)\n",
    "\t# BoundCompSolver to find valid bounds on the decision variables (uses Alpine)\n",
    "\t# [🐯 ] cost coefficients\n",
    "    c_f = c_f_input, c_x = c_x_input, c_g = c_g_input, c_p = c_p_input,\n",
    "\tι_f = ι_f_input, ι_x = ι_x_input, ι_g = ι_g_input, ι_p = ι_p_input,\n",
    "\tshow_output = :on, # options are :on and :off\n",
    "\tlower_bound_opt_val = 0,\n",
    "\tupper_bound_opt_val = Inf,\n",
    "\timpose_pattern_interpolation = :off,\n",
    "\timpose_pattern_noninterpolation = :off,\n",
    "\tbound_impose = :off, # # options are :generic, :alpine, and :off\n",
    "\tbound_M = bound_M_loc_opt,\n",
    "\tlower_bound_var = [], # lower bound vector on the decision variables\n",
    "\tupper_bound_var = [], # upper bound vector on the decision variables\n",
    "\tPSDness_modeling = :exact, # options are :exact and :through_ϵ and :lazy_constraint_callback\n",
    "    ϵ_tol_feas = 1e-4, # feasiblity tolerance for minimum eigenvalue of G\n",
    "    maxCutCount=1e6, # number of lazy cuts when we use lazy constraints for modeling G = L_cholesky*L_cholesky\n",
    "\tPRP_Plus = :off, # options are :positive_case, :negative_case and :off\n",
    "\tc_0_input_initial = c_0_input_initial_given,\n",
    "\tη_2_input = η_2\n",
    "\t)\n"
   ]
  },
  {
   "cell_type": "code",
   "execution_count": 42,
   "id": "c5e407d0-2ada-4d86-a71d-f7a17e2cd451",
   "metadata": {},
   "outputs": [
    {
     "name": "stdout",
     "output_type": "stream",
     "text": [
      "Problem\n",
      "  Name                   :                 \n",
      "  Objective sense        : maximize        \n",
      "  Type                   : CONIC (conic optimization problem)\n",
      "  Constraints            : 14              \n",
      "  Affine conic cons.     : 0               \n",
      "  Disjunctive cons.      : 0               \n",
      "  Cones                  : 0               \n",
      "  Scalar variables       : 3               \n",
      "  Matrix variables       : 1               \n",
      "  Integer variables      : 0               \n",
      "\n",
      "Optimizer started.\n",
      "Presolve started.\n",
      "Linear dependency checker started.\n",
      "Linear dependency checker terminated.\n",
      "Eliminator started.\n",
      "Freed constraints in eliminator : 0\n",
      "Eliminator terminated.\n",
      "Eliminator - tries                  : 1                 time                   : 0.00            \n",
      "Lin. dep.  - tries                  : 1                 time                   : 0.00            \n",
      "Lin. dep.  - number                 : 0               \n",
      "Presolve terminated. Time: 0.00    \n",
      "Problem\n",
      "  Name                   :                 \n",
      "  Objective sense        : maximize        \n",
      "  Type                   : CONIC (conic optimization problem)\n",
      "  Constraints            : 14              \n",
      "  Affine conic cons.     : 0               \n",
      "  Disjunctive cons.      : 0               \n",
      "  Cones                  : 0               \n",
      "  Scalar variables       : 3               \n",
      "  Matrix variables       : 1               \n",
      "  Integer variables      : 0               \n",
      "\n",
      "Optimizer  - threads                : 10              \n",
      "Optimizer  - solved problem         : the primal      \n",
      "Optimizer  - Constraints            : 11\n",
      "Optimizer  - Cones                  : 0\n",
      "Optimizer  - Scalar variables       : 7                 conic                  : 0               \n",
      "Optimizer  - Semi-definite variables: 1                 scalarized             : 10              \n",
      "Factor     - setup time             : 0.00              dense det. time        : 0.00            \n",
      "Factor     - ML order time          : 0.00              GP order time          : 0.00            \n",
      "Factor     - nonzeros before factor : 66                after factor           : 66              \n",
      "Factor     - dense dim.             : 0                 flops                  : 1.74e+03        \n",
      "ITE PFEAS    DFEAS    GFEAS    PRSTATUS   POBJ              DOBJ              MU       TIME  \n",
      "0   2.5e+00  1.0e+00  1.0e+00  0.00e+00   0.000000000e+00   0.000000000e+00   1.0e+00  0.00  \n",
      "1   6.1e-01  2.4e-01  2.4e-01  -2.60e-01  9.093473460e-01   3.521971875e-01   2.4e-01  0.01  \n",
      "2   2.0e-01  7.9e-02  5.8e-02  3.88e-01   6.590807113e-01   3.225446989e-01   7.9e-02  0.01  \n",
      "3   4.6e-02  1.8e-02  2.8e-03  9.04e-01   3.976890520e-01   4.148886890e-01   1.8e-02  0.01  \n",
      "4   8.3e-03  3.3e-03  2.2e-04  1.70e+00   3.535406567e-01   3.545382639e-01   3.3e-03  0.01  \n",
      "5   2.1e-03  8.2e-04  2.9e-05  1.17e+00   3.584194979e-01   3.584174317e-01   8.2e-04  0.01  \n",
      "6   5.8e-04  2.3e-04  4.6e-06  1.06e+00   3.594330953e-01   3.593708257e-01   2.3e-04  0.01  \n",
      "7   1.9e-04  7.5e-05  8.7e-07  1.02e+00   3.599854915e-01   3.599578286e-01   7.5e-05  0.01  \n",
      "8   5.0e-05  2.0e-05  1.2e-07  1.04e+00   3.599408302e-01   3.599332425e-01   2.0e-05  0.01  \n",
      "9   1.2e-05  4.8e-06  1.3e-08  1.05e+00   3.599980195e-01   3.599966084e-01   4.8e-06  0.01  \n",
      "10  2.7e-06  1.1e-06  1.4e-09  1.10e+00   3.599978725e-01   3.599976471e-01   1.1e-06  0.01  \n",
      "11  6.2e-07  2.5e-07  1.5e-10  1.05e+00   3.599998736e-01   3.599998168e-01   2.5e-07  0.01  \n",
      "12  1.5e-07  6.1e-08  1.8e-11  1.01e+00   3.599998820e-01   3.599998672e-01   6.1e-08  0.01  \n",
      "13  4.0e-08  1.6e-08  2.5e-12  1.00e+00   3.599999951e-01   3.599999910e-01   1.6e-08  0.01  \n",
      "14  1.0e-08  4.7e-09  3.3e-13  1.00e+00   3.599999910e-01   3.599999899e-01   4.2e-09  0.01  \n",
      "Optimizer terminated. Time: 0.01    \n",
      "\n"
     ]
    },
    {
     "name": "stderr",
     "output_type": "stream",
     "text": [
      "\u001b[36m\u001b[1m[ \u001b[22m\u001b[39m\u001b[36m\u001b[1mInfo: \u001b[22m\u001b[39m[🎍 ] adding the data generator function to create 𝐱, 𝐠, 𝐟\n",
      "\u001b[36m\u001b[1m[ \u001b[22m\u001b[39m\u001b[36m\u001b[1mInfo: \u001b[22m\u001b[39m[🎉 ] defining the variables\n",
      "\u001b[36m\u001b[1m[ \u001b[22m\u001b[39m\u001b[36m\u001b[1mInfo: \u001b[22m\u001b[39m[🎢 ] adding the constraints\n",
      "\u001b[36m\u001b[1m[ \u001b[22m\u001b[39m\u001b[36m\u001b[1mInfo: \u001b[22m\u001b[39m[👲 ] warm-start values for all the variables\n",
      "\u001b[36m\u001b[1m[ \u001b[22m\u001b[39m\u001b[36m\u001b[1mInfo: \u001b[22m\u001b[39mTime to optimize\n",
      "\u001b[36m\u001b[1m[ \u001b[22m\u001b[39m\u001b[36m\u001b[1mInfo: \u001b[22m\u001b[39m[😈 ] Optimal solution found for solve_primal_with_known_stepsizes\n",
      "\u001b[36m\u001b[1m[ \u001b[22m\u001b[39m\u001b[36m\u001b[1mInfo: \u001b[22m\u001b[39m( f_{k+1} - f_⋆ ) / ( f_k - f_⋆ )= 0.3599999909960635\n",
      "\u001b[36m\u001b[1m[ \u001b[22m\u001b[39m\u001b[36m\u001b[1mInfo: \u001b[22m\u001b[39mNCG-PEP Theory PRP ( f_{k+1} - f_⋆ ) / ( f_k - f_⋆ ) = 0.36\n"
     ]
    },
    {
     "data": {
      "text/plain": [
       "(0.3599999909960635, [3.5993309917424408 1.9998327659975963 0.7198841629965799 1.7998745809747128; 1.9998327659975963 1.2000000278566978 0.23999484921126676 1.2000000227503251; 0.7198841629965799 0.23999484921126676 0.4319814325670142 3.5465617642785853e-12; 1.7998745809747128 1.2000000227503251 3.5465617642785853e-12 1.3500000307092082], [1.0, 0.3599999909960635], [1.8971902887539867 0.0 0.0 0.0; 1.0541023627687969 0.2981077601504802 0.0 0.0; 0.37944752683157257 -0.5366572318946514 0.00014967827641466184 0.0; 0.9487053521430425 0.670789211874255 -0.000119788756147063 0.0])"
      ]
     },
     "execution_count": 42,
     "metadata": {},
     "output_type": "execute_result"
    }
   ],
   "source": [
    "## Solve primal SDP by fixing the worst-case stepsize found from NCG-PEP\n",
    "\n",
    "p_star, G_star, Ft_star, L_cholesky_star = SDP_with_fixed_stepsize_ratio(\n",
    "\t# Inputs\n",
    "\t\t\t# ======\n",
    "\t\t\tμ, L, R, γ_kM1_glb_opt_plshd, β_kM1_glb_opt_plshd;\n",
    "\t\t\t# [🐯 ] cost coefficients\n",
    "\t\t\t# Options\n",
    "\t\t\t# =======\n",
    "\t\t\tη_2_input = η_2, # controls PRP or FR, if η = 1 => PRP, and if η = 0 => FR\n",
    "\t\t\tc_0_input_initial = c_0_input_initial_given, # decides ||g_0||^2 <= ||p_0||^2 <= c_0 ||g_0||^2\n",
    "\t\t\tshow_output = :on, # options are :on and :off\n",
    "\t\t\tϵ_tolerance = 1e-8,\n",
    "\t\t\treduce_index_set_for_λ = :off\n",
    "\t)"
   ]
  },
  {
   "cell_type": "code",
   "execution_count": 43,
   "id": "eee3cd5d-5288-4bf1-a743-ee48077751a9",
   "metadata": {},
   "outputs": [
    {
     "name": "stderr",
     "output_type": "stream",
     "text": [
      "\u001b[36m\u001b[1m[ \u001b[22m\u001b[39m\u001b[36m\u001b[1mInfo: \u001b[22m\u001b[39mp[:,0] = Any[0.9487053521430425, 0.670789211874255, -0.000119788756147063, 0.0]\n",
      "\u001b[36m\u001b[1m[ \u001b[22m\u001b[39m\u001b[36m\u001b[1mInfo: \u001b[22m\u001b[39mp[:,1] = Any[0.5312297692262988, -0.4293384626661688, 0.0001305134156066089, 0.0]\n"
     ]
    },
    {
     "data": {
      "text/plain": [
       "worst_case_function([0.0 1.8971902887539867 0.8852052592961397; 0.0 0.0 -0.7155315808065795; 0.0 0.0 0.00012777879627680924; 0.0 0.0 0.0], [0.0 1.0541023627687969 0.37944752683157257; 0.0 0.2981077601504802 -0.5366572318946514; 0.0 0.0 0.00014967827641466184; 0.0 0.0 0.0], [0.0, 1.0, 0.3599999909960635])"
      ]
     },
     "execution_count": 43,
     "metadata": {},
     "output_type": "execute_result"
    }
   ],
   "source": [
    "## Generate worst-case function\n",
    "\n",
    "wf = generate_worst_case_function_ratio(G_star, Ft_star, L_cholesky_star, γ_kM1_glb_opt_plshd, β_kM1_glb_opt_plshd)"
   ]
  },
  {
   "cell_type": "code",
   "execution_count": 44,
   "id": "0b39a6db-5ec2-4237-85e8-254a1bc67e3e",
   "metadata": {},
   "outputs": [
    {
     "data": {
      "text/plain": [
       "4×3 OffsetArray(::Matrix{Float64}, 1:4, -1:1) with eltype Float64 with indices 1:4×-1:1:\n",
       " 0.0  1.89719   0.885205\n",
       " 0.0  0.0      -0.715532\n",
       " 0.0  0.0       0.000127779\n",
       " 0.0  0.0       0.0"
      ]
     },
     "execution_count": 44,
     "metadata": {},
     "output_type": "execute_result"
    }
   ],
   "source": [
    "x_array = wf.x_array \n",
    "# first column of x_array = x_⋆, \n",
    "# second column of x_array = x_0\n",
    "# third column of x_array = x_1 and so on"
   ]
  },
  {
   "cell_type": "code",
   "execution_count": 45,
   "id": "b4ab58c8-7ac7-4740-8898-32e360fcbf34",
   "metadata": {},
   "outputs": [
    {
     "data": {
      "text/plain": [
       "4×3 OffsetArray(::Matrix{Float64}, 1:4, -1:1) with eltype Float64 with indices 1:4×-1:1:\n",
       " 0.0  1.0541     0.379448\n",
       " 0.0  0.298108  -0.536657\n",
       " 0.0  0.0        0.000149678\n",
       " 0.0  0.0        0.0"
      ]
     },
     "execution_count": 45,
     "metadata": {},
     "output_type": "execute_result"
    }
   ],
   "source": [
    "g_array = wf.g_array\n",
    "# first column of g_array = g_⋆, \n",
    "# second column of g_array = g_0\n",
    "# third column of g_array = g_1 and so on"
   ]
  },
  {
   "cell_type": "code",
   "execution_count": 46,
   "id": "e4f2d7ec-7257-4d58-b11d-a20014ba2217",
   "metadata": {},
   "outputs": [
    {
     "data": {
      "text/plain": [
       "3-element OffsetArray(::Vector{Float64}, -1:1) with eltype Float64 with indices -1:1:\n",
       " 0.0\n",
       " 1.0\n",
       " 0.3599999909960635"
      ]
     },
     "execution_count": 46,
     "metadata": {},
     "output_type": "execute_result"
    }
   ],
   "source": [
    "f_array = wf.f_array\n",
    "# first column of f_array = f_⋆, \n",
    "# second column of f_array = f_0\n",
    "# third column of f_array = f_1 and so on"
   ]
  },
  {
   "cell_type": "code",
   "execution_count": 47,
   "id": "dad3acd3-6fb7-41f6-9563-9b76bde001cd",
   "metadata": {},
   "outputs": [
    {
     "name": "stdout",
     "output_type": "stream",
     "text": [
      "Problem\n",
      "  Name                   :                 \n",
      "  Objective sense        : minimize        \n",
      "  Type                   : CONIC (conic optimization problem)\n",
      "  Constraints            : 18              \n",
      "  Affine conic cons.     : 0               \n",
      "  Disjunctive cons.      : 0               \n",
      "  Cones                  : 0               \n",
      "  Scalar variables       : 17              \n",
      "  Matrix variables       : 1               \n",
      "  Integer variables      : 0               \n",
      "\n",
      "Optimizer started.\n",
      "Presolve started.\n",
      "Linear dependency checker started.\n",
      "Linear dependency checker terminated.\n",
      "Eliminator started.\n",
      "Freed constraints in eliminator : 1\n",
      "Eliminator terminated.\n",
      "Eliminator started.\n",
      "Freed constraints in eliminator : 0\n",
      "Eliminator terminated.\n",
      "Eliminator - tries                  : 2                 time                   : 0.00            \n",
      "Lin. dep.  - tries                  : 1                 time                   : 0.00            \n",
      "Lin. dep.  - number                 : 0               \n",
      "Presolve terminated. Time: 0.00    \n",
      "Problem\n",
      "  Name                   :                 \n",
      "  Objective sense        : minimize        \n",
      "  Type                   : CONIC (conic optimization problem)\n",
      "  Constraints            : 18              \n",
      "  Affine conic cons.     : 0               \n",
      "  Disjunctive cons.      : 0               \n",
      "  Cones                  : 0               \n",
      "  Scalar variables       : 17              \n",
      "  Matrix variables       : 1               \n",
      "  Integer variables      : 0               \n",
      "\n",
      "Optimizer  - threads                : 10              \n",
      "Optimizer  - solved problem         : the primal      \n",
      "Optimizer  - Constraints            : 17\n",
      "Optimizer  - Cones                  : 1\n",
      "Optimizer  - Scalar variables       : 6                 conic                  : 3               \n",
      "Optimizer  - Semi-definite variables: 1                 scalarized             : 10              \n",
      "Factor     - setup time             : 0.00              dense det. time        : 0.00            \n",
      "Factor     - ML order time          : 0.00              GP order time          : 0.00            \n",
      "Factor     - nonzeros before factor : 149               after factor           : 149             \n",
      "Factor     - dense dim.             : 0                 flops                  : 2.66e+03        \n",
      "ITE PFEAS    DFEAS    GFEAS    PRSTATUS   POBJ              DOBJ              MU       TIME  \n",
      "0   2.1e+00  1.0e+00  1.0e+00  0.00e+00   0.000000000e+00   0.000000000e+00   1.0e+00  0.00  \n",
      "1   4.5e-01  2.1e-01  1.4e-01  1.21e-01   5.537302827e-02   1.837095212e-01   2.1e-01  0.00  \n",
      "2   1.3e-01  6.3e-02  2.4e-02  8.24e-01   1.418466152e-01   1.878377187e-01   6.3e-02  0.00  \n",
      "3   3.9e-02  1.8e-02  4.7e-03  7.39e-01   2.082931336e-01   2.398127853e-01   1.8e-02  0.00  \n",
      "4   4.2e-03  2.0e-03  1.2e-04  9.05e-01   3.498804125e-01   3.498061775e-01   2.0e-03  0.00  \n",
      "5   1.5e-04  7.1e-05  8.0e-07  9.89e-01   3.595260188e-01   3.595216716e-01   7.1e-05  0.00  \n",
      "6   1.6e-06  7.6e-07  8.7e-10  1.00e+00   3.599944361e-01   3.599943731e-01   7.6e-07  0.00  \n",
      "7   1.8e-07  8.7e-08  3.4e-11  1.00e+00   3.599993145e-01   3.599993080e-01   8.7e-08  0.01  \n",
      "Optimizer terminated. Time: 0.01    \n",
      "\n",
      "termination_status(model_dual_PEP_with_known_stepsizes) = MathOptInterface.OPTIMAL\n"
     ]
    },
    {
     "name": "stderr",
     "output_type": "stream",
     "text": [
      "\u001b[36m\u001b[1m[ \u001b[22m\u001b[39m\u001b[36m\u001b[1mInfo: \u001b[22m\u001b[39m[🎍 ] adding the data generator function to create 𝐱, 𝐠, 𝐟\n",
      "\u001b[36m\u001b[1m[ \u001b[22m\u001b[39m\u001b[36m\u001b[1mInfo: \u001b[22m\u001b[39m[🐒 ] Minimizing the usual performance measure\n",
      "\u001b[36m\u001b[1m[ \u001b[22m\u001b[39m\u001b[36m\u001b[1mInfo: \u001b[22m\u001b[39m[🌞 ] DUALSDP-POLISHED ratio = 0.35999931450428635\n",
      "\u001b[36m\u001b[1m[ \u001b[22m\u001b[39m\u001b[36m\u001b[1mInfo: \u001b[22m\u001b[39mNCG-PEP Theory PRP ( f_{k+1} - f_⋆ ) / ( f_k - f_⋆ ) = 0.36\n"
     ]
    }
   ],
   "source": [
    "## Dual SDP by fixing the stepsize\n",
    "\n",
    "p_star_dual, ℓ_1_norm_λ, tr_Z, λ_opt, ν_opt, τ_opt, ρ_opt, Z_opt, L_cholesky_opt_Z, idx_set_λ_effective, θ_opt = Dual_SDP_with_fixed_stepsize_ratio(\n",
    "\t# Inputs\n",
    "\t# ======\n",
    "\tμ, L, R, γ_kM1_glb_opt_plshd, β_kM1_glb_opt_plshd;\n",
    "\t# sparsifier coefficients\n",
    "\t# -----------------------\n",
    "\tc_λ = 1, c_τ = 0, c_Z = 0, c_ρ = 1,\n",
    "\t# Options\n",
    "\t# =======\n",
    "\tobjective_type = :default, # options are :default, :find_sparse_sol\n",
    "\tη_2_input = η_2, # controls PRP or FR, if η = 1 => PRP, and if η = 0 => FR\n",
    "\tc_0_input_initial = c_0_input_initial_given, # decides ||g_0||^2 <= ||p_0||^2 <= c_0 ||g_0||^2\n",
    "\tshow_output = :on, # options are :on and :off\n",
    "\tϵ_tolerance = 1e-4,\n",
    "\timpose_pattern = :on, # other option is :on\n",
    "\tobj_val_upper_bound = p_star\n",
    "\t);"
   ]
  },
  {
   "cell_type": "code",
   "execution_count": 48,
   "id": "1b26372a-2690-4b4d-be6f-811c2cc37368",
   "metadata": {},
   "outputs": [
    {
     "name": "stdout",
     "output_type": "stream",
     "text": [
      "mu = 0.5\n",
      "n = 1\n",
      "beta = [0.1599888121763658]\n",
      "gamma = [1.0667010860346273]\n",
      "rho_LB = 0.3599999909960635\n",
      "rho_UB = 0.3600000071640856\n",
      "########################################################################################################################\n",
      "# PLEASE NOTE THAT: eta = 1 means PRP, eta = 0 means FR, please change it depending on which data set you are loading\n",
      "########################################################################################################################\n",
      "eta = 1\n"
     ]
    }
   ],
   "source": [
    "# We use the printed output below in the PEPit verification code (file name: \"3. PEPIt_verification_Python.ipynb\")\n",
    "println( \"mu = \", μ)\n",
    "println( \"n = \", 1)\n",
    "println( \"beta = [\", β_kM1_glb_opt_plshd, \"]\")\n",
    "println( \"gamma = [\", γ_kM1_glb_opt_plshd, \"]\")\n",
    "println( \"rho_LB = \", p_star)\n",
    "println( \"rho_UB = \", t_glb_opt_plshd)\n",
    "# PLEASE NOTE THAT: eta = 1 means PRP, eta = 0 means FR, please change it depending on which data set you are loading\n",
    "println(\"########################################################################################################################\")\n",
    "println(\"# PLEASE NOTE THAT: eta = 1 means PRP, eta = 0 means FR, please change it depending on which data set you are loading\")\n",
    "println(\"########################################################################################################################\")\n",
    "println( \"eta = \", 1) "
   ]
  },
  {
   "cell_type": "code",
   "execution_count": null,
   "id": "ad2ea12d-0bcc-443e-9654-57d5163bd648",
   "metadata": {},
   "outputs": [],
   "source": []
  },
  {
   "cell_type": "code",
   "execution_count": null,
   "id": "ae9b1c4e-da1e-4f0b-9946-99dfcc273ad9",
   "metadata": {},
   "outputs": [],
   "source": []
  }
 ],
 "metadata": {
  "kernelspec": {
   "display_name": "Julia 1.9.2",
   "language": "julia",
   "name": "julia-1.9"
  },
  "language_info": {
   "file_extension": ".jl",
   "mimetype": "application/julia",
   "name": "julia",
   "version": "1.9.2"
  }
 },
 "nbformat": 4,
 "nbformat_minor": 5
}
