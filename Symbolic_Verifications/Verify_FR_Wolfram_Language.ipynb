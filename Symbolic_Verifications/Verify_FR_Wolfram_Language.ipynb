{
 "cells": [
  {
   "cell_type": "markdown",
   "id": "32cd64a5-386f-43e7-913f-a2f956d11ddd",
   "metadata": {},
   "source": [
    "# Symbolic verficiation for FR method"
   ]
  },
  {
   "cell_type": "markdown",
   "id": "c44cf505-acfd-4c74-adb2-990b8dbac05e",
   "metadata": {},
   "source": [
    "#### Part 1. Verify that \n",
    "\n",
    "\\begin{align*}\n",
    "0 & \\geq\\|\\nabla f(x_{k})\\|^{2}-\\nu(\\beta_{k-1},\\gamma_{k-1},c_{k-1},\\kappa)\\|\\nabla f(x_{k-1})\\|^{2}\\\\\n",
    " & +\\|\\sqrt[4]{\\frac{\\beta_{k-1}}{(c_{k-1}-1)c_{k-1}^{3}}}d_{k-1}-\\sqrt[4]{\\frac{\\beta_{k-1}c_{k-1}}{c_{k-1}-1}}\\nabla f(x_{k-1})+\\sqrt[4]{\\frac{c_{k-1}-1}{\\beta_{k-1}c_{k-1}}}\\nabla f(x_{k})\\|^{2}\n",
    "\\end{align*}\n",
    "\n",
    "where \n",
    "\n",
    "$$\\nu(\\beta_{k-1},\\gamma_{k-1},c_{k-1},\\kappa)=2\\sqrt{\\frac{c_{k-1}-1}{c_{k-1}}}\\sqrt{\\beta_{k-1}}-c_{k-1}\\gamma_{k-1}^{2}\\mu L+\\gamma_{k-1}(\\mu+L)-1.$$"
   ]
  },
  {
   "cell_type": "code",
   "execution_count": 360,
   "id": "1c425c17-5b07-43dc-823c-17816138b692",
   "metadata": {},
   "outputs": [],
   "source": [
    "(*Clear memory and all the variables*)\n",
    "ClearAll[\"Global`*\"];\n",
    "Remove[\"Global`*\"];\n",
    "SetOptions[EvaluationNotebook[], \n",
    "  CellEpilog :> SelectionMove[EvaluationNotebook[], Next, Cell]];\n",
    "SetOptions[$FrontEnd, \"FileChangeProtection\" -> None];\n",
    "(*You may get the warning:\n",
    "\"Remove::rmnsm: There are no symbols matching \"Global`*\".\"\n",
    "if you run this block twice,\n",
    "but that is fine\n",
    "*)"
   ]
  },
  {
   "cell_type": "code",
   "execution_count": 366,
   "id": "3f7a644c-a510-442d-8d8f-42a29cd942a2",
   "metadata": {},
   "outputs": [],
   "source": [
    "(* For notational convenience, in the code we let c[k-1] ≜ c, β[k-1] ≜ β, γ[k-1] ≜ γ*)\n",
    "\n",
    "(* System of NCGM *)\n",
    "(* ============== *)\n",
    "\n",
    "d[k] = g[k] + β d[k - 1];\n",
    "\n",
    "x[k] = x[k - 1] - γ d[k - 1];\n",
    "\n",
    "(* Constraints in consideration *)\n",
    "(* ============================ *)\n",
    "\n",
    "constraint1 = g[k - 1] d[k - 1] - g[k - 1]^2 (* == 0*);\n",
    "\n",
    "constraint2 = g[k] d[k - 1] (* == 0*);\n",
    "\n",
    "constraint3 = g[k]^2 - β g[k - 1]^2 (* == 0*);\n",
    "\n",
    "constraint4 = d[k - 1]^2 - c g[k - 1]^2 (* == 0*);\n",
    "\n",
    "constraint5 = \n",
    "  f[k] - f[k - 1] + γ g[k] d[k - 1] + (g[k - 1] - g[k])^2/(\n",
    "   2 L) + (μ (γ d[k - 1] - (g[k - 1] - g[k])/L)^2)/(\n",
    "   2 (1 - μ/L)) (* <= 0*);\n",
    "   \n",
    "constraint6 = \n",
    "  f[k - 1] - f[k] - γ g[k - 1] d[k - 1] + (g[k - 1] - g[k])^2/(\n",
    "   2 L) + (μ (γ d[k - 1] - (g[k - 1] - g[k])/L)^2)/(\n",
    "   2 (1 - μ/L)) (* <= 0*);\n",
    "   \n",
    "(* Weight λ\"i\" for constraint\"i\" *)   \n",
    "(* ============================ *)\n",
    "   \n",
    "λ1 = -((2 Sqrt[β])/(Sqrt[-1 + c] Sqrt[c])) + γ (L + μ);\n",
    "    \n",
    "λ2 = -γ (L + μ) + 2/c;\n",
    "\n",
    "λ3 = Sqrt[c - 1]/(Sqrt[β] Sqrt[c]);\n",
    "\n",
    "λ4 = \n",
    "  Sqrt[β]/(c (Sqrt[-1 + c] Sqrt[c])) - L γ^2 μ;\n",
    "  \n",
    "λ5 = L - μ;\n",
    "\n",
    "λ6 = L - μ;\n"
   ]
  },
  {
   "cell_type": "code",
   "execution_count": 426,
   "id": "77c34401-5bf9-4850-b363-c81eba134a5d",
   "metadata": {},
   "outputs": [
    {
     "data": {
      "text/html": [
       "<div><img alt=\"Output\" src=\"data:image/png;base64,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\"></div>"
      ],
      "text/plain": [
       "                 2                                                                   2\n",
       "Sqrt[β] d[-1 + k]    2 Sqrt[β] d[-1 + k] g[-1 + k]            2   2 Sqrt[β] g[-1 + k]\n",
       "------------------ - ----------------------------- + g[-1 + k]  + -------------------- - \n",
       "              3/2        Sqrt[-1 + c] Sqrt[c]                     Sqrt[-1 + c] Sqrt[c]\n",
       "Sqrt[-1 + c] c\n",
       " \n",
       "                             2\n",
       "    Sqrt[c] Sqrt[β] g[-1 + k]                 2                2        2            2\n",
       ">   -------------------------- - L γ g[-1 + k]  - γ μ g[-1 + k]  + c L γ  μ g[-1 + k]  + \n",
       "           Sqrt[-1 + c]\n",
       " \n",
       "                                                                 2\n",
       "    2 d[-1 + k] g[k]                          2              g[k]\n",
       ">   ---------------- - 2 g[-1 + k] g[k] + g[k]  - ---------------------------- + \n",
       "           c                                      Sqrt[-1 + c] Sqrt[c] Sqrt[β]\n",
       " \n",
       "                   2\n",
       "       Sqrt[c] g[k]\n",
       ">   --------------------\n",
       "    Sqrt[-1 + c] Sqrt[β]"
      ]
     },
     "execution_count": 426,
     "metadata": {
      "text/html": [],
      "text/plain": []
     },
     "output_type": "execute_result"
    }
   ],
   "source": [
    "WeightedSum = ((λ1*constraint1) + (λ2*\n",
    "       constraint2) + (λ3*constraint3) + (λ4*\n",
    "       constraint4) + (λ5*constraint5) + (λ6*\n",
    "       constraint6) // FullSimplify //Expand)"
   ]
  },
  {
   "cell_type": "code",
   "execution_count": 427,
   "id": "f9b611e7-f0c2-4130-8873-8914dfbfb08f",
   "metadata": {},
   "outputs": [
    {
     "data": {
      "text/html": [
       "<div><img alt=\"Output\" src=\"data:image/png;base64,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\"></div>"
      ],
      "text/plain": [
       "          β                2           β      1/4   c β   1/4\n",
       "Sqrt[-----------] d[-1 + k]  - 2 (-----------)    (------)    d[-1 + k] g[-1 + k] + \n",
       "               3                            3      -1 + c\n",
       "     (-1 + c) c                   (-1 + c) c\n",
       " \n",
       "             2          (-1 + c) β           2         c β             2\n",
       ">   g[-1 + k]  - 2 Sqrt[----------] g[-1 + k]  + Sqrt[------] g[-1 + k]  - \n",
       "                            c                         -1 + c\n",
       " \n",
       "                 2                2        2            2\n",
       ">   L γ g[-1 + k]  - γ μ g[-1 + k]  + c L γ  μ g[-1 + k]  + \n",
       " \n",
       "            β      1/4   c β   3/4\n",
       "    2 (-----------)    (------)    d[-1 + k] g[k]\n",
       "                 3      -1 + c\n",
       "       (-1 + c) c\n",
       ">   --------------------------------------------- - \n",
       "                          β\n",
       " \n",
       "            β      1/4   c β   3/4\n",
       "    2 (-----------)    (------)    d[-1 + k] g[k]\n",
       "                 3      -1 + c\n",
       "       (-1 + c) c                                                          2\n",
       ">   --------------------------------------------- - 2 g[-1 + k] g[k] + g[k]  + \n",
       "                         c β\n",
       " \n",
       "          c β        2         c β        2\n",
       "    Sqrt[------] g[k]    Sqrt[------] g[k]\n",
       "         -1 + c               -1 + c\n",
       ">   ------------------ - ------------------\n",
       "            β                   c β"
      ]
     },
     "execution_count": 435,
     "metadata": {
      "text/html": [],
      "text/plain": []
     },
     "output_type": "execute_result"
    }
   ],
   "source": [
    "ν = (2 Sqrt[c - 1] Sqrt[β])/Sqrt[\n",
    "   c] + (-c L γ^2 μ + γ (L + μ) - 1);\n",
    "   \n",
    "a2 = -((c β)/(-1 + c))^(1/4); \n",
    "\n",
    "a3 = 1/((c β)/(-1 + c))^(\n",
    " 1/4); \n",
    " \n",
    "a4 = (β/((-1 + c) c^3))^(1/4);\n",
    "\n",
    "positiveTerm1 = (a4 d[k - 1] + a2 g[k - 1] + a3 g[k])^2;\n",
    "\n",
    "restTerm2 = -ν g[k - 1]^2 + g[k]^2;\n",
    "\n",
    "SimplifiedTerm = \n",
    " Assuming[β > 0 && c > 1, \n",
    "   Simplify[(positiveTerm1 + restTerm2)]]//Expand"
   ]
  },
  {
   "cell_type": "code",
   "execution_count": 436,
   "id": "b6c3685d-4dd6-4e80-9276-671ee0a1e7b0",
   "metadata": {},
   "outputs": [
    {
     "data": {
      "text/html": [
       "<div><pre style=\"&#102;&#111;&#110;&#116;&#45;&#102;&#97;&#109;&#105;&#108;&#121;&#58;&#32;&#34;&#67;&#111;&#117;&#114;&#105;&#101;&#114;&#32;&#78;&#101;&#119;&#34;&#44;&#67;&#111;&#117;&#114;&#105;&#101;&#114;&#44;&#109;&#111;&#110;&#111;&#115;&#112;&#97;&#99;&#101;&#59;\">&#48;</pre></div>"
      ],
      "text/plain": [
       "0"
      ]
     },
     "execution_count": 437,
     "metadata": {
      "text/html": [],
      "text/plain": []
     },
     "output_type": "execute_result"
    }
   ],
   "source": [
    "(* See if both term matches *)\n",
    "TermDiff = Assuming[β > 0 && c > 1 , \n",
    " FullSimplify[WeightedSum - SimplifiedTerm]]"
   ]
  },
  {
   "cell_type": "markdown",
   "id": "f456af4b-4a2c-414f-9dd4-bcc6ad4c4732",
   "metadata": {},
   "source": [
    "#### Part 2: Showing that $\\|d_k\\|^2 \\leq (1+ c_{k-1} \\beta_{k-1}) \\|\\nabla f(x_k)\\|^2$"
   ]
  },
  {
   "cell_type": "code",
   "execution_count": 328,
   "id": "756f0614-f66f-4a25-a15e-c92f36051e60",
   "metadata": {},
   "outputs": [],
   "source": [
    "(*Clear memory and all the variables*)\n",
    "ClearAll[\"Global`*\"];\n",
    "Remove[\"Global`*\"];\n",
    "SetOptions[EvaluationNotebook[], \n",
    "  CellEpilog :> SelectionMove[EvaluationNotebook[], Next, Cell]];\n",
    "SetOptions[$FrontEnd, \"FileChangeProtection\" -> None];\n",
    "(*You may get the warning:\n",
    "\"Remove::rmnsm: There are no symbols matching \"Global`*\".\"\n",
    "if you run this block twice,\n",
    "but that is fine\n",
    "*)"
   ]
  },
  {
   "cell_type": "code",
   "execution_count": 334,
   "id": "cfe2d469-1429-42d1-834b-1377f93071c4",
   "metadata": {},
   "outputs": [],
   "source": [
    "(* For notational convenience, in the code we let c[k-1] ≜ c, β[k-1] ≜ β, γ[k-1] ≜ γ*)\n",
    "\n",
    "(* System of NCGM *)\n",
    "(* ============== *)\n",
    "\n",
    "d[k] = g[k] + β d[k - 1];\n",
    "\n",
    "x[k] = x[k - 1] - γ d[k - 1];\n",
    "\n",
    "(* Constraints in consideration *)\n",
    "(* ============================ *)\n",
    "\n",
    "constraint1 = g[k] d[k - 1] (* == 0*);\n",
    "\n",
    "constraint2 = d[k - 1]^2 - c g[k - 1]^2 (* == 0*);\n",
    "\n",
    "constraint3 = g[k]^2 - β g[k - 1]^2 (* == 0*);\n",
    "\n",
    "   \n",
    "(* Weight λ\"i\" for constraint\"i\" *)   \n",
    "(* ============================= *)\n",
    "   \n",
    "λ1 = 2 β;\n",
    "    \n",
    "λ2 = β^2;\n",
    "\n",
    "λ3 = -c β;"
   ]
  },
  {
   "cell_type": "code",
   "execution_count": 352,
   "id": "515ab0ec-06ea-4544-afda-a56dffc202fe",
   "metadata": {},
   "outputs": [
    {
     "data": {
      "text/html": [
       "<div><img alt=\"Output\" src=\"data:image/png;base64,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\"></div>"
      ],
      "text/plain": [
       "              2                            2\n",
       "β (β d[-1 + k]  + 2 d[-1 + k] g[k] - c g[k] )"
      ]
     },
     "execution_count": 352,
     "metadata": {
      "text/html": [],
      "text/plain": []
     },
     "output_type": "execute_result"
    }
   ],
   "source": [
    "WeightedSum = ( (λ1*constraint1) + (λ2*constraint2) + (λ3*constraint3)) // FullSimplify"
   ]
  },
  {
   "cell_type": "code",
   "execution_count": 353,
   "id": "b140ee78-51de-4925-a5ff-34305c45f087",
   "metadata": {},
   "outputs": [
    {
     "data": {
      "text/html": [
       "<div><img alt=\"Output\" src=\"data:image/png;base64,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\"></div>"
      ],
      "text/plain": [
       "                2                        2\n",
       "-((1 + c β) g[k] ) + (β d[-1 + k] + g[k])"
      ]
     },
     "execution_count": 353,
     "metadata": {
      "text/html": [],
      "text/plain": []
     },
     "output_type": "execute_result"
    }
   ],
   "source": [
    "SimplifiedTerm = \n",
    " Assuming[β > 0 && c > 1, d[k]^2 - (1+c β) g[k]^2] "
   ]
  },
  {
   "cell_type": "code",
   "execution_count": 357,
   "id": "cbf3494e-96d0-4e21-a219-bc3a5333ada4",
   "metadata": {},
   "outputs": [
    {
     "data": {
      "text/html": [
       "<div><pre style=\"&#102;&#111;&#110;&#116;&#45;&#102;&#97;&#109;&#105;&#108;&#121;&#58;&#32;&#34;&#67;&#111;&#117;&#114;&#105;&#101;&#114;&#32;&#78;&#101;&#119;&#34;&#44;&#67;&#111;&#117;&#114;&#105;&#101;&#114;&#44;&#109;&#111;&#110;&#111;&#115;&#112;&#97;&#99;&#101;&#59;\">&#48;</pre></div>"
      ],
      "text/plain": [
       "0"
      ]
     },
     "execution_count": 358,
     "metadata": {
      "text/html": [],
      "text/plain": []
     },
     "output_type": "execute_result"
    }
   ],
   "source": [
    "(* See if both term matches *)\n",
    "\n",
    "TermDiff = Assuming[β > 0 && c > 1 , \n",
    " FullSimplify[WeightedSum - SimplifiedTerm]]"
   ]
  },
  {
   "cell_type": "markdown",
   "id": "a1c3df88-6b47-4b88-98c2-42df32517b73",
   "metadata": {},
   "source": [
    "#### Part 3: Verify if\n",
    "\n",
    "$$\n",
    "\\left(\\sqrt{\\frac{c_{k-1}-1}{c_{k-1}}}+\\sqrt{\\frac{(\\mu+L)^{2}}{4c_{k-1}\\mu L}-\\frac{1}{c_{k-1}}}\\right)^{2}\n",
    " =1+\\frac{(L-\\mu)}{c_{k-1}}\\sqrt{\\frac{(c_{k-1}-1)}{\\mu L}}+\\frac{\\mu^{2}-6\\mu L+L^{2}}{4c_{k-1}\\mu L},\n",
    "$$ \n"
   ]
  },
  {
   "cell_type": "code",
   "execution_count": 451,
   "id": "f2b2c2eb-4286-4190-bc68-c87918cd87ee",
   "metadata": {},
   "outputs": [],
   "source": [
    "(*Clear memory and all the variables*)\n",
    "ClearAll[\"Global`*\"];\n",
    "Remove[\"Global`*\"];\n",
    "SetOptions[EvaluationNotebook[], \n",
    "  CellEpilog :> SelectionMove[EvaluationNotebook[], Next, Cell]];\n",
    "SetOptions[$FrontEnd, \"FileChangeProtection\" -> None];\n",
    "(*You may get the warning:\n",
    "\"Remove::rmnsm: There are no symbols matching \"Global`*\".\"\n",
    "if you run this block twice,\n",
    "but that is fine\n",
    "*)"
   ]
  },
  {
   "cell_type": "code",
   "execution_count": 457,
   "id": "bcf2a0b9-6717-42e8-9391-d60397858a2b",
   "metadata": {},
   "outputs": [
    {
     "data": {
      "text/html": [
       "<div><pre style=\"&#102;&#111;&#110;&#116;&#45;&#102;&#97;&#109;&#105;&#108;&#121;&#58;&#32;&#34;&#67;&#111;&#117;&#114;&#105;&#101;&#114;&#32;&#78;&#101;&#119;&#34;&#44;&#67;&#111;&#117;&#114;&#105;&#101;&#114;&#44;&#109;&#111;&#110;&#111;&#115;&#112;&#97;&#99;&#101;&#59;\">&#48;</pre></div>"
      ],
      "text/plain": [
       "0"
      ]
     },
     "execution_count": 461,
     "metadata": {
      "text/html": [],
      "text/plain": []
     },
     "output_type": "execute_result"
    }
   ],
   "source": [
    "βMax1 = \n",
    "  1 + ((L - μ) Sqrt[(-1 + c)/(L μ)])/c + (\n",
    "   L^2 - 6 L μ + μ^2)/(4 c L μ);\n",
    "   \n",
    "βMax2 = (Sqrt[c - 1]/Sqrt[c] + \n",
    "    Sqrt[(μ + L)^2/(4 c μ L) - 1/c])^2;\n",
    "    \n",
    "Assuming[c > 1 && μ > 0 && μ < L, \n",
    " Simplify[βMax1 - βMax2]]"
   ]
  },
  {
   "cell_type": "markdown",
   "id": "0e3d7e14-ac9e-4064-937b-fa370fba7ab5",
   "metadata": {},
   "source": [
    "#### Part 4: Verify if \n",
    "\n",
    "$$\n",
    "1+\\frac{(L-\\mu)}{c_{k-1}}\\sqrt{\\frac{(c_{k-1}-1)}{\\mu L}}+\\frac{\\mu^{2}-6\\mu L+L^{2}}{4c_{k-1}\\mu L}=\\frac{1}{c_{k-1}}\\frac{\\left(1-q+2\\sqrt{(c_{k-1}-1)q}\\right)^{2}}{4q}\n",
    "$$"
   ]
  },
  {
   "cell_type": "code",
   "execution_count": 35,
   "id": "c94fcfce-4f11-426f-9031-ce88020fb198",
   "metadata": {},
   "outputs": [],
   "source": [
    "(*Clear memory and all the variables*)\n",
    "ClearAll[\"Global`*\"];\n",
    "Remove[\"Global`*\"];\n",
    "SetOptions[EvaluationNotebook[], \n",
    "  CellEpilog :> SelectionMove[EvaluationNotebook[], Next, Cell]];\n",
    "SetOptions[$FrontEnd, \"FileChangeProtection\" -> None];\n",
    "(*You may get the warning:\n",
    "\"Remove::rmnsm: There are no symbols matching \"Global`*\".\"\n",
    "if you run this block twice,\n",
    "but that is fine\n",
    "*)"
   ]
  },
  {
   "cell_type": "code",
   "execution_count": 41,
   "id": "a6de51a6-1d3a-4e1a-b2ec-07dff0c83c8d",
   "metadata": {},
   "outputs": [
    {
     "data": {
      "text/html": [
       "<div><pre style=\"&#102;&#111;&#110;&#116;&#45;&#102;&#97;&#109;&#105;&#108;&#121;&#58;&#32;&#34;&#67;&#111;&#117;&#114;&#105;&#101;&#114;&#32;&#78;&#101;&#119;&#34;&#44;&#67;&#111;&#117;&#114;&#105;&#101;&#114;&#44;&#109;&#111;&#110;&#111;&#115;&#112;&#97;&#99;&#101;&#59;\">&#48;</pre></div>"
      ],
      "text/plain": [
       "0"
      ]
     },
     "execution_count": 43,
     "metadata": {
      "text/html": [],
      "text/plain": []
     },
     "output_type": "execute_result"
    }
   ],
   "source": [
    "ν1 = ((((1 - q + 2 Sqrt[(c - 1) q])^2/(4 q)))/c) /. {q -> μ/L};\n",
    "ν2 = \n",
    "   (1 + ((L - μ) Sqrt[(-1 + c)/(L μ)])/c + (\n",
    "      L^2 - 6 L μ + μ^2)/(4 c L μ));\n",
    "Assuming[c > 1 && μ > 0 && μ < L, Simplify[ν1 - ν2]]"
   ]
  },
  {
   "cell_type": "markdown",
   "id": "b50c4d18-7682-404a-93b4-577eb9651485",
   "metadata": {},
   "source": [
    "#### Part 5: Verify if \n",
    "\n",
    "$$\\left(1+\\frac{\\left(1-q +2\\sqrt{(c_{k-1}-1) q}\\right)^{2}}{4q }\\right)= 1 + c_{k-1} \\left( \\beta_\\textrm{max}\\right),$$ \n",
    "\n",
    "where \n",
    "\n",
    "$$ \\beta_\\textrm{max} = 1+\\frac{(L-\\mu)}{c_{k-1}}\\sqrt{\\frac{(c_{k-1}-1)}{\\mu L}}+\\frac{\\mu^{2}-6\\mu L+L^{2}}{4c_{k-1}\\mu L}.$$"
   ]
  },
  {
   "cell_type": "code",
   "execution_count": 22,
   "id": "fd7c9211-2fd3-4e19-b2ac-cecc37639ee5",
   "metadata": {},
   "outputs": [],
   "source": [
    "(*Clear memory and all the variables*)\n",
    "ClearAll[\"Global`*\"];\n",
    "Remove[\"Global`*\"];\n",
    "SetOptions[EvaluationNotebook[], \n",
    "  CellEpilog :> SelectionMove[EvaluationNotebook[], Next, Cell]];\n",
    "SetOptions[$FrontEnd, \"FileChangeProtection\" -> None];\n",
    "(*You may get the warning:\n",
    "\"Remove::rmnsm: There are no symbols matching \"Global`*\".\"\n",
    "if you run this block twice,\n",
    "but that is fine\n",
    "*)"
   ]
  },
  {
   "cell_type": "code",
   "execution_count": 28,
   "id": "6aa998b1-d0f9-43b1-b80e-d291d505097c",
   "metadata": {},
   "outputs": [
    {
     "data": {
      "text/html": [
       "<div><pre style=\"&#102;&#111;&#110;&#116;&#45;&#102;&#97;&#109;&#105;&#108;&#121;&#58;&#32;&#34;&#67;&#111;&#117;&#114;&#105;&#101;&#114;&#32;&#78;&#101;&#119;&#34;&#44;&#67;&#111;&#117;&#114;&#105;&#101;&#114;&#44;&#109;&#111;&#110;&#111;&#115;&#112;&#97;&#99;&#101;&#59;\">&#48;</pre></div>"
      ],
      "text/plain": [
       "0"
      ]
     },
     "execution_count": 30,
     "metadata": {
      "text/html": [],
      "text/plain": []
     },
     "output_type": "execute_result"
    }
   ],
   "source": [
    "ν1 = (1 + (1 - q + 2 Sqrt[(c - 1) q])^2/(4 q)) /. {q -> μ/L};\n",
    "ν2 = \n",
    "  1 + c (1 + ((L - μ) Sqrt[(-1 + c)/(L μ)])/c + (\n",
    "      L^2 - 6 L μ + μ^2)/(4 c L μ));\n",
    "Assuming[c > 1 && μ > 0 && μ < L, Simplify[ν1 - ν2]]"
   ]
  },
  {
   "cell_type": "code",
   "execution_count": null,
   "id": "0cdd63d7-5708-42bf-aba2-094d0a493d72",
   "metadata": {},
   "outputs": [],
   "source": []
  }
 ],
 "metadata": {
  "kernelspec": {
   "display_name": "Wolfram Language 13",
   "language": "Wolfram Language",
   "name": "wolframlanguage13"
  },
  "language_info": {
   "codemirror_mode": "mathematica",
   "file_extension": ".m",
   "mimetype": "application/vnd.wolfram.m",
   "name": "Wolfram Language",
   "pygments_lexer": "mathematica",
   "version": "12.0"
  }
 },
 "nbformat": 4,
 "nbformat_minor": 5
}
