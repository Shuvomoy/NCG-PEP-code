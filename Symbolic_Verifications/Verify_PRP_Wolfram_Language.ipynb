{
 "cells": [
  {
   "cell_type": "markdown",
   "id": "be2e2778-b6c3-4f8e-8b36-dd6a97ef7529",
   "metadata": {},
   "source": [
    "# Symbolic verification for PRP method (using the Wolfram Language)"
   ]
  },
  {
   "cell_type": "code",
   "execution_count": 192,
   "id": "1ced04c3-16ab-46b8-886f-86774c93d8cc",
   "metadata": {},
   "outputs": [],
   "source": [
    "(*Clear memory and all the variables*)\n",
    "ClearAll[\"Global`*\"];\n",
    "Remove[\"Global`*\"];\n",
    "SetOptions[EvaluationNotebook[], \n",
    "  CellEpilog :> SelectionMove[EvaluationNotebook[], Next, Cell]];\n",
    "SetOptions[$FrontEnd, \"FileChangeProtection\" -> None];\n",
    "(*You may get the warning:\n",
    "\"Remove::rmnsm: There are no symbols matching \"Global`*\".\"\n",
    "if you run this block twice,\n",
    "but that is fine\n",
    "*)"
   ]
  },
  {
   "cell_type": "code",
   "execution_count": 198,
   "id": "9a7c76ff-9fbb-47fa-8df9-f2e746eb58fa",
   "metadata": {},
   "outputs": [],
   "source": [
    "(* For notational convenience, in the code we let c[k-1] ≜ c, β[k-1] ≜ β, γ[k-1] ≜ γ*)\n",
    "\n",
    "(* System of NCGM *)\n",
    "(* ============== *)\n",
    "\n",
    "d[k] = g[k] + β d[k - 1];\n",
    "\n",
    "x[k] = x[k - 1] - γ d[k - 1];\n",
    "\n",
    "(* Constraints in consideration *)\n",
    "(* ============================ *)\n",
    "\n",
    "\n",
    "constraint1 = g[k] d[k - 1] (* == 0*); \n",
    "\n",
    "constraint2 = \n",
    "  f[k] - f[k - 1] + γ g[k] d[k - 1] + (g[k - 1] - g[k])^2/(\n",
    "   2 L) + (μ (γ d[k - 1] - (g[k - 1] - g[k])/L)^2)/(\n",
    "   2 (1 - μ/L)) (* <= 0*);\n",
    "   \n",
    "constraint3 = \n",
    "  f[k - 1] - f[k] - γ g[k - 1] d[k - 1] + (g[k - 1] - g[k])^2/(\n",
    "   2 L) + (μ (γ d[k - 1] - (g[k - 1] - g[k])/L)^2)/(\n",
    "   2 (1 - μ/L)) (* <= 0*);\n",
    "\n",
    "constraint4 = g[k-1] g[k] - g[k]^2 + β g[k-1] d[k-1]  (* == 0*);\n",
    "\n",
    "   \n",
    "(* Weight λ\"i\" for constraint\"i\" *)   \n",
    "(* ============================ *)\n",
    "\n",
    "q = μ/L;\n",
    "   \n",
    "λ1 = - (β^2 (1+ q)) / (L γ q);\n",
    "    \n",
    "λ2 = (β^2 (1 + q)^2) / (L γ^2 (1 - q) q);\n",
    "\n",
    "λ3 = (β^2 (1 + q)^2) / (L γ^2 (1 - q) q);\n",
    "\n",
    "λ4 = (β (1 + q))/(L γ q);"
   ]
  },
  {
   "cell_type": "code",
   "execution_count": 220,
   "id": "41db6f26-c10c-4bdb-b875-a58342a5625f",
   "metadata": {},
   "outputs": [],
   "source": [
    "WeightedSum = ((λ1*constraint1) + (λ2*\n",
    "       constraint2) + (λ3*constraint3) + (λ4*\n",
    "       constraint4) // FullSimplify);"
   ]
  },
  {
   "cell_type": "code",
   "execution_count": 221,
   "id": "69203123-de14-4a6d-af5b-08d7e0707ca1",
   "metadata": {},
   "outputs": [],
   "source": [
    "ν = (1 + (μ/L))^2 / (4 (μ/L));\n",
    "   \n",
    "a1 = (4 β^2 (μ/L)) / (1-(μ/L))^2;\n",
    "\n",
    "a2 = 1;\n",
    "\n",
    "a3 = -( ( 1+(μ/L) ) / (2 L γ (μ/L)) );\n",
    "\n",
    "a4 = ( (2 β (1 + (μ/L))) - L γ (1 - (μ/L))^2 ) / ( 4 β L γ (μ/L) );\n",
    "\n",
    "positiveTerm1 = a1 ( a2 d[k - 1] +  a3 g[k - 1] + a4 g[k] )^2;\n",
    "\n",
    "restTerm2 = -ν g[k]^2 + d[k]^2;\n",
    "\n",
    "SimplifiedTerm = \n",
    " Assuming[β > 0 && c > 1, \n",
    "   Simplify[(positiveTerm1 + restTerm2)]]//Expand;"
   ]
  },
  {
   "cell_type": "code",
   "execution_count": 230,
   "id": "8b8769f7-88b8-4496-a984-a7b6b74d9ea8",
   "metadata": {},
   "outputs": [
    {
     "data": {
      "text/html": [
       "<div><pre style=\"&#102;&#111;&#110;&#116;&#45;&#102;&#97;&#109;&#105;&#108;&#121;&#58;&#32;&#34;&#67;&#111;&#117;&#114;&#105;&#101;&#114;&#32;&#78;&#101;&#119;&#34;&#44;&#67;&#111;&#117;&#114;&#105;&#101;&#114;&#44;&#109;&#111;&#110;&#111;&#115;&#112;&#97;&#99;&#101;&#59;\">&#48;</pre></div>"
      ],
      "text/plain": [
       "0"
      ]
     },
     "execution_count": 231,
     "metadata": {
      "text/html": [],
      "text/plain": []
     },
     "output_type": "execute_result"
    }
   ],
   "source": [
    "(* See if both term matches *)\n",
    "TermDiff = Assuming[β > 0 && c > 1 && μ>0 && μ<L, \n",
    " Simplify[WeightedSum - SimplifiedTerm]]"
   ]
  },
  {
   "cell_type": "code",
   "execution_count": null,
   "id": "997a7cdd-a2da-41bc-9017-ee2e9e5240c4",
   "metadata": {},
   "outputs": [],
   "source": []
  },
  {
   "cell_type": "code",
   "execution_count": null,
   "id": "a4c88a8a-1945-4c4d-b87e-5effc6447dc6",
   "metadata": {},
   "outputs": [],
   "source": []
  }
 ],
 "metadata": {
  "kernelspec": {
   "display_name": "Wolfram Language 13.1",
   "language": "Wolfram Language",
   "name": "wolframlanguage13.1"
  },
  "language_info": {
   "codemirror_mode": "mathematica",
   "file_extension": ".m",
   "mimetype": "application/vnd.wolfram.m",
   "name": "Wolfram Language",
   "pygments_lexer": "mathematica",
   "version": "12.0"
  }
 },
 "nbformat": 4,
 "nbformat_minor": 5
}
