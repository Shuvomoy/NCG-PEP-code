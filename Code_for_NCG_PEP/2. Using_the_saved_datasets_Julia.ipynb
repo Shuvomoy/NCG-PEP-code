{
 "cells": [
  {
   "cell_type": "code",
   "execution_count": 26,
   "id": "e8a122b2-799a-4543-a0b9-15a7d8392068",
   "metadata": {},
   "outputs": [],
   "source": [
    "# In this file we load the saved datasets that correspond to the solutions of our NCG-PEP assciated with the file \"1. Example_Julia.ipynb\" for different values of N for PRP or FR\n",
    "# The end output in the last cell can be used for PEPit verification\n",
    "# Each cell is fairly self-explanatory\n",
    "using Logging\n",
    "global_logger(ConsoleLogger())\n",
    "\n",
    "## Load the code\n",
    "\n",
    "include(\"N_point_NCG_PEP.jl\");"
   ]
  },
  {
   "cell_type": "code",
   "execution_count": 27,
   "id": "724f3c46-3ee1-4ba6-bcd9-1d21cccbaab6",
   "metadata": {},
   "outputs": [],
   "source": [
    "## Load functions\n",
    "\n",
    "function array_ρ_PRP(μ_array, L)\n",
    "\n",
    "\tarray_ρ_PRP_array = zeros(length(μ_array))\n",
    "\n",
    "\tfor i in eachindex(μ_array)\n",
    "\t\tμ = μ_array[i]\n",
    "\t\tarray_ρ_PRP_array[i] = (L^2-μ^2)^2/(L^2+μ^2)^2\n",
    "\tend\n",
    "\n",
    "\treturn array_ρ_PRP_array\n",
    "\n",
    "end\n",
    "\n",
    "function array_ρ_gradient_descent_with_exact_line_search(μ_array, L)\n",
    "\n",
    "\tρ_GD_ELS_array = zeros(length(μ_array))\n",
    "\n",
    "\tfor i in eachindex(μ_array)\n",
    "\t\tμ = μ_array[i]\n",
    "\t\tρ_GD_ELS_array[i] = (L-μ)^2/(L+μ)^2\n",
    "\tend\n",
    "\n",
    "\treturn ρ_GD_ELS_array\n",
    "\n",
    "end\n",
    "\n",
    "## Load the Julia packages\n",
    "\n",
    "using JLD2"
   ]
  },
  {
   "cell_type": "code",
   "execution_count": 28,
   "id": "325f8082-7546-4a54-9dbc-0f268ed30daa",
   "metadata": {},
   "outputs": [
    {
     "ename": "Base.IOError",
     "evalue": "IOError: cd(\"Saved_Output_Files\"): no such file or directory (ENOENT)",
     "output_type": "error",
     "traceback": [
      "IOError: cd(\"Saved_Output_Files\"): no such file or directory (ENOENT)\n",
      "\n",
      "Stacktrace:\n",
      " [1] uv_error\n",
      "   @ ./libuv.jl:100 [inlined]\n",
      " [2] cd(dir::String)\n",
      "   @ Base.Filesystem ./file.jl:91\n",
      " [3] top-level scope\n",
      "   @ ~/My Drive/GitHub/NCG-PEP-code/Code_for_NCG_PEP/2. Using_the_saved_datasets_Julia.ipynb:3"
     ]
    }
   ],
   "source": [
    "## Load data for N=2\n",
    "\n",
    "cd(\"Saved_Output_Files\")\n",
    "\n",
    "readdir()"
   ]
  },
  {
   "cell_type": "code",
   "execution_count": 29,
   "id": "d89126ea-db5b-4361-8563-918d08583d87",
   "metadata": {},
   "outputs": [
    {
     "name": "stderr",
     "output_type": "stream",
     "text": [
      "\u001b[33m\u001b[1m┌ \u001b[22m\u001b[39m\u001b[33m\u001b[1mWarning: \u001b[22m\u001b[39msaved type JuMP.Containers.DenseAxisArray{Float64, 1, Tuple{UnitRange{Int64}}, Tuple{JuMP.Containers._AxisLookup{Tuple{Int64, Int64}}}} is missing field names in workspace type; reconstructing\n",
      "\u001b[33m\u001b[1m└ \u001b[22m\u001b[39m\u001b[90m@ JLD2 ~/.julia/packages/JLD2/ryhNR/src/data/reconstructing_datatypes.jl:164\u001b[39m\n"
     ]
    },
    {
     "data": {
      "text/plain": [
       "Dict{String, Any} with 14 entries:\n",
       "  \"μ_array\"                     => [0.001, 0.005, 0.01, 0.02, 0.03, 0.04, 0.05,…\n",
       "  \"N_array\"                     => 2:2\n",
       "  \"dict_β_LB\"                   => Dict{Any, Any}((0.09, 2)=>var\"##JuMP.Contain…\n",
       "  \"dict_G_LB\"                   => Dict{Any, Any}((0.09, 2)=>[20.9289 1.95001 ……\n",
       "  \"dict_G\"                      => Dict{Any, Any}((0.09, 2)=>[0.648186 0.196403…\n",
       "  \"array_contraction_factor\"    => [0.999839; 0.998019; … ; 0.00370873; 0.00154…\n",
       "  \"dict_worst_case_functions\"   => Dict{Any, Any}((0.09, 2)=>worst_case_functio…\n",
       "  \"dict_Ft\"                     => Dict{Any, Any}((0.09, 2)=>[1.0, 0.918563, 0.…\n",
       "  \"dict_contraction_factor_LB\"  => Dict{Any, Any}((0.09, 2)=>0.821754, (0.08, 2…\n",
       "  \"dict_γ_LB\"                   => Dict{Any, Any}((0.09, 2)=>var\"##JuMP.Contain…\n",
       "  \"dict_Ft_LB\"                  => Dict{Any, Any}((0.09, 2)=>[1.0, 0.918553, 0.…\n",
       "  \"dict_β\"                      => Dict{Any, Any}((0.09, 2)=>var\"##JuMP.Contain…\n",
       "  \"array_contraction_factor_LB\" => [0.999837; 0.998019; … ; 0.00370879; 0.00154…\n",
       "  \"dict_contraction_factor\"     => Dict{Any, Any}((0.09, 2)=>0.821754, (0.08, 2…"
      ]
     },
     "metadata": {},
     "output_type": "display_data"
    }
   ],
   "source": [
    "dict_output_N_2 = load(\"Output_Default_PRP_N_eq_2_μ_array_custom_Final.jld2\") \n",
    "# In this command we are loading the file Output_Default_PRP_N_eq_2_μ_array_custom_Final.jld2, which is loading \n",
    "# the output data for the case N=2 for default PRP, which is associated with ℬ_{Lyapunov} in the paper \n",
    "# you may want to load the other files for your tests."
   ]
  },
  {
   "cell_type": "code",
   "execution_count": 30,
   "id": "169f34e0-f256-4027-81dc-a04c007dcec8",
   "metadata": {},
   "outputs": [],
   "source": [
    "μ_array_N_2 = dict_output_N_2[\"μ_array\"]\n",
    "\n",
    "array_contraction_factor_N_2 = dict_output_N_2[\"array_contraction_factor\"]\n",
    "\n",
    "array_contraction_factor_LB_N_2 = dict_output_N_2[\"array_contraction_factor_LB\"]\n",
    "\n",
    "array_contraction_factor_N_2_normalized= (array_contraction_factor_N_2 .^(1/2))[:,1];"
   ]
  },
  {
   "cell_type": "code",
   "execution_count": 31,
   "id": "93547d21-68c3-40ab-bb71-bda80fc7728b",
   "metadata": {},
   "outputs": [
    {
     "data": {
      "image/png": "[encoded data removed]",
      "image/svg+xml": [
       "<?xml version=\"1.0\" encoding=\"utf-8\"?>\n",
       "<svg xmlns=\"http://www.w3.org/2000/svg\" xmlns:xlink=\"http://www.w3.org/1999/xlink\" width=\"600\" height=\"400\" viewBox=\"0 0 2400 1600\">\n",
       "<defs>\n",
       "  <clipPath id=\"clip570\">\n",
       "    <rect x=\"0\" y=\"0\" width=\"2400\" height=\"1600\"/>\n",
       "  </clipPath>\n",
       "</defs>\n",
       "<path clip-path=\"url(#clip570)\" d=\"M0 1600 L2400 1600 L2400 0 L0 0  Z\" fill=\"#ffffff\" fill-rule=\"evenodd\" fill-opacity=\"1\"/>\n",
       "<defs>\n",
       "  <clipPath id=\"clip571\">\n",
       "    <rect x=\"480\" y=\"0\" width=\"1681\" height=\"1600\"/>\n",
       "  </clipPath>\n",
       "</defs>\n",
       "<path clip-path=\"url(#clip570)\" d=\"M249.542 1423.18 L2352.76 1423.18 L2352.76 47.2441 L249.542 47.2441  Z\" fill=\"#ffffff\" fill-rule=\"evenodd\" fill-opacity=\"1\"/>\n",
       "<defs>\n",
       "  <clipPath id=\"clip572\">\n",
       "    <rect x=\"249\" y=\"47\" width=\"2104\" height=\"1377\"/>\n",
       "  </clipPath>\n",
       "</defs>\n",
       "<polyline clip-path=\"url(#clip572)\" style=\"stroke:#000000; stroke-linecap:round; stroke-linejoin:round; stroke-width:2; stroke-opacity:0.1; fill:none\" points=\"306.584,1423.18 306.584,47.2441 \"/>\n",
       "<polyline clip-path=\"url(#clip572)\" style=\"stroke:#000000; stroke-linecap:round; stroke-linejoin:round; stroke-width:2; stroke-opacity:0.1; fill:none\" points=\"803.245,1423.18 803.245,47.2441 \"/>\n",
       "<polyline clip-path=\"url(#clip572)\" style=\"stroke:#000000; stroke-linecap:round; stroke-linejoin:round; stroke-width:2; stroke-opacity:0.1; fill:none\" points=\"1299.91,1423.18 1299.91,47.2441 \"/>\n",
       "<polyline clip-path=\"url(#clip572)\" style=\"stroke:#000000; stroke-linecap:round; stroke-linejoin:round; stroke-width:2; stroke-opacity:0.1; fill:none\" points=\"1796.57,1423.18 1796.57,47.2441 \"/>\n",
       "<polyline clip-path=\"url(#clip572)\" style=\"stroke:#000000; stroke-linecap:round; stroke-linejoin:round; stroke-width:2; stroke-opacity:0.1; fill:none\" points=\"2293.23,1423.18 2293.23,47.2441 \"/>\n",
       "<polyline clip-path=\"url(#clip570)\" style=\"stroke:#000000; stroke-linecap:round; stroke-linejoin:round; stroke-width:4; stroke-opacity:1; fill:none\" points=\"249.542,1423.18 2352.76,1423.18 \"/>\n",
       "<polyline clip-path=\"url(#clip570)\" style=\"stroke:#000000; stroke-linecap:round; stroke-linejoin:round; stroke-width:4; stroke-opacity:1; fill:none\" points=\"306.584,1423.18 306.584,1404.28 \"/>\n",
       "<polyline clip-path=\"url(#clip570)\" style=\"stroke:#000000; stroke-linecap:round; stroke-linejoin:round; stroke-width:4; stroke-opacity:1; fill:none\" points=\"803.245,1423.18 803.245,1404.28 \"/>\n",
       "<polyline clip-path=\"url(#clip570)\" style=\"stroke:#000000; stroke-linecap:round; stroke-linejoin:round; stroke-width:4; stroke-opacity:1; fill:none\" points=\"1299.91,1423.18 1299.91,1404.28 \"/>\n",
       "<polyline clip-path=\"url(#clip570)\" style=\"stroke:#000000; stroke-linecap:round; stroke-linejoin:round; stroke-width:4; stroke-opacity:1; fill:none\" points=\"1796.57,1423.18 1796.57,1404.28 \"/>\n",
       "<polyline clip-path=\"url(#clip570)\" style=\"stroke:#000000; stroke-linecap:round; stroke-linejoin:round; stroke-width:4; stroke-opacity:1; fill:none\" points=\"2293.23,1423.18 2293.23,1404.28 \"/>\n",
       "<path clip-path=\"url(#clip570)\" d=\"M283.968 1454.1 Q280.357 1454.1 278.528 1457.66 Q276.723 1461.2 276.723 1468.33 Q276.723 1475.44 278.528 1479.01 Q280.357 1482.55 283.968 1482.55 Q287.602 1482.55 289.408 1479.01 Q291.237 1475.44 291.237 1468.33 Q291.237 1461.2 289.408 1457.66 Q287.602 1454.1 283.968 1454.1 M283.968 1450.39 Q289.778 1450.39 292.834 1455 Q295.912 1459.58 295.912 1468.33 Q295.912 1477.06 292.834 1481.67 Q289.778 1486.25 283.968 1486.25 Q278.158 1486.25 275.079 1481.67 Q272.024 1477.06 272.024 1468.33 Q272.024 1459.58 275.079 1455 Q278.158 1450.39 283.968 1450.39 Z\" fill=\"#000000\" fill-rule=\"nonzero\" fill-opacity=\"1\" /><path clip-path=\"url(#clip570)\" d=\"M304.13 1479.7 L309.014 1479.7 L309.014 1485.58 L304.13 1485.58 L304.13 1479.7 Z\" fill=\"#000000\" fill-rule=\"nonzero\" fill-opacity=\"1\" /><path clip-path=\"url(#clip570)\" d=\"M329.199 1454.1 Q325.588 1454.1 323.759 1457.66 Q321.954 1461.2 321.954 1468.33 Q321.954 1475.44 323.759 1479.01 Q325.588 1482.55 329.199 1482.55 Q332.834 1482.55 334.639 1479.01 Q336.468 1475.44 336.468 1468.33 Q336.468 1461.2 334.639 1457.66 Q332.834 1454.1 329.199 1454.1 M329.199 1450.39 Q335.009 1450.39 338.065 1455 Q341.144 1459.58 341.144 1468.33 Q341.144 1477.06 338.065 1481.67 Q335.009 1486.25 329.199 1486.25 Q323.389 1486.25 320.31 1481.67 Q317.255 1477.06 317.255 1468.33 Q317.255 1459.58 320.31 1455 Q323.389 1450.39 329.199 1450.39 Z\" fill=\"#000000\" fill-rule=\"nonzero\" fill-opacity=\"1\" /><path clip-path=\"url(#clip570)\" d=\"M781.428 1454.1 Q777.817 1454.1 775.989 1457.66 Q774.183 1461.2 774.183 1468.33 Q774.183 1475.44 775.989 1479.01 Q777.817 1482.55 781.428 1482.55 Q785.063 1482.55 786.868 1479.01 Q788.697 1475.44 788.697 1468.33 Q788.697 1461.2 786.868 1457.66 Q785.063 1454.1 781.428 1454.1 M781.428 1450.39 Q787.239 1450.39 790.294 1455 Q793.373 1459.58 793.373 1468.33 Q793.373 1477.06 790.294 1481.67 Q787.239 1486.25 781.428 1486.25 Q775.618 1486.25 772.54 1481.67 Q769.484 1477.06 769.484 1468.33 Q769.484 1459.58 772.54 1455 Q775.618 1450.39 781.428 1450.39 Z\" fill=\"#000000\" fill-rule=\"nonzero\" fill-opacity=\"1\" /><path clip-path=\"url(#clip570)\" d=\"M801.59 1479.7 L806.475 1479.7 L806.475 1485.58 L801.59 1485.58 L801.59 1479.7 Z\" fill=\"#000000\" fill-rule=\"nonzero\" fill-opacity=\"1\" /><path clip-path=\"url(#clip570)\" d=\"M820.688 1481.64 L837.007 1481.64 L837.007 1485.58 L815.063 1485.58 L815.063 1481.64 Q817.725 1478.89 822.308 1474.26 Q826.914 1469.61 828.095 1468.27 Q830.34 1465.74 831.22 1464.01 Q832.123 1462.25 832.123 1460.56 Q832.123 1457.8 830.178 1456.07 Q828.257 1454.33 825.155 1454.33 Q822.956 1454.33 820.502 1455.09 Q818.072 1455.86 815.294 1457.41 L815.294 1452.69 Q818.118 1451.55 820.572 1450.97 Q823.025 1450.39 825.062 1450.39 Q830.433 1450.39 833.627 1453.08 Q836.822 1455.77 836.822 1460.26 Q836.822 1462.39 836.012 1464.31 Q835.224 1466.2 833.118 1468.8 Q832.539 1469.47 829.437 1472.69 Q826.336 1475.88 820.688 1481.64 Z\" fill=\"#000000\" fill-rule=\"nonzero\" fill-opacity=\"1\" /><path clip-path=\"url(#clip570)\" d=\"M1277.05 1454.1 Q1273.44 1454.1 1271.61 1457.66 Q1269.8 1461.2 1269.8 1468.33 Q1269.8 1475.44 1271.61 1479.01 Q1273.44 1482.55 1277.05 1482.55 Q1280.68 1482.55 1282.49 1479.01 Q1284.32 1475.44 1284.32 1468.33 Q1284.32 1461.2 1282.49 1457.66 Q1280.68 1454.1 1277.05 1454.1 M1277.05 1450.39 Q1282.86 1450.39 1285.91 1455 Q1288.99 1459.58 1288.99 1468.33 Q1288.99 1477.06 1285.91 1481.67 Q1282.86 1486.25 1277.05 1486.25 Q1271.24 1486.25 1268.16 1481.67 Q1265.1 1477.06 1265.1 1468.33 Q1265.1 1459.58 1268.16 1455 Q1271.24 1450.39 1277.05 1450.39 Z\" fill=\"#000000\" fill-rule=\"nonzero\" fill-opacity=\"1\" /><path clip-path=\"url(#clip570)\" d=\"M1297.21 1479.7 L1302.09 1479.7 L1302.09 1485.58 L1297.21 1485.58 L1297.21 1479.7 Z\" fill=\"#000000\" fill-rule=\"nonzero\" fill-opacity=\"1\" /><path clip-path=\"url(#clip570)\" d=\"M1325.13 1455.09 L1313.32 1473.54 L1325.13 1473.54 L1325.13 1455.09 M1323.9 1451.02 L1329.78 1451.02 L1329.78 1473.54 L1334.71 1473.54 L1334.71 1477.43 L1329.78 1477.43 L1329.78 1485.58 L1325.13 1485.58 L1325.13 1477.43 L1309.53 1477.43 L1309.53 1472.92 L1323.9 1451.02 Z\" fill=\"#000000\" fill-rule=\"nonzero\" fill-opacity=\"1\" /><path clip-path=\"url(#clip570)\" d=\"M1773.87 1454.1 Q1770.26 1454.1 1768.43 1457.66 Q1766.63 1461.2 1766.63 1468.33 Q1766.63 1475.44 1768.43 1479.01 Q1770.26 1482.55 1773.87 1482.55 Q1777.51 1482.55 1779.31 1479.01 Q1781.14 1475.44 1781.14 1468.33 Q1781.14 1461.2 1779.31 1457.66 Q1777.51 1454.1 1773.87 1454.1 M1773.87 1450.39 Q1779.68 1450.39 1782.74 1455 Q1785.82 1459.58 1785.82 1468.33 Q1785.82 1477.06 1782.74 1481.67 Q1779.68 1486.25 1773.87 1486.25 Q1768.06 1486.25 1764.98 1481.67 Q1761.93 1477.06 1761.93 1468.33 Q1761.93 1459.58 1764.98 1455 Q1768.06 1450.39 1773.87 1450.39 Z\" fill=\"#000000\" fill-rule=\"nonzero\" fill-opacity=\"1\" /><path clip-path=\"url(#clip570)\" d=\"M1794.03 1479.7 L1798.92 1479.7 L1798.92 1485.58 L1794.03 1485.58 L1794.03 1479.7 Z\" fill=\"#000000\" fill-rule=\"nonzero\" fill-opacity=\"1\" /><path clip-path=\"url(#clip570)\" d=\"M1819.68 1466.44 Q1816.53 1466.44 1814.68 1468.59 Q1812.85 1470.74 1812.85 1474.49 Q1812.85 1478.22 1814.68 1480.39 Q1816.53 1482.55 1819.68 1482.55 Q1822.83 1482.55 1824.66 1480.39 Q1826.51 1478.22 1826.51 1474.49 Q1826.51 1470.74 1824.66 1468.59 Q1822.83 1466.44 1819.68 1466.44 M1828.96 1451.78 L1828.96 1456.04 Q1827.21 1455.21 1825.4 1454.77 Q1823.62 1454.33 1821.86 1454.33 Q1817.23 1454.33 1814.78 1457.45 Q1812.34 1460.58 1812 1466.9 Q1813.36 1464.89 1815.42 1463.82 Q1817.48 1462.73 1819.96 1462.73 Q1825.17 1462.73 1828.18 1465.9 Q1831.21 1469.05 1831.21 1474.49 Q1831.21 1479.82 1828.06 1483.03 Q1824.91 1486.25 1819.68 1486.25 Q1813.69 1486.25 1810.52 1481.67 Q1807.34 1477.06 1807.34 1468.33 Q1807.34 1460.14 1811.23 1455.28 Q1815.12 1450.39 1821.67 1450.39 Q1823.43 1450.39 1825.21 1450.74 Q1827.02 1451.09 1828.96 1451.78 Z\" fill=\"#000000\" fill-rule=\"nonzero\" fill-opacity=\"1\" /><path clip-path=\"url(#clip570)\" d=\"M2270.66 1454.1 Q2267.05 1454.1 2265.22 1457.66 Q2263.42 1461.2 2263.42 1468.33 Q2263.42 1475.44 2265.22 1479.01 Q2267.05 1482.55 2270.66 1482.55 Q2274.3 1482.55 2276.1 1479.01 Q2277.93 1475.44 2277.93 1468.33 Q2277.93 1461.2 2276.1 1457.66 Q2274.3 1454.1 2270.66 1454.1 M2270.66 1450.39 Q2276.47 1450.39 2279.53 1455 Q2282.61 1459.58 2282.61 1468.33 Q2282.61 1477.06 2279.53 1481.67 Q2276.47 1486.25 2270.66 1486.25 Q2264.85 1486.25 2261.77 1481.67 Q2258.72 1477.06 2258.72 1468.33 Q2258.72 1459.58 2261.77 1455 Q2264.85 1450.39 2270.66 1450.39 Z\" fill=\"#000000\" fill-rule=\"nonzero\" fill-opacity=\"1\" /><path clip-path=\"url(#clip570)\" d=\"M2290.82 1479.7 L2295.71 1479.7 L2295.71 1485.58 L2290.82 1485.58 L2290.82 1479.7 Z\" fill=\"#000000\" fill-rule=\"nonzero\" fill-opacity=\"1\" /><path clip-path=\"url(#clip570)\" d=\"M2315.89 1469.17 Q2312.56 1469.17 2310.64 1470.95 Q2308.74 1472.73 2308.74 1475.86 Q2308.74 1478.98 2310.64 1480.77 Q2312.56 1482.55 2315.89 1482.55 Q2319.23 1482.55 2321.15 1480.77 Q2323.07 1478.96 2323.07 1475.86 Q2323.07 1472.73 2321.15 1470.95 Q2319.25 1469.17 2315.89 1469.17 M2311.22 1467.18 Q2308.21 1466.44 2306.52 1464.38 Q2304.85 1462.32 2304.85 1459.35 Q2304.85 1455.21 2307.79 1452.8 Q2310.75 1450.39 2315.89 1450.39 Q2321.05 1450.39 2323.99 1452.8 Q2326.93 1455.21 2326.93 1459.35 Q2326.93 1462.32 2325.24 1464.38 Q2323.58 1466.44 2320.59 1467.18 Q2323.97 1467.96 2325.85 1470.26 Q2327.74 1472.55 2327.74 1475.86 Q2327.74 1480.88 2324.67 1483.57 Q2321.61 1486.25 2315.89 1486.25 Q2310.18 1486.25 2307.1 1483.57 Q2304.04 1480.88 2304.04 1475.86 Q2304.04 1472.55 2305.94 1470.26 Q2307.84 1467.96 2311.22 1467.18 M2309.5 1459.79 Q2309.5 1462.48 2311.17 1463.98 Q2312.86 1465.49 2315.89 1465.49 Q2318.9 1465.49 2320.59 1463.98 Q2322.3 1462.48 2322.3 1459.79 Q2322.3 1457.11 2320.59 1455.6 Q2318.9 1454.1 2315.89 1454.1 Q2312.86 1454.1 2311.17 1455.6 Q2309.5 1457.11 2309.5 1459.79 Z\" fill=\"#000000\" fill-rule=\"nonzero\" fill-opacity=\"1\" /><path clip-path=\"url(#clip570)\" d=\"M1254.22 1581.6 L1254.22 1532.4 L1260.07 1532.4 L1260.07 1554.55 Q1260.07 1559.16 1262.27 1561.52 Q1264.47 1563.87 1268.76 1563.87 Q1273.47 1563.87 1275.83 1561.2 Q1278.22 1558.53 1278.22 1553.18 L1278.22 1532.4 L1284.07 1532.4 L1284.07 1559.83 Q1284.07 1561.74 1284.61 1562.66 Q1285.19 1563.56 1286.36 1563.56 Q1286.65 1563.56 1287.16 1563.4 Q1287.67 1563.21 1288.56 1562.82 L1288.56 1567.53 Q1287.26 1568.27 1286.08 1568.62 Q1284.93 1568.97 1283.82 1568.97 Q1281.62 1568.97 1280.32 1567.73 Q1279.01 1566.48 1278.53 1563.94 Q1276.94 1566.45 1274.62 1567.73 Q1272.33 1568.97 1269.21 1568.97 Q1265.96 1568.97 1263.67 1567.73 Q1261.41 1566.48 1260.07 1564 L1260.07 1581.6 L1254.22 1581.6 Z\" fill=\"#000000\" fill-rule=\"nonzero\" fill-opacity=\"1\" /><path clip-path=\"url(#clip570)\" d=\"M1306.7 1520.52 L1312.11 1520.52 L1295.56 1574.09 L1290.15 1574.09 L1306.7 1520.52 Z\" fill=\"#000000\" fill-rule=\"nonzero\" fill-opacity=\"1\" /><path clip-path=\"url(#clip570)\" d=\"M1318.51 1520.52 L1324.94 1520.52 L1324.94 1562.63 L1348.08 1562.63 L1348.08 1568.04 L1318.51 1568.04 L1318.51 1520.52 Z\" fill=\"#000000\" fill-rule=\"nonzero\" fill-opacity=\"1\" /><polyline clip-path=\"url(#clip572)\" style=\"stroke:#000000; stroke-linecap:round; stroke-linejoin:round; stroke-width:2; stroke-opacity:0.1; fill:none\" points=\"249.542,1386.24 2352.76,1386.24 \"/>\n",
       "<polyline clip-path=\"url(#clip572)\" style=\"stroke:#000000; stroke-linecap:round; stroke-linejoin:round; stroke-width:2; stroke-opacity:0.1; fill:none\" points=\"249.542,1061.18 2352.76,1061.18 \"/>\n",
       "<polyline clip-path=\"url(#clip572)\" style=\"stroke:#000000; stroke-linecap:round; stroke-linejoin:round; stroke-width:2; stroke-opacity:0.1; fill:none\" points=\"249.542,736.11 2352.76,736.11 \"/>\n",
       "<polyline clip-path=\"url(#clip572)\" style=\"stroke:#000000; stroke-linecap:round; stroke-linejoin:round; stroke-width:2; stroke-opacity:0.1; fill:none\" points=\"249.542,411.043 2352.76,411.043 \"/>\n",
       "<polyline clip-path=\"url(#clip572)\" style=\"stroke:#000000; stroke-linecap:round; stroke-linejoin:round; stroke-width:2; stroke-opacity:0.1; fill:none\" points=\"249.542,85.9763 2352.76,85.9763 \"/>\n",
       "<polyline clip-path=\"url(#clip570)\" style=\"stroke:#000000; stroke-linecap:round; stroke-linejoin:round; stroke-width:4; stroke-opacity:1; fill:none\" points=\"249.542,1423.18 249.542,47.2441 \"/>\n",
       "<polyline clip-path=\"url(#clip570)\" style=\"stroke:#000000; stroke-linecap:round; stroke-linejoin:round; stroke-width:4; stroke-opacity:1; fill:none\" points=\"249.542,1386.24 268.44,1386.24 \"/>\n",
       "<polyline clip-path=\"url(#clip570)\" style=\"stroke:#000000; stroke-linecap:round; stroke-linejoin:round; stroke-width:4; stroke-opacity:1; fill:none\" points=\"249.542,1061.18 268.44,1061.18 \"/>\n",
       "<polyline clip-path=\"url(#clip570)\" style=\"stroke:#000000; stroke-linecap:round; stroke-linejoin:round; stroke-width:4; stroke-opacity:1; fill:none\" points=\"249.542,736.11 268.44,736.11 \"/>\n",
       "<polyline clip-path=\"url(#clip570)\" style=\"stroke:#000000; stroke-linecap:round; stroke-linejoin:round; stroke-width:4; stroke-opacity:1; fill:none\" points=\"249.542,411.043 268.44,411.043 \"/>\n",
       "<polyline clip-path=\"url(#clip570)\" style=\"stroke:#000000; stroke-linecap:round; stroke-linejoin:round; stroke-width:4; stroke-opacity:1; fill:none\" points=\"249.542,85.9763 268.44,85.9763 \"/>\n",
       "<path clip-path=\"url(#clip570)\" d=\"M126.205 1372.04 Q122.593 1372.04 120.765 1375.61 Q118.959 1379.15 118.959 1386.28 Q118.959 1393.39 120.765 1396.95 Q122.593 1400.49 126.205 1400.49 Q129.839 1400.49 131.644 1396.95 Q133.473 1393.39 133.473 1386.28 Q133.473 1379.15 131.644 1375.61 Q129.839 1372.04 126.205 1372.04 M126.205 1368.34 Q132.015 1368.34 135.07 1372.95 Q138.149 1377.53 138.149 1386.28 Q138.149 1395.01 135.07 1399.61 Q132.015 1404.2 126.205 1404.2 Q120.394 1404.2 117.316 1399.61 Q114.26 1395.01 114.26 1386.28 Q114.26 1377.53 117.316 1372.95 Q120.394 1368.34 126.205 1368.34 Z\" fill=\"#000000\" fill-rule=\"nonzero\" fill-opacity=\"1\" /><path clip-path=\"url(#clip570)\" d=\"M146.366 1397.64 L151.251 1397.64 L151.251 1403.52 L146.366 1403.52 L146.366 1397.64 Z\" fill=\"#000000\" fill-rule=\"nonzero\" fill-opacity=\"1\" /><path clip-path=\"url(#clip570)\" d=\"M171.436 1372.04 Q167.825 1372.04 165.996 1375.61 Q164.19 1379.15 164.19 1386.28 Q164.19 1393.39 165.996 1396.95 Q167.825 1400.49 171.436 1400.49 Q175.07 1400.49 176.876 1396.95 Q178.704 1393.39 178.704 1386.28 Q178.704 1379.15 176.876 1375.61 Q175.07 1372.04 171.436 1372.04 M171.436 1368.34 Q177.246 1368.34 180.301 1372.95 Q183.38 1377.53 183.38 1386.28 Q183.38 1395.01 180.301 1399.61 Q177.246 1404.2 171.436 1404.2 Q165.626 1404.2 162.547 1399.61 Q159.491 1395.01 159.491 1386.28 Q159.491 1377.53 162.547 1372.95 Q165.626 1368.34 171.436 1368.34 Z\" fill=\"#000000\" fill-rule=\"nonzero\" fill-opacity=\"1\" /><path clip-path=\"url(#clip570)\" d=\"M201.598 1372.04 Q197.987 1372.04 196.158 1375.61 Q194.352 1379.15 194.352 1386.28 Q194.352 1393.39 196.158 1396.95 Q197.987 1400.49 201.598 1400.49 Q205.232 1400.49 207.037 1396.95 Q208.866 1393.39 208.866 1386.28 Q208.866 1379.15 207.037 1375.61 Q205.232 1372.04 201.598 1372.04 M201.598 1368.34 Q207.408 1368.34 210.463 1372.95 Q213.542 1377.53 213.542 1386.28 Q213.542 1395.01 210.463 1399.61 Q207.408 1404.2 201.598 1404.2 Q195.787 1404.2 192.709 1399.61 Q189.653 1395.01 189.653 1386.28 Q189.653 1377.53 192.709 1372.95 Q195.787 1368.34 201.598 1368.34 Z\" fill=\"#000000\" fill-rule=\"nonzero\" fill-opacity=\"1\" /><path clip-path=\"url(#clip570)\" d=\"M127.2 1046.98 Q123.589 1046.98 121.76 1050.54 Q119.955 1054.08 119.955 1061.21 Q119.955 1068.32 121.76 1071.88 Q123.589 1075.42 127.2 1075.42 Q130.834 1075.42 132.64 1071.88 Q134.468 1068.32 134.468 1061.21 Q134.468 1054.08 132.64 1050.54 Q130.834 1046.98 127.2 1046.98 M127.2 1043.27 Q133.01 1043.27 136.066 1047.88 Q139.144 1052.46 139.144 1061.21 Q139.144 1069.94 136.066 1074.55 Q133.01 1079.13 127.2 1079.13 Q121.39 1079.13 118.311 1074.55 Q115.256 1069.94 115.256 1061.21 Q115.256 1052.46 118.311 1047.88 Q121.39 1043.27 127.2 1043.27 Z\" fill=\"#000000\" fill-rule=\"nonzero\" fill-opacity=\"1\" /><path clip-path=\"url(#clip570)\" d=\"M147.362 1072.58 L152.246 1072.58 L152.246 1078.46 L147.362 1078.46 L147.362 1072.58 Z\" fill=\"#000000\" fill-rule=\"nonzero\" fill-opacity=\"1\" /><path clip-path=\"url(#clip570)\" d=\"M166.459 1074.52 L182.778 1074.52 L182.778 1078.46 L160.834 1078.46 L160.834 1074.52 Q163.496 1071.77 168.079 1067.14 Q172.686 1062.49 173.866 1061.14 Q176.112 1058.62 176.991 1056.88 Q177.894 1055.12 177.894 1053.43 Q177.894 1050.68 175.95 1048.94 Q174.028 1047.21 170.927 1047.21 Q168.727 1047.21 166.274 1047.97 Q163.843 1048.74 161.065 1050.29 L161.065 1045.56 Q163.89 1044.43 166.343 1043.85 Q168.797 1043.27 170.834 1043.27 Q176.204 1043.27 179.399 1045.96 Q182.593 1048.64 182.593 1053.13 Q182.593 1055.26 181.783 1057.18 Q180.996 1059.08 178.889 1061.68 Q178.311 1062.35 175.209 1065.56 Q172.107 1068.76 166.459 1074.52 Z\" fill=\"#000000\" fill-rule=\"nonzero\" fill-opacity=\"1\" /><path clip-path=\"url(#clip570)\" d=\"M192.639 1043.9 L210.996 1043.9 L210.996 1047.83 L196.922 1047.83 L196.922 1056.3 Q197.94 1055.96 198.959 1055.8 Q199.977 1055.61 200.996 1055.61 Q206.783 1055.61 210.162 1058.78 Q213.542 1061.95 213.542 1067.37 Q213.542 1072.95 210.07 1076.05 Q206.598 1079.13 200.278 1079.13 Q198.102 1079.13 195.834 1078.76 Q193.588 1078.39 191.181 1077.65 L191.181 1072.95 Q193.264 1074.08 195.487 1074.64 Q197.709 1075.19 200.186 1075.19 Q204.19 1075.19 206.528 1073.09 Q208.866 1070.98 208.866 1067.37 Q208.866 1063.76 206.528 1061.65 Q204.19 1059.55 200.186 1059.55 Q198.311 1059.55 196.436 1059.96 Q194.584 1060.38 192.639 1061.26 L192.639 1043.9 Z\" fill=\"#000000\" fill-rule=\"nonzero\" fill-opacity=\"1\" /><path clip-path=\"url(#clip570)\" d=\"M126.205 721.909 Q122.593 721.909 120.765 725.474 Q118.959 729.015 118.959 736.145 Q118.959 743.252 120.765 746.816 Q122.593 750.358 126.205 750.358 Q129.839 750.358 131.644 746.816 Q133.473 743.252 133.473 736.145 Q133.473 729.015 131.644 725.474 Q129.839 721.909 126.205 721.909 M126.205 718.205 Q132.015 718.205 135.07 722.812 Q138.149 727.395 138.149 736.145 Q138.149 744.872 135.07 749.478 Q132.015 754.062 126.205 754.062 Q120.394 754.062 117.316 749.478 Q114.26 744.872 114.26 736.145 Q114.26 727.395 117.316 722.812 Q120.394 718.205 126.205 718.205 Z\" fill=\"#000000\" fill-rule=\"nonzero\" fill-opacity=\"1\" /><path clip-path=\"url(#clip570)\" d=\"M146.366 747.511 L151.251 747.511 L151.251 753.39 L146.366 753.39 L146.366 747.511 Z\" fill=\"#000000\" fill-rule=\"nonzero\" fill-opacity=\"1\" /><path clip-path=\"url(#clip570)\" d=\"M161.482 718.83 L179.839 718.83 L179.839 722.766 L165.765 722.766 L165.765 731.238 Q166.783 730.89 167.802 730.728 Q168.82 730.543 169.839 730.543 Q175.626 730.543 179.005 733.715 Q182.385 736.886 182.385 742.302 Q182.385 747.881 178.913 750.983 Q175.44 754.062 169.121 754.062 Q166.945 754.062 164.677 753.691 Q162.431 753.321 160.024 752.58 L160.024 747.881 Q162.107 749.015 164.329 749.571 Q166.552 750.126 169.028 750.126 Q173.033 750.126 175.371 748.02 Q177.709 745.914 177.709 742.302 Q177.709 738.691 175.371 736.585 Q173.033 734.478 169.028 734.478 Q167.153 734.478 165.278 734.895 Q163.427 735.312 161.482 736.191 L161.482 718.83 Z\" fill=\"#000000\" fill-rule=\"nonzero\" fill-opacity=\"1\" /><path clip-path=\"url(#clip570)\" d=\"M201.598 721.909 Q197.987 721.909 196.158 725.474 Q194.352 729.015 194.352 736.145 Q194.352 743.252 196.158 746.816 Q197.987 750.358 201.598 750.358 Q205.232 750.358 207.037 746.816 Q208.866 743.252 208.866 736.145 Q208.866 729.015 207.037 725.474 Q205.232 721.909 201.598 721.909 M201.598 718.205 Q207.408 718.205 210.463 722.812 Q213.542 727.395 213.542 736.145 Q213.542 744.872 210.463 749.478 Q207.408 754.062 201.598 754.062 Q195.787 754.062 192.709 749.478 Q189.653 744.872 189.653 736.145 Q189.653 727.395 192.709 722.812 Q195.787 718.205 201.598 718.205 Z\" fill=\"#000000\" fill-rule=\"nonzero\" fill-opacity=\"1\" /><path clip-path=\"url(#clip570)\" d=\"M127.2 396.842 Q123.589 396.842 121.76 400.407 Q119.955 403.948 119.955 411.078 Q119.955 418.185 121.76 421.749 Q123.589 425.291 127.2 425.291 Q130.834 425.291 132.64 421.749 Q134.468 418.185 134.468 411.078 Q134.468 403.948 132.64 400.407 Q130.834 396.842 127.2 396.842 M127.2 393.138 Q133.01 393.138 136.066 397.745 Q139.144 402.328 139.144 411.078 Q139.144 419.805 136.066 424.411 Q133.01 428.995 127.2 428.995 Q121.39 428.995 118.311 424.411 Q115.256 419.805 115.256 411.078 Q115.256 402.328 118.311 397.745 Q121.39 393.138 127.2 393.138 Z\" fill=\"#000000\" fill-rule=\"nonzero\" fill-opacity=\"1\" /><path clip-path=\"url(#clip570)\" d=\"M147.362 422.444 L152.246 422.444 L152.246 428.323 L147.362 428.323 L147.362 422.444 Z\" fill=\"#000000\" fill-rule=\"nonzero\" fill-opacity=\"1\" /><path clip-path=\"url(#clip570)\" d=\"M161.251 393.763 L183.473 393.763 L183.473 395.754 L170.927 428.323 L166.042 428.323 L177.848 397.699 L161.251 397.699 L161.251 393.763 Z\" fill=\"#000000\" fill-rule=\"nonzero\" fill-opacity=\"1\" /><path clip-path=\"url(#clip570)\" d=\"M192.639 393.763 L210.996 393.763 L210.996 397.699 L196.922 397.699 L196.922 406.171 Q197.94 405.823 198.959 405.661 Q199.977 405.476 200.996 405.476 Q206.783 405.476 210.162 408.648 Q213.542 411.819 213.542 417.235 Q213.542 422.814 210.07 425.916 Q206.598 428.995 200.278 428.995 Q198.102 428.995 195.834 428.624 Q193.588 428.254 191.181 427.513 L191.181 422.814 Q193.264 423.948 195.487 424.504 Q197.709 425.059 200.186 425.059 Q204.19 425.059 206.528 422.953 Q208.866 420.847 208.866 417.235 Q208.866 413.624 206.528 411.518 Q204.19 409.411 200.186 409.411 Q198.311 409.411 196.436 409.828 Q194.584 410.245 192.639 411.124 L192.639 393.763 Z\" fill=\"#000000\" fill-rule=\"nonzero\" fill-opacity=\"1\" /><path clip-path=\"url(#clip570)\" d=\"M117.015 99.3212 L124.654 99.3212 L124.654 72.9556 L116.343 74.6222 L116.343 70.363 L124.607 68.6963 L129.283 68.6963 L129.283 99.3212 L136.922 99.3212 L136.922 103.256 L117.015 103.256 L117.015 99.3212 Z\" fill=\"#000000\" fill-rule=\"nonzero\" fill-opacity=\"1\" /><path clip-path=\"url(#clip570)\" d=\"M146.366 97.3767 L151.251 97.3767 L151.251 103.256 L146.366 103.256 L146.366 97.3767 Z\" fill=\"#000000\" fill-rule=\"nonzero\" fill-opacity=\"1\" /><path clip-path=\"url(#clip570)\" d=\"M171.436 71.775 Q167.825 71.775 165.996 75.3398 Q164.19 78.8815 164.19 86.0111 Q164.19 93.1175 165.996 96.6823 Q167.825 100.224 171.436 100.224 Q175.07 100.224 176.876 96.6823 Q178.704 93.1175 178.704 86.0111 Q178.704 78.8815 176.876 75.3398 Q175.07 71.775 171.436 71.775 M171.436 68.0713 Q177.246 68.0713 180.301 72.6778 Q183.38 77.2611 183.38 86.0111 Q183.38 94.7379 180.301 99.3443 Q177.246 103.928 171.436 103.928 Q165.626 103.928 162.547 99.3443 Q159.491 94.7379 159.491 86.0111 Q159.491 77.2611 162.547 72.6778 Q165.626 68.0713 171.436 68.0713 Z\" fill=\"#000000\" fill-rule=\"nonzero\" fill-opacity=\"1\" /><path clip-path=\"url(#clip570)\" d=\"M201.598 71.775 Q197.987 71.775 196.158 75.3398 Q194.352 78.8815 194.352 86.0111 Q194.352 93.1175 196.158 96.6823 Q197.987 100.224 201.598 100.224 Q205.232 100.224 207.037 96.6823 Q208.866 93.1175 208.866 86.0111 Q208.866 78.8815 207.037 75.3398 Q205.232 71.775 201.598 71.775 M201.598 68.0713 Q207.408 68.0713 210.463 72.6778 Q213.542 77.2611 213.542 86.0111 Q213.542 94.7379 210.463 99.3443 Q207.408 103.928 201.598 103.928 Q195.787 103.928 192.709 99.3443 Q189.653 94.7379 189.653 86.0111 Q189.653 77.2611 192.709 72.6778 Q195.787 68.0713 201.598 68.0713 Z\" fill=\"#000000\" fill-rule=\"nonzero\" fill-opacity=\"1\" /><path clip-path=\"url(#clip570)\" d=\"M34.7219 783.846 Q31.4754 781.904 28.6108 777.098 Q27.4968 775.22 27.4968 769.428 Q27.4968 762.935 32.6531 758.892 Q37.8093 754.818 46.212 754.818 Q54.6147 754.818 59.771 758.892 Q64.9272 762.935 64.9272 769.428 Q64.9272 773.343 63.3994 776.175 Q61.8398 778.976 58.657 780.822 L77.5631 780.822 L77.5631 786.711 L46.5303 786.711 Q39.1779 786.711 34.7219 783.846 M46.212 760.898 Q39.7508 760.898 36.0905 763.571 Q32.3984 766.213 32.3984 770.86 Q32.3984 775.507 36.0905 778.18 Q39.7508 780.822 46.212 780.822 Q52.6732 780.822 56.3653 778.18 Q60.0256 775.507 60.0256 770.86 Q60.0256 766.213 56.3653 763.571 Q52.6732 760.898 46.212 760.898 Z\" fill=\"#000000\" fill-rule=\"nonzero\" fill-opacity=\"1\" /><path clip-path=\"url(#clip570)\" d=\"M74.8259 718.025 L79.3773 718.025 L79.3773 751.89 L74.8259 751.89 L74.8259 718.025 Z\" fill=\"#000000\" fill-rule=\"nonzero\" fill-opacity=\"1\" /><path clip-path=\"url(#clip570)\" d=\"M58.5933 706.153 L58.5933 683.713 L64.0042 683.713 L64.0042 713.887 L58.5933 713.887 Q54.8057 710.227 48.44 703.925 Q42.0425 697.591 40.1964 695.967 Q36.7271 692.88 34.34 691.671 Q31.921 690.429 29.5975 690.429 Q25.8099 690.429 23.4228 693.103 Q21.0356 695.745 21.0356 700.01 Q21.0356 703.033 22.086 706.407 Q23.1363 709.749 25.2688 713.569 L18.7758 713.569 Q17.2162 709.685 16.4205 706.312 Q15.6248 702.938 15.6248 700.137 Q15.6248 692.753 19.3169 688.36 Q23.009 683.968 29.1837 683.968 Q32.112 683.968 34.7537 685.082 Q37.3637 686.164 40.9285 689.061 Q41.8515 689.856 46.2757 694.121 Q50.668 698.386 58.5933 706.153 Z\" fill=\"#000000\" fill-rule=\"nonzero\" fill-opacity=\"1\" /><polyline clip-path=\"url(#clip572)\" style=\"stroke:#009af9; stroke-linecap:round; stroke-linejoin:round; stroke-width:4; stroke-opacity:1; fill:none\" points=\"309.067,86.1857 319,88.552 331.417,93.5532 356.25,108.225 381.083,127.934 405.916,151.859 430.749,179.438 455.582,210.214 480.415,243.777 505.248,279.742 530.081,317.744 554.915,357.427 679.08,569.451 803.245,778.184 927.411,950.106 1051.58,1070.32 1175.74,1161.05 1299.91,1228.37 1424.07,1277.66 1548.24,1313.27 1672.4,1338.57 1796.57,1356.2 1920.73,1368.33 2044.9,1376.41 2169.07,1381.42 2293.23,1384.24 \"/>\n",
       "<polyline clip-path=\"url(#clip572)\" style=\"stroke:#e26f46; stroke-linecap:round; stroke-linejoin:round; stroke-width:4; stroke-opacity:1; fill:none\" stroke-dasharray=\"16, 10\" points=\"309.067,86.1882 319,88.5528 331.417,93.5533 356.25,108.225 381.083,127.934 405.916,151.859 430.749,179.439 455.582,210.214 480.415,243.779 505.248,279.743 530.081,317.745 554.915,357.427 679.08,569.451 803.245,778.186 927.411,954.328 1051.58,1072.84 1175.74,1162.25 1299.91,1228.84 1424.07,1277.8 1548.24,1313.29 1672.4,1338.58 1796.57,1356.2 1920.73,1368.33 2044.9,1376.41 2169.07,1381.42 2293.23,1384.24 \"/>\n",
       "<path clip-path=\"url(#clip570)\" d=\"M1905.11 248.629 L2282.65 248.629 L2282.65 93.1086 L1905.11 93.1086  Z\" fill=\"#ffffff\" fill-rule=\"evenodd\" fill-opacity=\"1\"/>\n",
       "<polyline clip-path=\"url(#clip570)\" style=\"stroke:#000000; stroke-linecap:round; stroke-linejoin:round; stroke-width:4; stroke-opacity:1; fill:none\" points=\"1905.11,248.629 2282.65,248.629 2282.65,93.1086 1905.11,93.1086 1905.11,248.629 \"/>\n",
       "<polyline clip-path=\"url(#clip570)\" style=\"stroke:#009af9; stroke-linecap:round; stroke-linejoin:round; stroke-width:4; stroke-opacity:1; fill:none\" points=\"1928.48,144.949 2068.69,144.949 \"/>\n",
       "<path clip-path=\"url(#clip570)\" d=\"M2094.14 140.932 Q2095.55 138.571 2099.05 136.488 Q2100.41 135.678 2104.63 135.678 Q2109.35 135.678 2112.29 139.428 Q2115.25 143.178 2115.25 149.289 Q2115.25 155.4 2112.29 159.15 Q2109.35 162.9 2104.63 162.9 Q2101.78 162.9 2099.72 161.789 Q2097.68 160.655 2096.34 158.34 L2096.34 172.09 L2092.06 172.09 L2092.06 149.52 Q2092.06 144.173 2094.14 140.932 M2110.83 149.289 Q2110.83 144.59 2108.89 141.928 Q2106.97 139.243 2103.59 139.243 Q2100.21 139.243 2098.26 141.928 Q2096.34 144.59 2096.34 149.289 Q2096.34 153.988 2098.26 156.673 Q2100.21 159.335 2103.59 159.335 Q2106.97 159.335 2108.89 156.673 Q2110.83 153.988 2110.83 149.289 Z\" fill=\"#000000\" fill-rule=\"nonzero\" fill-opacity=\"1\" /><path clip-path=\"url(#clip570)\" d=\"M2142.01 170.099 L2142.01 173.409 L2117.38 173.409 L2117.38 170.099 L2142.01 170.099 Z\" fill=\"#000000\" fill-rule=\"nonzero\" fill-opacity=\"1\" /><path clip-path=\"url(#clip570)\" d=\"M2150.65 158.293 L2166.97 158.293 L2166.97 162.229 L2145.02 162.229 L2145.02 158.293 Q2147.68 155.539 2152.27 150.909 Q2156.87 146.256 2158.05 144.914 Q2160.3 142.391 2161.18 140.655 Q2162.08 138.895 2162.08 137.206 Q2162.08 134.451 2160.14 132.715 Q2158.22 130.979 2155.11 130.979 Q2152.91 130.979 2150.46 131.743 Q2148.03 132.507 2145.25 134.057 L2145.25 129.335 Q2148.08 128.201 2150.53 127.622 Q2152.98 127.044 2155.02 127.044 Q2160.39 127.044 2163.59 129.729 Q2166.78 132.414 2166.78 136.905 Q2166.78 139.034 2165.97 140.956 Q2165.18 142.854 2163.08 145.446 Q2162.5 146.118 2159.4 149.335 Q2156.29 152.53 2150.65 158.293 Z\" fill=\"#000000\" fill-rule=\"nonzero\" fill-opacity=\"1\" /><path clip-path=\"url(#clip570)\" d=\"M2195.88 170.099 L2195.88 173.409 L2171.25 173.409 L2171.25 170.099 L2195.88 170.099 Z\" fill=\"#000000\" fill-rule=\"nonzero\" fill-opacity=\"1\" /><path clip-path=\"url(#clip570)\" d=\"M2199.53 127.669 L2204.23 127.669 L2204.23 148.664 Q2204.23 154.219 2206.25 156.673 Q2208.26 159.104 2212.78 159.104 Q2217.27 159.104 2219.28 156.673 Q2221.29 154.219 2221.29 148.664 L2221.29 127.669 L2225.99 127.669 L2225.99 149.243 Q2225.99 156.002 2222.64 159.451 Q2219.3 162.9 2212.78 162.9 Q2206.22 162.9 2202.87 159.451 Q2199.53 156.002 2199.53 149.243 L2199.53 127.669 Z\" fill=\"#000000\" fill-rule=\"nonzero\" fill-opacity=\"1\" /><path clip-path=\"url(#clip570)\" d=\"M2239.44 145.724 L2239.44 158.386 L2246.94 158.386 Q2250.71 158.386 2252.52 156.835 Q2254.35 155.261 2254.35 152.043 Q2254.35 148.803 2252.52 147.275 Q2250.71 145.724 2246.94 145.724 L2239.44 145.724 M2239.44 131.511 L2239.44 141.928 L2246.36 141.928 Q2249.79 141.928 2251.46 140.655 Q2253.15 139.358 2253.15 136.719 Q2253.15 134.104 2251.46 132.807 Q2249.79 131.511 2246.36 131.511 L2239.44 131.511 M2234.77 127.669 L2246.71 127.669 Q2252.06 127.669 2254.95 129.891 Q2257.84 132.113 2257.84 136.21 Q2257.84 139.382 2256.36 141.257 Q2254.88 143.131 2252.01 143.594 Q2255.46 144.335 2257.36 146.696 Q2259.28 149.034 2259.28 152.553 Q2259.28 157.182 2256.13 159.705 Q2252.98 162.229 2247.17 162.229 L2234.77 162.229 L2234.77 127.669 Z\" fill=\"#000000\" fill-rule=\"nonzero\" fill-opacity=\"1\" /><polyline clip-path=\"url(#clip570)\" style=\"stroke:#e26f46; stroke-linecap:round; stroke-linejoin:round; stroke-width:4; stroke-opacity:1; fill:none\" stroke-dasharray=\"16, 10\" points=\"1928.48,196.789 2068.69,196.789 \"/>\n",
       "<path clip-path=\"url(#clip570)\" d=\"M2094.14 192.772 Q2095.55 190.411 2099.05 188.328 Q2100.41 187.518 2104.63 187.518 Q2109.35 187.518 2112.29 191.268 Q2115.25 195.018 2115.25 201.129 Q2115.25 207.24 2112.29 210.99 Q2109.35 214.74 2104.63 214.74 Q2101.78 214.74 2099.72 213.629 Q2097.68 212.495 2096.34 210.18 L2096.34 223.93 L2092.06 223.93 L2092.06 201.36 Q2092.06 196.013 2094.14 192.772 M2110.83 201.129 Q2110.83 196.43 2108.89 193.768 Q2106.97 191.083 2103.59 191.083 Q2100.21 191.083 2098.26 193.768 Q2096.34 196.43 2096.34 201.129 Q2096.34 205.828 2098.26 208.513 Q2100.21 211.175 2103.59 211.175 Q2106.97 211.175 2108.89 208.513 Q2110.83 205.828 2110.83 201.129 Z\" fill=\"#000000\" fill-rule=\"nonzero\" fill-opacity=\"1\" /><path clip-path=\"url(#clip570)\" d=\"M2142.01 221.939 L2142.01 225.249 L2117.38 225.249 L2117.38 221.939 L2142.01 221.939 Z\" fill=\"#000000\" fill-rule=\"nonzero\" fill-opacity=\"1\" /><path clip-path=\"url(#clip570)\" d=\"M2150.65 210.133 L2166.97 210.133 L2166.97 214.069 L2145.02 214.069 L2145.02 210.133 Q2147.68 207.379 2152.27 202.749 Q2156.87 198.096 2158.05 196.754 Q2160.3 194.231 2161.18 192.495 Q2162.08 190.735 2162.08 189.046 Q2162.08 186.291 2160.14 184.555 Q2158.22 182.819 2155.11 182.819 Q2152.91 182.819 2150.46 183.583 Q2148.03 184.347 2145.25 185.897 L2145.25 181.175 Q2148.08 180.041 2150.53 179.462 Q2152.98 178.884 2155.02 178.884 Q2160.39 178.884 2163.59 181.569 Q2166.78 184.254 2166.78 188.745 Q2166.78 190.874 2165.97 192.796 Q2165.18 194.694 2163.08 197.286 Q2162.5 197.958 2159.4 201.175 Q2156.29 204.37 2150.65 210.133 Z\" fill=\"#000000\" fill-rule=\"nonzero\" fill-opacity=\"1\" /><path clip-path=\"url(#clip570)\" d=\"M2195.88 221.939 L2195.88 225.249 L2171.25 225.249 L2171.25 221.939 L2195.88 221.939 Z\" fill=\"#000000\" fill-rule=\"nonzero\" fill-opacity=\"1\" /><path clip-path=\"url(#clip570)\" d=\"M2200.07 179.509 L2204.74 179.509 L2204.74 210.133 L2221.57 210.133 L2221.57 214.069 L2200.07 214.069 L2200.07 179.509 Z\" fill=\"#000000\" fill-rule=\"nonzero\" fill-opacity=\"1\" /><path clip-path=\"url(#clip570)\" d=\"M2231.15 197.564 L2231.15 210.226 L2238.65 210.226 Q2242.43 210.226 2244.23 208.675 Q2246.06 207.101 2246.06 203.883 Q2246.06 200.643 2244.23 199.115 Q2242.43 197.564 2238.65 197.564 L2231.15 197.564 M2231.15 183.351 L2231.15 193.768 L2238.08 193.768 Q2241.5 193.768 2243.17 192.495 Q2244.86 191.198 2244.86 188.559 Q2244.86 185.944 2243.17 184.647 Q2241.5 183.351 2238.08 183.351 L2231.15 183.351 M2226.48 179.509 L2238.42 179.509 Q2243.77 179.509 2246.66 181.731 Q2249.56 183.953 2249.56 188.05 Q2249.56 191.222 2248.08 193.097 Q2246.59 194.971 2243.72 195.434 Q2247.17 196.175 2249.07 198.536 Q2250.99 200.874 2250.99 204.393 Q2250.99 209.022 2247.84 211.545 Q2244.7 214.069 2238.89 214.069 L2226.48 214.069 L2226.48 179.509 Z\" fill=\"#000000\" fill-rule=\"nonzero\" fill-opacity=\"1\" /></svg>\n"
      ],
      "text/html": [
       "<?xml version=\"1.0\" encoding=\"utf-8\"?>\n",
       "<svg xmlns=\"http://www.w3.org/2000/svg\" xmlns:xlink=\"http://www.w3.org/1999/xlink\" width=\"600\" height=\"400\" viewBox=\"0 0 2400 1600\">\n",
       "<defs>\n",
       "  <clipPath id=\"clip620\">\n",
       "    <rect x=\"0\" y=\"0\" width=\"2400\" height=\"1600\"/>\n",
       "  </clipPath>\n",
       "</defs>\n",
       "<path clip-path=\"url(#clip620)\" d=\"M0 1600 L2400 1600 L2400 0 L0 0  Z\" fill=\"#ffffff\" fill-rule=\"evenodd\" fill-opacity=\"1\"/>\n",
       "<defs>\n",
       "  <clipPath id=\"clip621\">\n",
       "    <rect x=\"480\" y=\"0\" width=\"1681\" height=\"1600\"/>\n",
       "  </clipPath>\n",
       "</defs>\n",
       "<path clip-path=\"url(#clip620)\" d=\"M249.542 1423.18 L2352.76 1423.18 L2352.76 47.2441 L249.542 47.2441  Z\" fill=\"#ffffff\" fill-rule=\"evenodd\" fill-opacity=\"1\"/>\n",
       "<defs>\n",
       "  <clipPath id=\"clip622\">\n",
       "    <rect x=\"249\" y=\"47\" width=\"2104\" height=\"1377\"/>\n",
       "  </clipPath>\n",
       "</defs>\n",
       "<polyline clip-path=\"url(#clip622)\" style=\"stroke:#000000; stroke-linecap:round; stroke-linejoin:round; stroke-width:2; stroke-opacity:0.1; fill:none\" points=\"306.584,1423.18 306.584,47.2441 \"/>\n",
       "<polyline clip-path=\"url(#clip622)\" style=\"stroke:#000000; stroke-linecap:round; stroke-linejoin:round; stroke-width:2; stroke-opacity:0.1; fill:none\" points=\"803.245,1423.18 803.245,47.2441 \"/>\n",
       "<polyline clip-path=\"url(#clip622)\" style=\"stroke:#000000; stroke-linecap:round; stroke-linejoin:round; stroke-width:2; stroke-opacity:0.1; fill:none\" points=\"1299.91,1423.18 1299.91,47.2441 \"/>\n",
       "<polyline clip-path=\"url(#clip622)\" style=\"stroke:#000000; stroke-linecap:round; stroke-linejoin:round; stroke-width:2; stroke-opacity:0.1; fill:none\" points=\"1796.57,1423.18 1796.57,47.2441 \"/>\n",
       "<polyline clip-path=\"url(#clip622)\" style=\"stroke:#000000; stroke-linecap:round; stroke-linejoin:round; stroke-width:2; stroke-opacity:0.1; fill:none\" points=\"2293.23,1423.18 2293.23,47.2441 \"/>\n",
       "<polyline clip-path=\"url(#clip620)\" style=\"stroke:#000000; stroke-linecap:round; stroke-linejoin:round; stroke-width:4; stroke-opacity:1; fill:none\" points=\"249.542,1423.18 2352.76,1423.18 \"/>\n",
       "<polyline clip-path=\"url(#clip620)\" style=\"stroke:#000000; stroke-linecap:round; stroke-linejoin:round; stroke-width:4; stroke-opacity:1; fill:none\" points=\"306.584,1423.18 306.584,1404.28 \"/>\n",
       "<polyline clip-path=\"url(#clip620)\" style=\"stroke:#000000; stroke-linecap:round; stroke-linejoin:round; stroke-width:4; stroke-opacity:1; fill:none\" points=\"803.245,1423.18 803.245,1404.28 \"/>\n",
       "<polyline clip-path=\"url(#clip620)\" style=\"stroke:#000000; stroke-linecap:round; stroke-linejoin:round; stroke-width:4; stroke-opacity:1; fill:none\" points=\"1299.91,1423.18 1299.91,1404.28 \"/>\n",
       "<polyline clip-path=\"url(#clip620)\" style=\"stroke:#000000; stroke-linecap:round; stroke-linejoin:round; stroke-width:4; stroke-opacity:1; fill:none\" points=\"1796.57,1423.18 1796.57,1404.28 \"/>\n",
       "<polyline clip-path=\"url(#clip620)\" style=\"stroke:#000000; stroke-linecap:round; stroke-linejoin:round; stroke-width:4; stroke-opacity:1; fill:none\" points=\"2293.23,1423.18 2293.23,1404.28 \"/>\n",
       "<path clip-path=\"url(#clip620)\" d=\"M283.968 1454.1 Q280.357 1454.1 278.528 1457.66 Q276.723 1461.2 276.723 1468.33 Q276.723 1475.44 278.528 1479.01 Q280.357 1482.55 283.968 1482.55 Q287.602 1482.55 289.408 1479.01 Q291.237 1475.44 291.237 1468.33 Q291.237 1461.2 289.408 1457.66 Q287.602 1454.1 283.968 1454.1 M283.968 1450.39 Q289.778 1450.39 292.834 1455 Q295.912 1459.58 295.912 1468.33 Q295.912 1477.06 292.834 1481.67 Q289.778 1486.25 283.968 1486.25 Q278.158 1486.25 275.079 1481.67 Q272.024 1477.06 272.024 1468.33 Q272.024 1459.58 275.079 1455 Q278.158 1450.39 283.968 1450.39 Z\" fill=\"#000000\" fill-rule=\"nonzero\" fill-opacity=\"1\" /><path clip-path=\"url(#clip620)\" d=\"M304.13 1479.7 L309.014 1479.7 L309.014 1485.58 L304.13 1485.58 L304.13 1479.7 Z\" fill=\"#000000\" fill-rule=\"nonzero\" fill-opacity=\"1\" /><path clip-path=\"url(#clip620)\" d=\"M329.199 1454.1 Q325.588 1454.1 323.759 1457.66 Q321.954 1461.2 321.954 1468.33 Q321.954 1475.44 323.759 1479.01 Q325.588 1482.55 329.199 1482.55 Q332.834 1482.55 334.639 1479.01 Q336.468 1475.44 336.468 1468.33 Q336.468 1461.2 334.639 1457.66 Q332.834 1454.1 329.199 1454.1 M329.199 1450.39 Q335.009 1450.39 338.065 1455 Q341.144 1459.58 341.144 1468.33 Q341.144 1477.06 338.065 1481.67 Q335.009 1486.25 329.199 1486.25 Q323.389 1486.25 320.31 1481.67 Q317.255 1477.06 317.255 1468.33 Q317.255 1459.58 320.31 1455 Q323.389 1450.39 329.199 1450.39 Z\" fill=\"#000000\" fill-rule=\"nonzero\" fill-opacity=\"1\" /><path clip-path=\"url(#clip620)\" d=\"M781.428 1454.1 Q777.817 1454.1 775.989 1457.66 Q774.183 1461.2 774.183 1468.33 Q774.183 1475.44 775.989 1479.01 Q777.817 1482.55 781.428 1482.55 Q785.063 1482.55 786.868 1479.01 Q788.697 1475.44 788.697 1468.33 Q788.697 1461.2 786.868 1457.66 Q785.063 1454.1 781.428 1454.1 M781.428 1450.39 Q787.239 1450.39 790.294 1455 Q793.373 1459.58 793.373 1468.33 Q793.373 1477.06 790.294 1481.67 Q787.239 1486.25 781.428 1486.25 Q775.618 1486.25 772.54 1481.67 Q769.484 1477.06 769.484 1468.33 Q769.484 1459.58 772.54 1455 Q775.618 1450.39 781.428 1450.39 Z\" fill=\"#000000\" fill-rule=\"nonzero\" fill-opacity=\"1\" /><path clip-path=\"url(#clip620)\" d=\"M801.59 1479.7 L806.475 1479.7 L806.475 1485.58 L801.59 1485.58 L801.59 1479.7 Z\" fill=\"#000000\" fill-rule=\"nonzero\" fill-opacity=\"1\" /><path clip-path=\"url(#clip620)\" d=\"M820.688 1481.64 L837.007 1481.64 L837.007 1485.58 L815.063 1485.58 L815.063 1481.64 Q817.725 1478.89 822.308 1474.26 Q826.914 1469.61 828.095 1468.27 Q830.34 1465.74 831.22 1464.01 Q832.123 1462.25 832.123 1460.56 Q832.123 1457.8 830.178 1456.07 Q828.257 1454.33 825.155 1454.33 Q822.956 1454.33 820.502 1455.09 Q818.072 1455.86 815.294 1457.41 L815.294 1452.69 Q818.118 1451.55 820.572 1450.97 Q823.025 1450.39 825.062 1450.39 Q830.433 1450.39 833.627 1453.08 Q836.822 1455.77 836.822 1460.26 Q836.822 1462.39 836.012 1464.31 Q835.224 1466.2 833.118 1468.8 Q832.539 1469.47 829.437 1472.69 Q826.336 1475.88 820.688 1481.64 Z\" fill=\"#000000\" fill-rule=\"nonzero\" fill-opacity=\"1\" /><path clip-path=\"url(#clip620)\" d=\"M1277.05 1454.1 Q1273.44 1454.1 1271.61 1457.66 Q1269.8 1461.2 1269.8 1468.33 Q1269.8 1475.44 1271.61 1479.01 Q1273.44 1482.55 1277.05 1482.55 Q1280.68 1482.55 1282.49 1479.01 Q1284.32 1475.44 1284.32 1468.33 Q1284.32 1461.2 1282.49 1457.66 Q1280.68 1454.1 1277.05 1454.1 M1277.05 1450.39 Q1282.86 1450.39 1285.91 1455 Q1288.99 1459.58 1288.99 1468.33 Q1288.99 1477.06 1285.91 1481.67 Q1282.86 1486.25 1277.05 1486.25 Q1271.24 1486.25 1268.16 1481.67 Q1265.1 1477.06 1265.1 1468.33 Q1265.1 1459.58 1268.16 1455 Q1271.24 1450.39 1277.05 1450.39 Z\" fill=\"#000000\" fill-rule=\"nonzero\" fill-opacity=\"1\" /><path clip-path=\"url(#clip620)\" d=\"M1297.21 1479.7 L1302.09 1479.7 L1302.09 1485.58 L1297.21 1485.58 L1297.21 1479.7 Z\" fill=\"#000000\" fill-rule=\"nonzero\" fill-opacity=\"1\" /><path clip-path=\"url(#clip620)\" d=\"M1325.13 1455.09 L1313.32 1473.54 L1325.13 1473.54 L1325.13 1455.09 M1323.9 1451.02 L1329.78 1451.02 L1329.78 1473.54 L1334.71 1473.54 L1334.71 1477.43 L1329.78 1477.43 L1329.78 1485.58 L1325.13 1485.58 L1325.13 1477.43 L1309.53 1477.43 L1309.53 1472.92 L1323.9 1451.02 Z\" fill=\"#000000\" fill-rule=\"nonzero\" fill-opacity=\"1\" /><path clip-path=\"url(#clip620)\" d=\"M1773.87 1454.1 Q1770.26 1454.1 1768.43 1457.66 Q1766.63 1461.2 1766.63 1468.33 Q1766.63 1475.44 1768.43 1479.01 Q1770.26 1482.55 1773.87 1482.55 Q1777.51 1482.55 1779.31 1479.01 Q1781.14 1475.44 1781.14 1468.33 Q1781.14 1461.2 1779.31 1457.66 Q1777.51 1454.1 1773.87 1454.1 M1773.87 1450.39 Q1779.68 1450.39 1782.74 1455 Q1785.82 1459.58 1785.82 1468.33 Q1785.82 1477.06 1782.74 1481.67 Q1779.68 1486.25 1773.87 1486.25 Q1768.06 1486.25 1764.98 1481.67 Q1761.93 1477.06 1761.93 1468.33 Q1761.93 1459.58 1764.98 1455 Q1768.06 1450.39 1773.87 1450.39 Z\" fill=\"#000000\" fill-rule=\"nonzero\" fill-opacity=\"1\" /><path clip-path=\"url(#clip620)\" d=\"M1794.03 1479.7 L1798.92 1479.7 L1798.92 1485.58 L1794.03 1485.58 L1794.03 1479.7 Z\" fill=\"#000000\" fill-rule=\"nonzero\" fill-opacity=\"1\" /><path clip-path=\"url(#clip620)\" d=\"M1819.68 1466.44 Q1816.53 1466.44 1814.68 1468.59 Q1812.85 1470.74 1812.85 1474.49 Q1812.85 1478.22 1814.68 1480.39 Q1816.53 1482.55 1819.68 1482.55 Q1822.83 1482.55 1824.66 1480.39 Q1826.51 1478.22 1826.51 1474.49 Q1826.51 1470.74 1824.66 1468.59 Q1822.83 1466.44 1819.68 1466.44 M1828.96 1451.78 L1828.96 1456.04 Q1827.21 1455.21 1825.4 1454.77 Q1823.62 1454.33 1821.86 1454.33 Q1817.23 1454.33 1814.78 1457.45 Q1812.34 1460.58 1812 1466.9 Q1813.36 1464.89 1815.42 1463.82 Q1817.48 1462.73 1819.96 1462.73 Q1825.17 1462.73 1828.18 1465.9 Q1831.21 1469.05 1831.21 1474.49 Q1831.21 1479.82 1828.06 1483.03 Q1824.91 1486.25 1819.68 1486.25 Q1813.69 1486.25 1810.52 1481.67 Q1807.34 1477.06 1807.34 1468.33 Q1807.34 1460.14 1811.23 1455.28 Q1815.12 1450.39 1821.67 1450.39 Q1823.43 1450.39 1825.21 1450.74 Q1827.02 1451.09 1828.96 1451.78 Z\" fill=\"#000000\" fill-rule=\"nonzero\" fill-opacity=\"1\" /><path clip-path=\"url(#clip620)\" d=\"M2270.66 1454.1 Q2267.05 1454.1 2265.22 1457.66 Q2263.42 1461.2 2263.42 1468.33 Q2263.42 1475.44 2265.22 1479.01 Q2267.05 1482.55 2270.66 1482.55 Q2274.3 1482.55 2276.1 1479.01 Q2277.93 1475.44 2277.93 1468.33 Q2277.93 1461.2 2276.1 1457.66 Q2274.3 1454.1 2270.66 1454.1 M2270.66 1450.39 Q2276.47 1450.39 2279.53 1455 Q2282.61 1459.58 2282.61 1468.33 Q2282.61 1477.06 2279.53 1481.67 Q2276.47 1486.25 2270.66 1486.25 Q2264.85 1486.25 2261.77 1481.67 Q2258.72 1477.06 2258.72 1468.33 Q2258.72 1459.58 2261.77 1455 Q2264.85 1450.39 2270.66 1450.39 Z\" fill=\"#000000\" fill-rule=\"nonzero\" fill-opacity=\"1\" /><path clip-path=\"url(#clip620)\" d=\"M2290.82 1479.7 L2295.71 1479.7 L2295.71 1485.58 L2290.82 1485.58 L2290.82 1479.7 Z\" fill=\"#000000\" fill-rule=\"nonzero\" fill-opacity=\"1\" /><path clip-path=\"url(#clip620)\" d=\"M2315.89 1469.17 Q2312.56 1469.17 2310.64 1470.95 Q2308.74 1472.73 2308.74 1475.86 Q2308.74 1478.98 2310.64 1480.77 Q2312.56 1482.55 2315.89 1482.55 Q2319.23 1482.55 2321.15 1480.77 Q2323.07 1478.96 2323.07 1475.86 Q2323.07 1472.73 2321.15 1470.95 Q2319.25 1469.17 2315.89 1469.17 M2311.22 1467.18 Q2308.21 1466.44 2306.52 1464.38 Q2304.85 1462.32 2304.85 1459.35 Q2304.85 1455.21 2307.79 1452.8 Q2310.75 1450.39 2315.89 1450.39 Q2321.05 1450.39 2323.99 1452.8 Q2326.93 1455.21 2326.93 1459.35 Q2326.93 1462.32 2325.24 1464.38 Q2323.58 1466.44 2320.59 1467.18 Q2323.97 1467.96 2325.85 1470.26 Q2327.74 1472.55 2327.74 1475.86 Q2327.74 1480.88 2324.67 1483.57 Q2321.61 1486.25 2315.89 1486.25 Q2310.18 1486.25 2307.1 1483.57 Q2304.04 1480.88 2304.04 1475.86 Q2304.04 1472.55 2305.94 1470.26 Q2307.84 1467.96 2311.22 1467.18 M2309.5 1459.79 Q2309.5 1462.48 2311.17 1463.98 Q2312.86 1465.49 2315.89 1465.49 Q2318.9 1465.49 2320.59 1463.98 Q2322.3 1462.48 2322.3 1459.79 Q2322.3 1457.11 2320.59 1455.6 Q2318.9 1454.1 2315.89 1454.1 Q2312.86 1454.1 2311.17 1455.6 Q2309.5 1457.11 2309.5 1459.79 Z\" fill=\"#000000\" fill-rule=\"nonzero\" fill-opacity=\"1\" /><path clip-path=\"url(#clip620)\" d=\"M1254.22 1581.6 L1254.22 1532.4 L1260.07 1532.4 L1260.07 1554.55 Q1260.07 1559.16 1262.27 1561.52 Q1264.47 1563.87 1268.76 1563.87 Q1273.47 1563.87 1275.83 1561.2 Q1278.22 1558.53 1278.22 1553.18 L1278.22 1532.4 L1284.07 1532.4 L1284.07 1559.83 Q1284.07 1561.74 1284.61 1562.66 Q1285.19 1563.56 1286.36 1563.56 Q1286.65 1563.56 1287.16 1563.4 Q1287.67 1563.21 1288.56 1562.82 L1288.56 1567.53 Q1287.26 1568.27 1286.08 1568.62 Q1284.93 1568.97 1283.82 1568.97 Q1281.62 1568.97 1280.32 1567.73 Q1279.01 1566.48 1278.53 1563.94 Q1276.94 1566.45 1274.62 1567.73 Q1272.33 1568.97 1269.21 1568.97 Q1265.96 1568.97 1263.67 1567.73 Q1261.41 1566.48 1260.07 1564 L1260.07 1581.6 L1254.22 1581.6 Z\" fill=\"#000000\" fill-rule=\"nonzero\" fill-opacity=\"1\" /><path clip-path=\"url(#clip620)\" d=\"M1306.7 1520.52 L1312.11 1520.52 L1295.56 1574.09 L1290.15 1574.09 L1306.7 1520.52 Z\" fill=\"#000000\" fill-rule=\"nonzero\" fill-opacity=\"1\" /><path clip-path=\"url(#clip620)\" d=\"M1318.51 1520.52 L1324.94 1520.52 L1324.94 1562.63 L1348.08 1562.63 L1348.08 1568.04 L1318.51 1568.04 L1318.51 1520.52 Z\" fill=\"#000000\" fill-rule=\"nonzero\" fill-opacity=\"1\" /><polyline clip-path=\"url(#clip622)\" style=\"stroke:#000000; stroke-linecap:round; stroke-linejoin:round; stroke-width:2; stroke-opacity:0.1; fill:none\" points=\"249.542,1386.24 2352.76,1386.24 \"/>\n",
       "<polyline clip-path=\"url(#clip622)\" style=\"stroke:#000000; stroke-linecap:round; stroke-linejoin:round; stroke-width:2; stroke-opacity:0.1; fill:none\" points=\"249.542,1061.18 2352.76,1061.18 \"/>\n",
       "<polyline clip-path=\"url(#clip622)\" style=\"stroke:#000000; stroke-linecap:round; stroke-linejoin:round; stroke-width:2; stroke-opacity:0.1; fill:none\" points=\"249.542,736.11 2352.76,736.11 \"/>\n",
       "<polyline clip-path=\"url(#clip622)\" style=\"stroke:#000000; stroke-linecap:round; stroke-linejoin:round; stroke-width:2; stroke-opacity:0.1; fill:none\" points=\"249.542,411.043 2352.76,411.043 \"/>\n",
       "<polyline clip-path=\"url(#clip622)\" style=\"stroke:#000000; stroke-linecap:round; stroke-linejoin:round; stroke-width:2; stroke-opacity:0.1; fill:none\" points=\"249.542,85.9763 2352.76,85.9763 \"/>\n",
       "<polyline clip-path=\"url(#clip620)\" style=\"stroke:#000000; stroke-linecap:round; stroke-linejoin:round; stroke-width:4; stroke-opacity:1; fill:none\" points=\"249.542,1423.18 249.542,47.2441 \"/>\n",
       "<polyline clip-path=\"url(#clip620)\" style=\"stroke:#000000; stroke-linecap:round; stroke-linejoin:round; stroke-width:4; stroke-opacity:1; fill:none\" points=\"249.542,1386.24 268.44,1386.24 \"/>\n",
       "<polyline clip-path=\"url(#clip620)\" style=\"stroke:#000000; stroke-linecap:round; stroke-linejoin:round; stroke-width:4; stroke-opacity:1; fill:none\" points=\"249.542,1061.18 268.44,1061.18 \"/>\n",
       "<polyline clip-path=\"url(#clip620)\" style=\"stroke:#000000; stroke-linecap:round; stroke-linejoin:round; stroke-width:4; stroke-opacity:1; fill:none\" points=\"249.542,736.11 268.44,736.11 \"/>\n",
       "<polyline clip-path=\"url(#clip620)\" style=\"stroke:#000000; stroke-linecap:round; stroke-linejoin:round; stroke-width:4; stroke-opacity:1; fill:none\" points=\"249.542,411.043 268.44,411.043 \"/>\n",
       "<polyline clip-path=\"url(#clip620)\" style=\"stroke:#000000; stroke-linecap:round; stroke-linejoin:round; stroke-width:4; stroke-opacity:1; fill:none\" points=\"249.542,85.9763 268.44,85.9763 \"/>\n",
       "<path clip-path=\"url(#clip620)\" d=\"M126.205 1372.04 Q122.593 1372.04 120.765 1375.61 Q118.959 1379.15 118.959 1386.28 Q118.959 1393.39 120.765 1396.95 Q122.593 1400.49 126.205 1400.49 Q129.839 1400.49 131.644 1396.95 Q133.473 1393.39 133.473 1386.28 Q133.473 1379.15 131.644 1375.61 Q129.839 1372.04 126.205 1372.04 M126.205 1368.34 Q132.015 1368.34 135.07 1372.95 Q138.149 1377.53 138.149 1386.28 Q138.149 1395.01 135.07 1399.61 Q132.015 1404.2 126.205 1404.2 Q120.394 1404.2 117.316 1399.61 Q114.26 1395.01 114.26 1386.28 Q114.26 1377.53 117.316 1372.95 Q120.394 1368.34 126.205 1368.34 Z\" fill=\"#000000\" fill-rule=\"nonzero\" fill-opacity=\"1\" /><path clip-path=\"url(#clip620)\" d=\"M146.366 1397.64 L151.251 1397.64 L151.251 1403.52 L146.366 1403.52 L146.366 1397.64 Z\" fill=\"#000000\" fill-rule=\"nonzero\" fill-opacity=\"1\" /><path clip-path=\"url(#clip620)\" d=\"M171.436 1372.04 Q167.825 1372.04 165.996 1375.61 Q164.19 1379.15 164.19 1386.28 Q164.19 1393.39 165.996 1396.95 Q167.825 1400.49 171.436 1400.49 Q175.07 1400.49 176.876 1396.95 Q178.704 1393.39 178.704 1386.28 Q178.704 1379.15 176.876 1375.61 Q175.07 1372.04 171.436 1372.04 M171.436 1368.34 Q177.246 1368.34 180.301 1372.95 Q183.38 1377.53 183.38 1386.28 Q183.38 1395.01 180.301 1399.61 Q177.246 1404.2 171.436 1404.2 Q165.626 1404.2 162.547 1399.61 Q159.491 1395.01 159.491 1386.28 Q159.491 1377.53 162.547 1372.95 Q165.626 1368.34 171.436 1368.34 Z\" fill=\"#000000\" fill-rule=\"nonzero\" fill-opacity=\"1\" /><path clip-path=\"url(#clip620)\" d=\"M201.598 1372.04 Q197.987 1372.04 196.158 1375.61 Q194.352 1379.15 194.352 1386.28 Q194.352 1393.39 196.158 1396.95 Q197.987 1400.49 201.598 1400.49 Q205.232 1400.49 207.037 1396.95 Q208.866 1393.39 208.866 1386.28 Q208.866 1379.15 207.037 1375.61 Q205.232 1372.04 201.598 1372.04 M201.598 1368.34 Q207.408 1368.34 210.463 1372.95 Q213.542 1377.53 213.542 1386.28 Q213.542 1395.01 210.463 1399.61 Q207.408 1404.2 201.598 1404.2 Q195.787 1404.2 192.709 1399.61 Q189.653 1395.01 189.653 1386.28 Q189.653 1377.53 192.709 1372.95 Q195.787 1368.34 201.598 1368.34 Z\" fill=\"#000000\" fill-rule=\"nonzero\" fill-opacity=\"1\" /><path clip-path=\"url(#clip620)\" d=\"M127.2 1046.98 Q123.589 1046.98 121.76 1050.54 Q119.955 1054.08 119.955 1061.21 Q119.955 1068.32 121.76 1071.88 Q123.589 1075.42 127.2 1075.42 Q130.834 1075.42 132.64 1071.88 Q134.468 1068.32 134.468 1061.21 Q134.468 1054.08 132.64 1050.54 Q130.834 1046.98 127.2 1046.98 M127.2 1043.27 Q133.01 1043.27 136.066 1047.88 Q139.144 1052.46 139.144 1061.21 Q139.144 1069.94 136.066 1074.55 Q133.01 1079.13 127.2 1079.13 Q121.39 1079.13 118.311 1074.55 Q115.256 1069.94 115.256 1061.21 Q115.256 1052.46 118.311 1047.88 Q121.39 1043.27 127.2 1043.27 Z\" fill=\"#000000\" fill-rule=\"nonzero\" fill-opacity=\"1\" /><path clip-path=\"url(#clip620)\" d=\"M147.362 1072.58 L152.246 1072.58 L152.246 1078.46 L147.362 1078.46 L147.362 1072.58 Z\" fill=\"#000000\" fill-rule=\"nonzero\" fill-opacity=\"1\" /><path clip-path=\"url(#clip620)\" d=\"M166.459 1074.52 L182.778 1074.52 L182.778 1078.46 L160.834 1078.46 L160.834 1074.52 Q163.496 1071.77 168.079 1067.14 Q172.686 1062.49 173.866 1061.14 Q176.112 1058.62 176.991 1056.88 Q177.894 1055.12 177.894 1053.43 Q177.894 1050.68 175.95 1048.94 Q174.028 1047.21 170.927 1047.21 Q168.727 1047.21 166.274 1047.97 Q163.843 1048.74 161.065 1050.29 L161.065 1045.56 Q163.89 1044.43 166.343 1043.85 Q168.797 1043.27 170.834 1043.27 Q176.204 1043.27 179.399 1045.96 Q182.593 1048.64 182.593 1053.13 Q182.593 1055.26 181.783 1057.18 Q180.996 1059.08 178.889 1061.68 Q178.311 1062.35 175.209 1065.56 Q172.107 1068.76 166.459 1074.52 Z\" fill=\"#000000\" fill-rule=\"nonzero\" fill-opacity=\"1\" /><path clip-path=\"url(#clip620)\" d=\"M192.639 1043.9 L210.996 1043.9 L210.996 1047.83 L196.922 1047.83 L196.922 1056.3 Q197.94 1055.96 198.959 1055.8 Q199.977 1055.61 200.996 1055.61 Q206.783 1055.61 210.162 1058.78 Q213.542 1061.95 213.542 1067.37 Q213.542 1072.95 210.07 1076.05 Q206.598 1079.13 200.278 1079.13 Q198.102 1079.13 195.834 1078.76 Q193.588 1078.39 191.181 1077.65 L191.181 1072.95 Q193.264 1074.08 195.487 1074.64 Q197.709 1075.19 200.186 1075.19 Q204.19 1075.19 206.528 1073.09 Q208.866 1070.98 208.866 1067.37 Q208.866 1063.76 206.528 1061.65 Q204.19 1059.55 200.186 1059.55 Q198.311 1059.55 196.436 1059.96 Q194.584 1060.38 192.639 1061.26 L192.639 1043.9 Z\" fill=\"#000000\" fill-rule=\"nonzero\" fill-opacity=\"1\" /><path clip-path=\"url(#clip620)\" d=\"M126.205 721.909 Q122.593 721.909 120.765 725.474 Q118.959 729.015 118.959 736.145 Q118.959 743.252 120.765 746.816 Q122.593 750.358 126.205 750.358 Q129.839 750.358 131.644 746.816 Q133.473 743.252 133.473 736.145 Q133.473 729.015 131.644 725.474 Q129.839 721.909 126.205 721.909 M126.205 718.205 Q132.015 718.205 135.07 722.812 Q138.149 727.395 138.149 736.145 Q138.149 744.872 135.07 749.478 Q132.015 754.062 126.205 754.062 Q120.394 754.062 117.316 749.478 Q114.26 744.872 114.26 736.145 Q114.26 727.395 117.316 722.812 Q120.394 718.205 126.205 718.205 Z\" fill=\"#000000\" fill-rule=\"nonzero\" fill-opacity=\"1\" /><path clip-path=\"url(#clip620)\" d=\"M146.366 747.511 L151.251 747.511 L151.251 753.39 L146.366 753.39 L146.366 747.511 Z\" fill=\"#000000\" fill-rule=\"nonzero\" fill-opacity=\"1\" /><path clip-path=\"url(#clip620)\" d=\"M161.482 718.83 L179.839 718.83 L179.839 722.766 L165.765 722.766 L165.765 731.238 Q166.783 730.89 167.802 730.728 Q168.82 730.543 169.839 730.543 Q175.626 730.543 179.005 733.715 Q182.385 736.886 182.385 742.302 Q182.385 747.881 178.913 750.983 Q175.44 754.062 169.121 754.062 Q166.945 754.062 164.677 753.691 Q162.431 753.321 160.024 752.58 L160.024 747.881 Q162.107 749.015 164.329 749.571 Q166.552 750.126 169.028 750.126 Q173.033 750.126 175.371 748.02 Q177.709 745.914 177.709 742.302 Q177.709 738.691 175.371 736.585 Q173.033 734.478 169.028 734.478 Q167.153 734.478 165.278 734.895 Q163.427 735.312 161.482 736.191 L161.482 718.83 Z\" fill=\"#000000\" fill-rule=\"nonzero\" fill-opacity=\"1\" /><path clip-path=\"url(#clip620)\" d=\"M201.598 721.909 Q197.987 721.909 196.158 725.474 Q194.352 729.015 194.352 736.145 Q194.352 743.252 196.158 746.816 Q197.987 750.358 201.598 750.358 Q205.232 750.358 207.037 746.816 Q208.866 743.252 208.866 736.145 Q208.866 729.015 207.037 725.474 Q205.232 721.909 201.598 721.909 M201.598 718.205 Q207.408 718.205 210.463 722.812 Q213.542 727.395 213.542 736.145 Q213.542 744.872 210.463 749.478 Q207.408 754.062 201.598 754.062 Q195.787 754.062 192.709 749.478 Q189.653 744.872 189.653 736.145 Q189.653 727.395 192.709 722.812 Q195.787 718.205 201.598 718.205 Z\" fill=\"#000000\" fill-rule=\"nonzero\" fill-opacity=\"1\" /><path clip-path=\"url(#clip620)\" d=\"M127.2 396.842 Q123.589 396.842 121.76 400.407 Q119.955 403.948 119.955 411.078 Q119.955 418.185 121.76 421.749 Q123.589 425.291 127.2 425.291 Q130.834 425.291 132.64 421.749 Q134.468 418.185 134.468 411.078 Q134.468 403.948 132.64 400.407 Q130.834 396.842 127.2 396.842 M127.2 393.138 Q133.01 393.138 136.066 397.745 Q139.144 402.328 139.144 411.078 Q139.144 419.805 136.066 424.411 Q133.01 428.995 127.2 428.995 Q121.39 428.995 118.311 424.411 Q115.256 419.805 115.256 411.078 Q115.256 402.328 118.311 397.745 Q121.39 393.138 127.2 393.138 Z\" fill=\"#000000\" fill-rule=\"nonzero\" fill-opacity=\"1\" /><path clip-path=\"url(#clip620)\" d=\"M147.362 422.444 L152.246 422.444 L152.246 428.323 L147.362 428.323 L147.362 422.444 Z\" fill=\"#000000\" fill-rule=\"nonzero\" fill-opacity=\"1\" /><path clip-path=\"url(#clip620)\" d=\"M161.251 393.763 L183.473 393.763 L183.473 395.754 L170.927 428.323 L166.042 428.323 L177.848 397.699 L161.251 397.699 L161.251 393.763 Z\" fill=\"#000000\" fill-rule=\"nonzero\" fill-opacity=\"1\" /><path clip-path=\"url(#clip620)\" d=\"M192.639 393.763 L210.996 393.763 L210.996 397.699 L196.922 397.699 L196.922 406.171 Q197.94 405.823 198.959 405.661 Q199.977 405.476 200.996 405.476 Q206.783 405.476 210.162 408.648 Q213.542 411.819 213.542 417.235 Q213.542 422.814 210.07 425.916 Q206.598 428.995 200.278 428.995 Q198.102 428.995 195.834 428.624 Q193.588 428.254 191.181 427.513 L191.181 422.814 Q193.264 423.948 195.487 424.504 Q197.709 425.059 200.186 425.059 Q204.19 425.059 206.528 422.953 Q208.866 420.847 208.866 417.235 Q208.866 413.624 206.528 411.518 Q204.19 409.411 200.186 409.411 Q198.311 409.411 196.436 409.828 Q194.584 410.245 192.639 411.124 L192.639 393.763 Z\" fill=\"#000000\" fill-rule=\"nonzero\" fill-opacity=\"1\" /><path clip-path=\"url(#clip620)\" d=\"M117.015 99.3212 L124.654 99.3212 L124.654 72.9556 L116.343 74.6222 L116.343 70.363 L124.607 68.6963 L129.283 68.6963 L129.283 99.3212 L136.922 99.3212 L136.922 103.256 L117.015 103.256 L117.015 99.3212 Z\" fill=\"#000000\" fill-rule=\"nonzero\" fill-opacity=\"1\" /><path clip-path=\"url(#clip620)\" d=\"M146.366 97.3767 L151.251 97.3767 L151.251 103.256 L146.366 103.256 L146.366 97.3767 Z\" fill=\"#000000\" fill-rule=\"nonzero\" fill-opacity=\"1\" /><path clip-path=\"url(#clip620)\" d=\"M171.436 71.775 Q167.825 71.775 165.996 75.3398 Q164.19 78.8815 164.19 86.0111 Q164.19 93.1175 165.996 96.6823 Q167.825 100.224 171.436 100.224 Q175.07 100.224 176.876 96.6823 Q178.704 93.1175 178.704 86.0111 Q178.704 78.8815 176.876 75.3398 Q175.07 71.775 171.436 71.775 M171.436 68.0713 Q177.246 68.0713 180.301 72.6778 Q183.38 77.2611 183.38 86.0111 Q183.38 94.7379 180.301 99.3443 Q177.246 103.928 171.436 103.928 Q165.626 103.928 162.547 99.3443 Q159.491 94.7379 159.491 86.0111 Q159.491 77.2611 162.547 72.6778 Q165.626 68.0713 171.436 68.0713 Z\" fill=\"#000000\" fill-rule=\"nonzero\" fill-opacity=\"1\" /><path clip-path=\"url(#clip620)\" d=\"M201.598 71.775 Q197.987 71.775 196.158 75.3398 Q194.352 78.8815 194.352 86.0111 Q194.352 93.1175 196.158 96.6823 Q197.987 100.224 201.598 100.224 Q205.232 100.224 207.037 96.6823 Q208.866 93.1175 208.866 86.0111 Q208.866 78.8815 207.037 75.3398 Q205.232 71.775 201.598 71.775 M201.598 68.0713 Q207.408 68.0713 210.463 72.6778 Q213.542 77.2611 213.542 86.0111 Q213.542 94.7379 210.463 99.3443 Q207.408 103.928 201.598 103.928 Q195.787 103.928 192.709 99.3443 Q189.653 94.7379 189.653 86.0111 Q189.653 77.2611 192.709 72.6778 Q195.787 68.0713 201.598 68.0713 Z\" fill=\"#000000\" fill-rule=\"nonzero\" fill-opacity=\"1\" /><path clip-path=\"url(#clip620)\" d=\"M34.7219 783.846 Q31.4754 781.904 28.6108 777.098 Q27.4968 775.22 27.4968 769.428 Q27.4968 762.935 32.6531 758.892 Q37.8093 754.818 46.212 754.818 Q54.6147 754.818 59.771 758.892 Q64.9272 762.935 64.9272 769.428 Q64.9272 773.343 63.3994 776.175 Q61.8398 778.976 58.657 780.822 L77.5631 780.822 L77.5631 786.711 L46.5303 786.711 Q39.1779 786.711 34.7219 783.846 M46.212 760.898 Q39.7508 760.898 36.0905 763.571 Q32.3984 766.213 32.3984 770.86 Q32.3984 775.507 36.0905 778.18 Q39.7508 780.822 46.212 780.822 Q52.6732 780.822 56.3653 778.18 Q60.0256 775.507 60.0256 770.86 Q60.0256 766.213 56.3653 763.571 Q52.6732 760.898 46.212 760.898 Z\" fill=\"#000000\" fill-rule=\"nonzero\" fill-opacity=\"1\" /><path clip-path=\"url(#clip620)\" d=\"M74.8259 718.025 L79.3773 718.025 L79.3773 751.89 L74.8259 751.89 L74.8259 718.025 Z\" fill=\"#000000\" fill-rule=\"nonzero\" fill-opacity=\"1\" /><path clip-path=\"url(#clip620)\" d=\"M58.5933 706.153 L58.5933 683.713 L64.0042 683.713 L64.0042 713.887 L58.5933 713.887 Q54.8057 710.227 48.44 703.925 Q42.0425 697.591 40.1964 695.967 Q36.7271 692.88 34.34 691.671 Q31.921 690.429 29.5975 690.429 Q25.8099 690.429 23.4228 693.103 Q21.0356 695.745 21.0356 700.01 Q21.0356 703.033 22.086 706.407 Q23.1363 709.749 25.2688 713.569 L18.7758 713.569 Q17.2162 709.685 16.4205 706.312 Q15.6248 702.938 15.6248 700.137 Q15.6248 692.753 19.3169 688.36 Q23.009 683.968 29.1837 683.968 Q32.112 683.968 34.7537 685.082 Q37.3637 686.164 40.9285 689.061 Q41.8515 689.856 46.2757 694.121 Q50.668 698.386 58.5933 706.153 Z\" fill=\"#000000\" fill-rule=\"nonzero\" fill-opacity=\"1\" /><polyline clip-path=\"url(#clip622)\" style=\"stroke:#009af9; stroke-linecap:round; stroke-linejoin:round; stroke-width:4; stroke-opacity:1; fill:none\" points=\"309.067,86.1857 319,88.552 331.417,93.5532 356.25,108.225 381.083,127.934 405.916,151.859 430.749,179.438 455.582,210.214 480.415,243.777 505.248,279.742 530.081,317.744 554.915,357.427 679.08,569.451 803.245,778.184 927.411,950.106 1051.58,1070.32 1175.74,1161.05 1299.91,1228.37 1424.07,1277.66 1548.24,1313.27 1672.4,1338.57 1796.57,1356.2 1920.73,1368.33 2044.9,1376.41 2169.07,1381.42 2293.23,1384.24 \"/>\n",
       "<polyline clip-path=\"url(#clip622)\" style=\"stroke:#e26f46; stroke-linecap:round; stroke-linejoin:round; stroke-width:4; stroke-opacity:1; fill:none\" stroke-dasharray=\"16, 10\" points=\"309.067,86.1882 319,88.5528 331.417,93.5533 356.25,108.225 381.083,127.934 405.916,151.859 430.749,179.439 455.582,210.214 480.415,243.779 505.248,279.743 530.081,317.745 554.915,357.427 679.08,569.451 803.245,778.186 927.411,954.328 1051.58,1072.84 1175.74,1162.25 1299.91,1228.84 1424.07,1277.8 1548.24,1313.29 1672.4,1338.58 1796.57,1356.2 1920.73,1368.33 2044.9,1376.41 2169.07,1381.42 2293.23,1384.24 \"/>\n",
       "<path clip-path=\"url(#clip620)\" d=\"M1905.11 248.629 L2282.65 248.629 L2282.65 93.1086 L1905.11 93.1086  Z\" fill=\"#ffffff\" fill-rule=\"evenodd\" fill-opacity=\"1\"/>\n",
       "<polyline clip-path=\"url(#clip620)\" style=\"stroke:#000000; stroke-linecap:round; stroke-linejoin:round; stroke-width:4; stroke-opacity:1; fill:none\" points=\"1905.11,248.629 2282.65,248.629 2282.65,93.1086 1905.11,93.1086 1905.11,248.629 \"/>\n",
       "<polyline clip-path=\"url(#clip620)\" style=\"stroke:#009af9; stroke-linecap:round; stroke-linejoin:round; stroke-width:4; stroke-opacity:1; fill:none\" points=\"1928.48,144.949 2068.69,144.949 \"/>\n",
       "<path clip-path=\"url(#clip620)\" d=\"M2094.14 140.932 Q2095.55 138.571 2099.05 136.488 Q2100.41 135.678 2104.63 135.678 Q2109.35 135.678 2112.29 139.428 Q2115.25 143.178 2115.25 149.289 Q2115.25 155.4 2112.29 159.15 Q2109.35 162.9 2104.63 162.9 Q2101.78 162.9 2099.72 161.789 Q2097.68 160.655 2096.34 158.34 L2096.34 172.09 L2092.06 172.09 L2092.06 149.52 Q2092.06 144.173 2094.14 140.932 M2110.83 149.289 Q2110.83 144.59 2108.89 141.928 Q2106.97 139.243 2103.59 139.243 Q2100.21 139.243 2098.26 141.928 Q2096.34 144.59 2096.34 149.289 Q2096.34 153.988 2098.26 156.673 Q2100.21 159.335 2103.59 159.335 Q2106.97 159.335 2108.89 156.673 Q2110.83 153.988 2110.83 149.289 Z\" fill=\"#000000\" fill-rule=\"nonzero\" fill-opacity=\"1\" /><path clip-path=\"url(#clip620)\" d=\"M2142.01 170.099 L2142.01 173.409 L2117.38 173.409 L2117.38 170.099 L2142.01 170.099 Z\" fill=\"#000000\" fill-rule=\"nonzero\" fill-opacity=\"1\" /><path clip-path=\"url(#clip620)\" d=\"M2150.65 158.293 L2166.97 158.293 L2166.97 162.229 L2145.02 162.229 L2145.02 158.293 Q2147.68 155.539 2152.27 150.909 Q2156.87 146.256 2158.05 144.914 Q2160.3 142.391 2161.18 140.655 Q2162.08 138.895 2162.08 137.206 Q2162.08 134.451 2160.14 132.715 Q2158.22 130.979 2155.11 130.979 Q2152.91 130.979 2150.46 131.743 Q2148.03 132.507 2145.25 134.057 L2145.25 129.335 Q2148.08 128.201 2150.53 127.622 Q2152.98 127.044 2155.02 127.044 Q2160.39 127.044 2163.59 129.729 Q2166.78 132.414 2166.78 136.905 Q2166.78 139.034 2165.97 140.956 Q2165.18 142.854 2163.08 145.446 Q2162.5 146.118 2159.4 149.335 Q2156.29 152.53 2150.65 158.293 Z\" fill=\"#000000\" fill-rule=\"nonzero\" fill-opacity=\"1\" /><path clip-path=\"url(#clip620)\" d=\"M2195.88 170.099 L2195.88 173.409 L2171.25 173.409 L2171.25 170.099 L2195.88 170.099 Z\" fill=\"#000000\" fill-rule=\"nonzero\" fill-opacity=\"1\" /><path clip-path=\"url(#clip620)\" d=\"M2199.53 127.669 L2204.23 127.669 L2204.23 148.664 Q2204.23 154.219 2206.25 156.673 Q2208.26 159.104 2212.78 159.104 Q2217.27 159.104 2219.28 156.673 Q2221.29 154.219 2221.29 148.664 L2221.29 127.669 L2225.99 127.669 L2225.99 149.243 Q2225.99 156.002 2222.64 159.451 Q2219.3 162.9 2212.78 162.9 Q2206.22 162.9 2202.87 159.451 Q2199.53 156.002 2199.53 149.243 L2199.53 127.669 Z\" fill=\"#000000\" fill-rule=\"nonzero\" fill-opacity=\"1\" /><path clip-path=\"url(#clip620)\" d=\"M2239.44 145.724 L2239.44 158.386 L2246.94 158.386 Q2250.71 158.386 2252.52 156.835 Q2254.35 155.261 2254.35 152.043 Q2254.35 148.803 2252.52 147.275 Q2250.71 145.724 2246.94 145.724 L2239.44 145.724 M2239.44 131.511 L2239.44 141.928 L2246.36 141.928 Q2249.79 141.928 2251.46 140.655 Q2253.15 139.358 2253.15 136.719 Q2253.15 134.104 2251.46 132.807 Q2249.79 131.511 2246.36 131.511 L2239.44 131.511 M2234.77 127.669 L2246.71 127.669 Q2252.06 127.669 2254.95 129.891 Q2257.84 132.113 2257.84 136.21 Q2257.84 139.382 2256.36 141.257 Q2254.88 143.131 2252.01 143.594 Q2255.46 144.335 2257.36 146.696 Q2259.28 149.034 2259.28 152.553 Q2259.28 157.182 2256.13 159.705 Q2252.98 162.229 2247.17 162.229 L2234.77 162.229 L2234.77 127.669 Z\" fill=\"#000000\" fill-rule=\"nonzero\" fill-opacity=\"1\" /><polyline clip-path=\"url(#clip620)\" style=\"stroke:#e26f46; stroke-linecap:round; stroke-linejoin:round; stroke-width:4; stroke-opacity:1; fill:none\" stroke-dasharray=\"16, 10\" points=\"1928.48,196.789 2068.69,196.789 \"/>\n",
       "<path clip-path=\"url(#clip620)\" d=\"M2094.14 192.772 Q2095.55 190.411 2099.05 188.328 Q2100.41 187.518 2104.63 187.518 Q2109.35 187.518 2112.29 191.268 Q2115.25 195.018 2115.25 201.129 Q2115.25 207.24 2112.29 210.99 Q2109.35 214.74 2104.63 214.74 Q2101.78 214.74 2099.72 213.629 Q2097.68 212.495 2096.34 210.18 L2096.34 223.93 L2092.06 223.93 L2092.06 201.36 Q2092.06 196.013 2094.14 192.772 M2110.83 201.129 Q2110.83 196.43 2108.89 193.768 Q2106.97 191.083 2103.59 191.083 Q2100.21 191.083 2098.26 193.768 Q2096.34 196.43 2096.34 201.129 Q2096.34 205.828 2098.26 208.513 Q2100.21 211.175 2103.59 211.175 Q2106.97 211.175 2108.89 208.513 Q2110.83 205.828 2110.83 201.129 Z\" fill=\"#000000\" fill-rule=\"nonzero\" fill-opacity=\"1\" /><path clip-path=\"url(#clip620)\" d=\"M2142.01 221.939 L2142.01 225.249 L2117.38 225.249 L2117.38 221.939 L2142.01 221.939 Z\" fill=\"#000000\" fill-rule=\"nonzero\" fill-opacity=\"1\" /><path clip-path=\"url(#clip620)\" d=\"M2150.65 210.133 L2166.97 210.133 L2166.97 214.069 L2145.02 214.069 L2145.02 210.133 Q2147.68 207.379 2152.27 202.749 Q2156.87 198.096 2158.05 196.754 Q2160.3 194.231 2161.18 192.495 Q2162.08 190.735 2162.08 189.046 Q2162.08 186.291 2160.14 184.555 Q2158.22 182.819 2155.11 182.819 Q2152.91 182.819 2150.46 183.583 Q2148.03 184.347 2145.25 185.897 L2145.25 181.175 Q2148.08 180.041 2150.53 179.462 Q2152.98 178.884 2155.02 178.884 Q2160.39 178.884 2163.59 181.569 Q2166.78 184.254 2166.78 188.745 Q2166.78 190.874 2165.97 192.796 Q2165.18 194.694 2163.08 197.286 Q2162.5 197.958 2159.4 201.175 Q2156.29 204.37 2150.65 210.133 Z\" fill=\"#000000\" fill-rule=\"nonzero\" fill-opacity=\"1\" /><path clip-path=\"url(#clip620)\" d=\"M2195.88 221.939 L2195.88 225.249 L2171.25 225.249 L2171.25 221.939 L2195.88 221.939 Z\" fill=\"#000000\" fill-rule=\"nonzero\" fill-opacity=\"1\" /><path clip-path=\"url(#clip620)\" d=\"M2200.07 179.509 L2204.74 179.509 L2204.74 210.133 L2221.57 210.133 L2221.57 214.069 L2200.07 214.069 L2200.07 179.509 Z\" fill=\"#000000\" fill-rule=\"nonzero\" fill-opacity=\"1\" /><path clip-path=\"url(#clip620)\" d=\"M2231.15 197.564 L2231.15 210.226 L2238.65 210.226 Q2242.43 210.226 2244.23 208.675 Q2246.06 207.101 2246.06 203.883 Q2246.06 200.643 2244.23 199.115 Q2242.43 197.564 2238.65 197.564 L2231.15 197.564 M2231.15 183.351 L2231.15 193.768 L2238.08 193.768 Q2241.5 193.768 2243.17 192.495 Q2244.86 191.198 2244.86 188.559 Q2244.86 185.944 2243.17 184.647 Q2241.5 183.351 2238.08 183.351 L2231.15 183.351 M2226.48 179.509 L2238.42 179.509 Q2243.77 179.509 2246.66 181.731 Q2249.56 183.953 2249.56 188.05 Q2249.56 191.222 2248.08 193.097 Q2246.59 194.971 2243.72 195.434 Q2247.17 196.175 2249.07 198.536 Q2250.99 200.874 2250.99 204.393 Q2250.99 209.022 2247.84 211.545 Q2244.7 214.069 2238.89 214.069 L2226.48 214.069 L2226.48 179.509 Z\" fill=\"#000000\" fill-rule=\"nonzero\" fill-opacity=\"1\" /></svg>\n"
      ]
     },
     "metadata": {},
     "output_type": "display_data"
    }
   ],
   "source": [
    "using Plots\n",
    "\n",
    "plot()\n",
    "plot(μ_array_N_2, [array_contraction_factor_N_2 array_contraction_factor_LB_N_2], label = [\"ρ_2_UB\" \"ρ_2_LB\"], linestyle = [:solid :dash])\n",
    "xlabel!(\"μ/L\")\n",
    "ylabel!(\"ρ_2\")        "
   ]
  },
  {
   "cell_type": "code",
   "execution_count": 32,
   "id": "20416637-91d3-49d5-bff4-ffd46c285c07",
   "metadata": {},
   "outputs": [
    {
     "data": {
      "text/plain": [
       "Dict{Any, Any} with 26 entries:\n",
       "  (0.09, 2)  => var\"##JuMP.Containers.DenseAxisArray{Float64, 1, Tuple{UnitRang…\n",
       "  (0.08, 2)  => var\"##JuMP.Containers.DenseAxisArray{Float64, 1, Tuple{UnitRang…\n",
       "  (0.25, 2)  => var\"##JuMP.Containers.DenseAxisArray{Float64, 1, Tuple{UnitRang…\n",
       "  (0.35, 2)  => var\"##JuMP.Containers.DenseAxisArray{Float64, 1, Tuple{UnitRang…\n",
       "  (0.7, 2)   => var\"##JuMP.Containers.DenseAxisArray{Float64, 1, Tuple{UnitRang…\n",
       "  (0.15, 2)  => var\"##JuMP.Containers.DenseAxisArray{Float64, 1, Tuple{UnitRang…\n",
       "  (0.01, 2)  => var\"##JuMP.Containers.DenseAxisArray{Float64, 1, Tuple{UnitRang…\n",
       "  (0.2, 2)   => var\"##JuMP.Containers.DenseAxisArray{Float64, 1, Tuple{UnitRang…\n",
       "  (0.07, 2)  => var\"##JuMP.Containers.DenseAxisArray{Float64, 1, Tuple{UnitRang…\n",
       "  (0.001, 2) => var\"##JuMP.Containers.DenseAxisArray{Float64, 1, Tuple{UnitRang…\n",
       "  (0.65, 2)  => var\"##JuMP.Containers.DenseAxisArray{Float64, 1, Tuple{UnitRang…\n",
       "  (0.06, 2)  => var\"##JuMP.Containers.DenseAxisArray{Float64, 1, Tuple{UnitRang…\n",
       "  (0.05, 2)  => var\"##JuMP.Containers.DenseAxisArray{Float64, 1, Tuple{UnitRang…\n",
       "  (0.8, 2)   => var\"##JuMP.Containers.DenseAxisArray{Float64, 1, Tuple{UnitRang…\n",
       "  (0.5, 2)   => var\"##JuMP.Containers.DenseAxisArray{Float64, 1, Tuple{UnitRang…\n",
       "  (0.55, 2)  => var\"##JuMP.Containers.DenseAxisArray{Float64, 1, Tuple{UnitRang…\n",
       "  (0.02, 2)  => var\"##JuMP.Containers.DenseAxisArray{Float64, 1, Tuple{UnitRang…\n",
       "  (0.1, 2)   => var\"##JuMP.Containers.DenseAxisArray{Float64, 1, Tuple{UnitRang…\n",
       "  (0.4, 2)   => var\"##JuMP.Containers.DenseAxisArray{Float64, 1, Tuple{UnitRang…\n",
       "  ⋮          => ⋮"
      ]
     },
     "metadata": {},
     "output_type": "display_data"
    }
   ],
   "source": [
    "dict_worst_case_functions = dict_output_N_2[\"dict_worst_case_functions\"]\n",
    "dict_contraction_factor = dict_output_N_2[\"dict_contraction_factor\"]\n",
    "dict_contraction_factor_LB = dict_output_N_2[\"dict_contraction_factor_LB\"]\n",
    "dict_contraction_factor_UB = dict_output_N_2[\"dict_contraction_factor\"]\n",
    "dict_β_LB = dict_output_N_2[\"dict_β_LB\"] # NCG stepsizes \n",
    "dict_γ_LB = dict_output_N_2[\"dict_γ_LB\"] # line-search stepsizes;"
   ]
  },
  {
   "cell_type": "code",
   "execution_count": 33,
   "id": "ca3f2c27-ad91-42c9-b54f-d58d19cb37a0",
   "metadata": {},
   "outputs": [
    {
     "data": {
      "text/plain": [
       "(0.5, 2)"
      ]
     },
     "metadata": {},
     "output_type": "display_data"
    }
   ],
   "source": [
    "μ_N = (0.5, 2)"
   ]
  },
  {
   "cell_type": "code",
   "execution_count": 34,
   "id": "65f48c96-c31b-4704-8eaf-ad7f9a78bf70",
   "metadata": {},
   "outputs": [
    {
     "data": {
      "text/plain": [
       "worst_case_function([0.0 1.6726170315817679 0.3541094756632799 -0.14081721268845704; 0.0 0.0 -0.8103131535085707 -0.3229554554238826; … ; 0.0 0.0 0.00022247725956548836 0.0002447954580981711; 0.0 0.0 0.0 0.0], [0.0 1.0873354335572303 0.30336225318894505 -0.15856691664957037; 0.0 0.23721168348134353 -0.47566993042718697 -0.20551930565372273; … ; 0.0 0.0 0.0 0.00016656411164990036; 0.0 0.0 0.0 0.0], [0.0, 0.9999999276664239, 0.2673530229212107, 0.056103782765843734])"
      ]
     },
     "metadata": {},
     "output_type": "display_data"
    }
   ],
   "source": [
    "wf = dict_worst_case_functions[μ_N] # So this will be the bad function's {x_i, g_i, f_i}_{i} list for the (μ, N)"
   ]
  },
  {
   "cell_type": "code",
   "execution_count": 35,
   "id": "87cd6031-dc0c-475b-ae0b-fe4ae0dd67d8",
   "metadata": {},
   "outputs": [
    {
     "data": {
      "text/plain": [
       "5×4 OffsetArray(::Matrix{Float64}, 1:5, -1:2) with eltype Float64 with indices 1:5×-1:2:\n",
       " 0.0  1.67262   0.354109     -0.140817\n",
       " 0.0  0.0      -0.810313     -0.322955\n",
       " 0.0  0.0       0.0775561    -0.138845\n",
       " 0.0  0.0       0.000222477   0.000244795\n",
       " 0.0  0.0       0.0           0.0"
      ]
     },
     "metadata": {},
     "output_type": "display_data"
    }
   ],
   "source": [
    "x_array = wf.x_array \n",
    "# first column of x_array = x_⋆, \n",
    "# second column of x_array = x_0\n",
    "# third column of x_array = x_1 and so on"
   ]
  },
  {
   "cell_type": "code",
   "execution_count": 36,
   "id": "d4673799-8073-48f0-8552-8573471f45ff",
   "metadata": {},
   "outputs": [
    {
     "data": {
      "text/plain": [
       "5×4 OffsetArray(::Matrix{Float64}, 1:5, -1:2) with eltype Float64 with indices 1:5×-1:2:\n",
       " 0.0  1.08734    0.303362  -0.158567\n",
       " 0.0  0.237212  -0.47567   -0.205519\n",
       " 0.0  0.0        0.187527  -0.100196\n",
       " 0.0  0.0        0.0        0.000166564\n",
       " 0.0  0.0        0.0        0.0"
      ]
     },
     "metadata": {},
     "output_type": "display_data"
    }
   ],
   "source": [
    "g_array = wf.g_array\n",
    "# first column of g_array = g_⋆, \n",
    "# second column of g_array = g_0\n",
    "# third column of g_array = g_1 and so on"
   ]
  },
  {
   "cell_type": "code",
   "execution_count": 37,
   "id": "0ba14772-7f7c-4ed8-8e8e-bfd5a447703d",
   "metadata": {},
   "outputs": [
    {
     "data": {
      "text/plain": [
       "4-element OffsetArray(::Vector{Float64}, -1:2) with eltype Float64 with indices -1:2:\n",
       " 0.0\n",
       " 0.9999999276664239\n",
       " 0.2673530229212107\n",
       " 0.056103782765843734"
      ]
     },
     "metadata": {},
     "output_type": "display_data"
    }
   ],
   "source": [
    "f_array = wf.f_array\n",
    "# first column of f_array = f_⋆, \n",
    "# second column of f_array = f_0\n",
    "# third column of f_array = f_1 and so on"
   ]
  },
  {
   "cell_type": "code",
   "execution_count": 38,
   "id": "20961888-2e4e-470a-ae89-881c4d6d81f3",
   "metadata": {},
   "outputs": [
    {
     "data": {
      "text/plain": [
       "0.056103782765843734"
      ]
     },
     "metadata": {},
     "output_type": "display_data"
    }
   ],
   "source": [
    "ρ_LB = dict_contraction_factor_LB[μ_N]"
   ]
  },
  {
   "cell_type": "code",
   "execution_count": 39,
   "id": "8f1d9d4b-e7f3-4098-ae36-c5279ba4daa5",
   "metadata": {},
   "outputs": [
    {
     "data": {
      "text/plain": [
       "0.056124266554459026"
      ]
     },
     "metadata": {},
     "output_type": "display_data"
    }
   ],
   "source": [
    "ρ_UB = dict_contraction_factor_UB[μ_N]"
   ]
  },
  {
   "cell_type": "code",
   "execution_count": 40,
   "id": "26669c13-1638-411c-b91d-67cd52ed4d6c",
   "metadata": {},
   "outputs": [
    {
     "data": {
      "text/plain": [
       "2-element Vector{Float64}:\n",
       " 0.11015521120443346\n",
       " 0.0"
      ]
     },
     "metadata": {},
     "output_type": "display_data"
    }
   ],
   "source": [
    "beta = [dict_β_LB[μ_N].data; 0]"
   ]
  },
  {
   "cell_type": "code",
   "execution_count": 41,
   "id": "8dfbf925-29dd-4955-95b9-5aed4fe7b6bd",
   "metadata": {},
   "outputs": [
    {
     "data": {
      "text/plain": [
       "2-element Vector{Float64}:\n",
       " 1.3127063659282785\n",
       " 1.1954627659433608"
      ]
     },
     "metadata": {},
     "output_type": "display_data"
    }
   ],
   "source": [
    "gamma = dict_γ_LB[μ_N].data"
   ]
  },
  {
   "cell_type": "code",
   "execution_count": 42,
   "id": "9c85df1b-e4cd-4eb8-9f62-f137791c9cc4",
   "metadata": {},
   "outputs": [
    {
     "name": "stdout",
     "output_type": "stream",
     "text": [
      "mu = 0.5\n",
      "n = 2\n",
      "beta = [0.11015521120443346, 0.0]\n",
      "gamma = [1.3127063659282785, 1.1954627659433608]\n",
      "rho_LB = 0.056103782765843734\n",
      "rho_UB = 0.056124266554459026\n"
     ]
    }
   ],
   "source": [
    "# We use the printed output below in the PEPit verification code (file name: \"3. PEPIt_verification_Python.ipynb\")\n",
    "println( \"mu = \", μ_N[1])\n",
    "println( \"n = \", μ_N[2])\n",
    "println( \"beta = \", beta)\n",
    "println( \"gamma = \", gamma)\n",
    "println( \"rho_LB = \", ρ_LB)\n",
    "println( \"rho_UB = \", ρ_UB)"
   ]
  },
  {
   "cell_type": "code",
   "execution_count": null,
   "id": "8d85ba8c-3da8-44e4-8f6b-094c7d9bbe67",
   "metadata": {},
   "outputs": [],
   "source": []
  },
  {
   "cell_type": "code",
   "execution_count": null,
   "id": "57837f9d-dfef-4ff1-a095-09e0ee7e6377",
   "metadata": {},
   "outputs": [],
   "source": []
  }
 ],
 "metadata": {
  "kernelspec": {
   "display_name": "Julia 1.9.2",
   "language": "julia",
   "name": "julia-1.9"
  },
  "language_info": {
   "file_extension": ".jl",
   "mimetype": "application/julia",
   "name": "julia",
   "version": "1.9.2"
  }
 },
 "nbformat": 4,
 "nbformat_minor": 5
}
