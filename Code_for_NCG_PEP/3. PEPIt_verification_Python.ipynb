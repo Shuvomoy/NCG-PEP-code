{
 "cells": [
  {
   "cell_type": "markdown",
   "id": "f9db0882-816e-4417-81ee-1be25244bd63",
   "metadata": {},
   "source": [
    "## Using `PEPit` to verify the lower-bound on the NCGPEP contraction factor"
   ]
  },
  {
   "cell_type": "code",
   "execution_count": 1,
   "id": "81bb262f-399c-48a1-9fde-0fb8bef9d755",
   "metadata": {},
   "outputs": [],
   "source": [
    "import PEPit"
   ]
  },
  {
   "cell_type": "code",
   "execution_count": 2,
   "id": "4671cf75-bb0a-4c36-9f98-7cc84b7d21be",
   "metadata": {},
   "outputs": [],
   "source": [
    "from PEPit import *\n",
    "from PEPit.functions import SmoothStronglyConvexFunction"
   ]
  },
  {
   "cell_type": "code",
   "execution_count": 3,
   "id": "3be8b926-8549-4849-8552-fabd99f28dbb",
   "metadata": {},
   "outputs": [],
   "source": [
    "def NCG_PEP(L, mu, gamma, beta, c0, eta, n, rho_LB, rho_UB,  verbose=1):\n",
    "    \n",
    "    # Instantiate PEP\n",
    "    problem = PEP()\n",
    "    \n",
    "    # Declare a smooth strongly convex function\n",
    "    f = problem.declare_function(SmoothStronglyConvexFunction, mu=mu, L=L)\n",
    "    \n",
    "    # Start by defining its unique optimal point xs = x_* and \n",
    "    # corresponding function value fs = f_*\n",
    "    xs = f.stationary_point()\n",
    "    fs = f.value(xs)\n",
    "    \n",
    "    # Then define the starting point x0 of the algorithm as well as corresponding gradient and function value g0 and f0\n",
    "    x0 = problem.set_initial_point()\n",
    "    g0, f0 = f.oracle(x0)\n",
    "    \n",
    "    d0 = Point()\n",
    "    d_new = d0\n",
    "    x_new = x0\n",
    "    g_new = g0\n",
    "    \n",
    "    problem.add_constraint((d0) ** 2 <= c0*(g0) ** 2)\n",
    "\n",
    "    problem.add_constraint((d0) ** 2 >= (g0) ** 2)\n",
    "\n",
    "    problem.add_constraint(g0 * d0 == (g0) ** 2)\n",
    "    \n",
    "    # Set the initial constraint that is the difference between f0 and f_*\n",
    "    problem.set_initial_condition(f0 - fs == 1)\n",
    "    \n",
    "    for i in range(n):\n",
    "        print(i)\n",
    "        d_old = d_new\n",
    "        x_old = x_new\n",
    "        g_old = g_new\n",
    "        x_new = x_old - gamma[i] * d_old\n",
    "        g_new = f.gradient(x_new)\n",
    "        d_new = g_new + beta[i] * d_old\n",
    "        problem.add_constraint(g_new * d_old == 0)\n",
    "        problem.add_constraint(g_new * (x_old-x_new) == 0)\n",
    "        problem.add_constraint(g_old * d_old == g_old ** 2)\n",
    "        if i < n-1:\n",
    "            print('Adding beta[i] constraint')\n",
    "            problem.add_constraint(beta[i] * g_old ** 2 == g_new **2 - eta * (g_new * g_old))\n",
    "        \n",
    "      \n",
    "    # Set the performance metric to the function value accuracy\n",
    "    problem.set_performance_metric(f.value(x_new) - fs)   \n",
    "    \n",
    "    # Solve the PEP\n",
    "    verbose = 1\n",
    "    pepit_verbose = max(verbose, 0)\n",
    "    pepit_rho = problem.solve(verbose=pepit_verbose)\n",
    "    \n",
    "    \n",
    "    # Print conclusion if required\n",
    "    if verbose != -1:\n",
    "        print('*** Example file ***')\n",
    "        print(\"\\tPEPit guarantee: (Lower bound)\\t\\t\\t f(x_\",n,\")-f_* >= {:.6} (f(x_0)-f_*)\".format(pepit_rho))\n",
    "        print(\"\\tNCG-PEP guarantee: (Lower bound)\\t\\t\\t f(x_\",n,\")-f_* >= {:.6} (f(x_0)-f_*)\".format(rho_LB))\n",
    "        print(\"\\tNCG-PEP guarantee: (Upper bound)\\t\\t\\t f(x_\",n,\")-f_* <= {:.6} (f(x_0)-f_*)\".format(rho_UB))\n",
    "        \n",
    "    return pepit_rho   "
   ]
  },
  {
   "cell_type": "code",
   "execution_count": 4,
   "id": "1bd46cde-7c0f-4a4d-84b5-00b49fb9af40",
   "metadata": {},
   "outputs": [],
   "source": [
    "## Parameter values\n",
    "L = 1;\n",
    "eta = 1; # eta = 1 means PRP, eta = 0 means FR\n",
    "\n",
    "## Get the following from the file \"Using_the_datasets_Julia.ipynb\"\n",
    "\n",
    "mu = 0.5\n",
    "n = 2\n",
    "beta = [0.11015521120443346, 0.0]\n",
    "gamma = [1.3127063659282785, 1.1954627659433608]\n",
    "rho_LB = 0.056103782765843734\n",
    "rho_UB = 0.056124266554459026\n",
    "\n",
    "# factor for PRP\n",
    "c0 = (L+mu)**2/(4*mu*L) "
   ]
  },
  {
   "cell_type": "code",
   "execution_count": 5,
   "id": "78c2e0be-1409-4c35-b505-a7922852221d",
   "metadata": {},
   "outputs": [
    {
     "name": "stdout",
     "output_type": "stream",
     "text": [
      "0\n",
      "Adding beta[i] constraint\n",
      "1\n",
      "(PEPit) Setting up the problem: size of the main PSD matrix: 6x6\n",
      "(PEPit) Setting up the problem: performance measure is minimum of 1 element(s)\n",
      "(PEPit) Setting up the problem: Adding initial conditions and general constraints ...\n",
      "(PEPit) Setting up the problem: initial conditions and general constraints (11 constraint(s) added)\n",
      "(PEPit) Setting up the problem: interpolation conditions for 1 function(s)\n",
      "\t\t function 1 : Adding 12 scalar constraint(s) ...\n",
      "\t\t function 1 : 12 scalar constraint(s) added\n",
      "(PEPit) Compiling SDP\n",
      "(PEPit) Calling SDP solver\n",
      "(PEPit) Solver status: optimal (solver: MOSEK); optimal value: 0.05610383801673924\n",
      "\u001b[96m(PEPit) Postprocessing: solver's output is not entirely feasible (smallest eigenvalue of the Gram matrix is: -2.47e-08 < 0).\n",
      " Small deviation from 0 may simply be due to numerical error. Big ones should be deeply investigated.\n",
      " In any case, from now the provided values of parameters are based on the projection of the Gram matrix onto the cone of symmetric semi-definite matrix.\u001b[0m\n",
      "*** Example file ***\n",
      "\tPEPit guarantee: (Lower bound)\t\t\t f(x_ 2 )-f_* >= 0.0561038 (f(x_0)-f_*)\n",
      "\tNCG-PEP guarantee: (Lower bound)\t\t\t f(x_ 2 )-f_* >= 0.0561038 (f(x_0)-f_*)\n",
      "\tNCG-PEP guarantee: (Upper bound)\t\t\t f(x_ 2 )-f_* <= 0.0561243 (f(x_0)-f_*)\n"
     ]
    }
   ],
   "source": [
    "rho_PEP = NCG_PEP(L, mu, gamma, beta, c0, eta, n, rho_LB, rho_UB,  verbose=1)"
   ]
  }
 ],
 "metadata": {
  "kernelspec": {
   "display_name": "Python 3 (ipykernel)",
   "language": "python",
   "name": "python3"
  },
  "language_info": {
   "codemirror_mode": {
    "name": "ipython",
    "version": 3
   },
   "file_extension": ".py",
   "mimetype": "text/x-python",
   "name": "python",
   "nbconvert_exporter": "python",
   "pygments_lexer": "ipython3",
   "version": "3.9.12"
  }
 },
 "nbformat": 4,
 "nbformat_minor": 5
}
