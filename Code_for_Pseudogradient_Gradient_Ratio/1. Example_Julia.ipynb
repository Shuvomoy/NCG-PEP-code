{
 "cells": [
  {
   "cell_type": "code",
   "execution_count": 1,
   "id": "be09cf59-8270-413a-8d7a-e6f517e2c3d6",
   "metadata": {},
   "outputs": [],
   "source": [
    "using Logging\n",
    "global_logger(ConsoleLogger());"
   ]
  },
  {
   "cell_type": "code",
   "execution_count": 2,
   "id": "1e17abe6-7952-4418-ab67-2f3bdb5cf02d",
   "metadata": {},
   "outputs": [
    {
     "name": "stdout",
     "output_type": "stream",
     "text": [
      "Set parameter Username\n",
      "Academic license - for non-commercial use only - expires 2023-11-06\n"
     ]
    }
   ],
   "source": [
    "include(\"Ratio_of_pseudo_gradient_and_gradient.jl\");"
   ]
  },
  {
   "cell_type": "code",
   "execution_count": 7,
   "id": "0f949a47-0d38-4429-93d6-49a8d8d779c5",
   "metadata": {},
   "outputs": [],
   "source": [
    "## Parameters\n",
    "μ = 0.5\n",
    "L = 1\n",
    "R = 1 # min(R_term_1,R_term_2)\n",
    "bigM = 1e6\n",
    "η_2 = 1 # should be 1 for PRP, 0 for FR\n",
    "c_0_input_initial_given = 2\n",
    "\n",
    "ϵ_tol_feas_lazy_eigval = 1e-1\n",
    "ϵ_tol_feas_Gurobi = 1e-2\n",
    "ϵ_tol_feas_input = 1e-8\n",
    "\n",
    "## Parameter selection to compute ||d_k||^2/||g_k||^2\n",
    "c_f_input, c_x_input, c_g_input, c_p_input =  0, 0, 0, 1\n",
    "ι_f_input, ι_x_input, ι_g_input, ι_p_input = 0, 0, 1, 0;"
   ]
  },
  {
   "cell_type": "code",
   "execution_count": 9,
   "id": "d7d92299-6221-4649-ae81-536963eeb20b",
   "metadata": {},
   "outputs": [
    {
     "name": "stderr",
     "output_type": "stream",
     "text": [
      "\u001b[36m\u001b[1m[ \u001b[22m\u001b[39m\u001b[36m\u001b[1mInfo: \u001b[22m\u001b[39mcreating initial condition for pseudograd/grad ratio\n",
      "\u001b[36m\u001b[1m[ \u001b[22m\u001b[39m\u001b[36m\u001b[1mInfo: \u001b[22m\u001b[39mconjugacy condition is satisfied\n"
     ]
    }
   ],
   "source": [
    "G_ws, Ft_ws, L_cholesky_ws, γ_kM1_ws, β_kM1_ws = feasible_sol_generator_Lyapunov_Ada_PEP(μ, L, R, η_2; c_f = c_f_input, c_x = c_x_input, c_g = c_g_input, c_p = c_p_input, ι_f = ι_f_input, ι_x = ι_x_input, ι_g = ι_g_input, ι_p = ι_p_input)\n",
    "\n",
    "k = 1;\n",
    "⋆ = 1;\n",
    "I_N_star = [⋆; k-1; k]\n",
    "idx_set_λ_ws_effective = index_set_constructor_for_dual_vars_full(I_N_star);"
   ]
  },
  {
   "cell_type": "code",
   "execution_count": 10,
   "id": "332da059-40af-4c60-b91a-5c81329aabb7",
   "metadata": {},
   "outputs": [
    {
     "name": "stdout",
     "output_type": "stream",
     "text": [
      "\n",
      "=======================================\n",
      "           Academic License\n",
      "       (NOT FOR COMMERCIAL USE)\n",
      "         Artelys Knitro 13.1.0\n",
      "=======================================\n",
      "\n",
      "Knitro presolve eliminated 80 variables and 142 constraints.\n",
      "\n",
      "algorithm:               1\n",
      "convex:                  0\n",
      "datacheck:               0\n",
      "hessian_no_f:            1\n",
      "honorbnds:               1\n",
      "strat_warm_start:        1\n",
      "The problem is identified as a QCQP.\n",
      "Knitro shifted start point further inside presolved bounds (4 variables).\n",
      "Knitro fixing 78 variables eliminated from the presolve.\n",
      "\n",
      "Problem Characteristics                                 (   Presolved)\n",
      "-----------------------\n",
      "Objective goal:  Maximize\n",
      "Objective type:  linear\n",
      "Number of variables:                                111 (          31)\n",
      "    bounded below only:                               2 (           9)\n",
      "    bounded above only:                               0 (           0)\n",
      "    bounded below and above:                          0 (           1)\n",
      "    fixed:                                            6 (           0)\n",
      "    free:                                           103 (          21)\n",
      "Number of constraints:                              201 (          59)\n",
      "    linear equalities:                              138 (          11)\n",
      "    quadratic equalities:                            18 (          17)\n",
      "    gen. nonlinear equalities:                        0 (           0)\n",
      "    linear one-sided inequalities:                   40 (          26)\n",
      "    quadratic one-sided inequalities:                 5 (           5)\n",
      "    gen. nonlinear one-sided inequalities:            0 (           0)\n",
      "    linear two-sided inequalities:                    0 (           0)\n",
      "    quadratic two-sided inequalities:                 0 (           0)\n",
      "    gen. nonlinear two-sided inequalities:            0 (           0)\n",
      "Number of nonzeros in Jacobian:                     507 (         211)\n",
      "Number of nonzeros in Hessian:                       95 (          31)\n",
      "\n",
      "WARNING: Problem has more equality constraints than variables.\n",
      "\n",
      "Knitro using the Interior-Point/Barrier Direct algorithm.\n",
      "\n",
      "  Iter      Objective      FeasError   OptError    ||Step||    CGits \n",
      "--------  --------------  ----------  ----------  ----------  -------\n",
      "       0    1.483343e-03   1.497e+00\n",
      "      10    9.871223e-01   6.975e-02   9.963e-01   6.837e-01        0\n",
      "      20    1.125000e+00   1.664e-06   2.827e-07   4.656e-03        0\n",
      "      29    1.125003e+00   1.055e-06   6.363e-07   3.816e-03        0\n",
      "\n",
      "EXIT: Locally optimal solution found.\n",
      "\n",
      "Final Statistics\n",
      "----------------\n",
      "Final objective value               =   1.12500256090746e+00\n",
      "Final feasibility error (abs / rel) =   1.05e-06 / 7.05e-07\n",
      "Final optimality error  (abs / rel) =   6.36e-07 / 6.36e-07\n",
      "# of iterations                     =         29 \n",
      "# of CG iterations                  =         10 \n",
      "# of function evaluations           =          0\n",
      "# of gradient evaluations           =          0\n",
      "# of Hessian evaluations            =          0\n",
      "Total program time (secs)           =       0.00523 (     0.005 CPU time)\n",
      "Time spent in evaluations (secs)    =       0.00000\n",
      "\n",
      "===============================================================================\n",
      "\n"
     ]
    },
    {
     "name": "stderr",
     "output_type": "stream",
     "text": [
      "\u001b[36m\u001b[1m[ \u001b[22m\u001b[39m\u001b[36m\u001b[1mInfo: \u001b[22m\u001b[39m[🎉 ] defining the variables\n",
      "\u001b[36m\u001b[1m[ \u001b[22m\u001b[39m\u001b[36m\u001b[1mInfo: \u001b[22m\u001b[39mno bound imposed\n",
      "\u001b[36m\u001b[1m[ \u001b[22m\u001b[39m\u001b[36m\u001b[1mInfo: \u001b[22m\u001b[39m[🎍 ] adding the data generator function to create 𝐱, 𝐠, 𝐟\n",
      "\u001b[36m\u001b[1m[ \u001b[22m\u001b[39m\u001b[36m\u001b[1mInfo: \u001b[22m\u001b[39m[🎢 ] adding the constraints\n",
      "\u001b[36m\u001b[1m[ \u001b[22m\u001b[39m\u001b[36m\u001b[1mInfo: \u001b[22m\u001b[39mconinterpol ℓ = i_j_idx(-1, 0)\n",
      "\u001b[36m\u001b[1m[ \u001b[22m\u001b[39m\u001b[36m\u001b[1mInfo: \u001b[22m\u001b[39mconinterpol ℓ = i_j_idx(-1, 1)\n",
      "\u001b[36m\u001b[1m[ \u001b[22m\u001b[39m\u001b[36m\u001b[1mInfo: \u001b[22m\u001b[39mconinterpol ℓ = i_j_idx(0, -1)\n",
      "\u001b[36m\u001b[1m[ \u001b[22m\u001b[39m\u001b[36m\u001b[1mInfo: \u001b[22m\u001b[39mconinterpol ℓ = i_j_idx(0, 1)\n",
      "\u001b[36m\u001b[1m[ \u001b[22m\u001b[39m\u001b[36m\u001b[1mInfo: \u001b[22m\u001b[39mconinterpol ℓ = i_j_idx(1, -1)\n",
      "\u001b[36m\u001b[1m[ \u001b[22m\u001b[39m\u001b[36m\u001b[1mInfo: \u001b[22m\u001b[39mconinterpol ℓ = i_j_idx(1, 0)\n",
      "\u001b[36m\u001b[1m[ \u001b[22m\u001b[39m\u001b[36m\u001b[1mInfo: \u001b[22m\u001b[39m[🎇 ] adding objective\n",
      "\u001b[36m\u001b[1m[ \u001b[22m\u001b[39m\u001b[36m\u001b[1mInfo: \u001b[22m\u001b[39m[👲 ] warm-start values for all the variables\n",
      "\u001b[36m\u001b[1m[ \u001b[22m\u001b[39m\u001b[36m\u001b[1mInfo: \u001b[22m\u001b[39m[🙌 \t🙏 ] model building done, starting the optimization process\n",
      "\u001b[36m\u001b[1m[ \u001b[22m\u001b[39m\u001b[36m\u001b[1mInfo: \u001b[22m\u001b[39m[🎴 ] Analyzing PRP/FR method\n",
      "\u001b[36m\u001b[1m[ \u001b[22m\u001b[39m\u001b[36m\u001b[1mInfo: \u001b[22m\u001b[39m[😻 ] optimal solution found done, store the solution\n",
      "\u001b[36m\u001b[1m[ \u001b[22m\u001b[39m\u001b[36m\u001b[1mInfo: \u001b[22m\u001b[39m[💹 ] warm-start objective value = 0.0014833426255014155, and objective value of found solution = 1.1250025609074603\n",
      "\u001b[36m\u001b[1m[ \u001b[22m\u001b[39m\u001b[36m\u001b[1mInfo: \u001b[22m\u001b[39mIMPORTANT INFO\n",
      "\u001b[36m\u001b[1m[ \u001b[22m\u001b[39m\u001b[36m\u001b[1mInfo: \u001b[22m\u001b[39m------------------------------------------\n",
      "\u001b[36m\u001b[1m[ \u001b[22m\u001b[39m\u001b[36m\u001b[1mInfo: \u001b[22m\u001b[39m||g_{k-1}||^2 =  1.091633176753031\n",
      "\u001b[36m\u001b[1m[ \u001b[22m\u001b[39m\u001b[36m\u001b[1mInfo: \u001b[22m\u001b[39m||p_{k-1}||^2 = 2.183266353506088\n",
      "\u001b[36m\u001b[1m[ \u001b[22m\u001b[39m\u001b[36m\u001b[1mInfo: \u001b[22m\u001b[39mNCG-PEP Theory {||p_k||^2/||g_k||^2} = 1.125\n",
      "\u001b[36m\u001b[1m[ \u001b[22m\u001b[39m\u001b[36m\u001b[1mInfo: \u001b[22m\u001b[39mNCG-PEP Numerical {||p_k||^2/||g_k||^2}= 1.1250025609074603\n",
      "\u001b[36m\u001b[1m[ \u001b[22m\u001b[39m\u001b[36m\u001b[1mInfo: \u001b[22m\u001b[39m------------------------------------------\n",
      "\u001b[36m\u001b[1m[ \u001b[22m\u001b[39m\u001b[36m\u001b[1mInfo: \u001b[22m\u001b[39m[💀 ] The dual multipliers for interpolation inequalities are: [-2.3450271791927985e-7, -6.963740492280506e-8, -7.38200620818133e-8, -0.9160586236135583, -3.469745162200141e-7, -0.9160583135644027]\n"
     ]
    },
    {
     "data": {
      "text/plain": [
       "([3.4484680565568384 1.9366255188342425 1.3265313541226442 1.9131844765475234; 1.9366255188342425 1.091633176753031 0.7387941869867347 1.091633176753032; 1.3265313541226442 0.7387941869867347 1.0 0.0; 1.9131844765475234 1.091633176753032 0.0 2.183266353506088], [1.0156388826381713, 0.6062766112124546], [1.8570051309990583 0.0 0.0 0.0; 1.0428756961987729 0.06358883891967192 0.0 0.0; 0.7143390893099806 -0.09707282514788534 0.6930343256545931 0.0; 1.0302526603777824 0.27060842578981825 -1.0240199748129173 0.0], 0.7499996821178813, 0.23927984102202843, 1.1250025609074603, Any[], Any[], 0.005216000135987997)"
      ]
     },
     "execution_count": 10,
     "metadata": {},
     "output_type": "execute_result"
    }
   ],
   "source": [
    "## Generate locally optimal solution\n",
    "\n",
    "G_loc_opt, Ft_loc_opt, L_cholesky_loc_opt, γ_kM1_loc_opt, β_kM1_loc_opt, t_loc_opt, lower_bound_var_loc_opt, upper_bound_var_loc_opt, solve_time_loc_opt = Ratio_of_Pseudograd_and_Grad_Model(\n",
    "    # different parameters to be used\n",
    "    # -------------------------------\n",
    "    μ, L, R,\n",
    "    # warm-start points\n",
    "    # -----------------\n",
    "    idx_set_λ_ws_effective, G_ws, Ft_ws, L_cholesky_ws, γ_kM1_ws,  β_kM1_ws;\n",
    "    # different options\n",
    "    # -----------------\n",
    "    # [🐘 ] solver type\n",
    "    solver = LocalOptSolver,\n",
    "    # the solvers are:\n",
    "    # GlobalOptSolver to find the globally optimal solution (uses gurobi)\n",
    "    # LocalOptSolver to find the locally optimal solution (uses KNITRO)\n",
    "    # BoundCompSolver to find valid bounds on the decision variables (uses Alpine)\n",
    "    # [🐯 ] cost coefficients\n",
    "    c_f = c_f_input, c_x = c_x_input, c_g = c_g_input, c_p = c_p_input,\n",
    "    ι_f = ι_f_input, ι_x = ι_x_input, ι_g = ι_g_input, ι_p = ι_p_input,\n",
    "    show_output = :on, # options are :on and :off\n",
    "    lower_bound_opt_val = 0,\n",
    "    upper_bound_opt_val = Inf,\n",
    "    impose_pattern_interpolation = :off,\n",
    "    impose_pattern_noninterpolation = :off,\n",
    "    bound_impose = :off, # # options are :generic, and :off\n",
    "    bound_M = Inf,\n",
    "    lower_bound_var = [], # lower bound vector on the decision variables\n",
    "    upper_bound_var = [], # upper bound vector on the decision variables\n",
    "    PSDness_modeling = :exact, # options are :exact and :through_ϵ and :lazy_constraint_callback\n",
    "    ϵ_tol_feas = 1e-6, # feasiblity tolerance for minimum eigenvalue of G\n",
    "    maxCutCount=1e6, # number of lazy cuts when we use lazy constraints for modeling G = L_cholesky*L_cholesky\n",
    "    PRP_Plus = :off, # options are :positive_case, :negative_case and :off\n",
    "    c_0_input_initial = c_0_input_initial_given\n",
    "    )"
   ]
  },
  {
   "cell_type": "code",
   "execution_count": 13,
   "id": "8a0f25f6-1125-47bb-a14d-6b5cab6b279d",
   "metadata": {},
   "outputs": [
    {
     "data": {
      "text/plain": [
       "10.345404169670516"
      ]
     },
     "execution_count": 13,
     "metadata": {},
     "output_type": "execute_result"
    }
   ],
   "source": [
    "## Set the warm-starting points for the later stage\n",
    "\n",
    "G_ws, Ft_ws, L_cholesky_ws, γ_kM1_ws, β_kM1_ws, t_ws, lower_bound_var_ws, upper_bound_var_ws, solve_time_ws = G_loc_opt, Ft_loc_opt, L_cholesky_loc_opt, γ_kM1_loc_opt, β_kM1_loc_opt, t_loc_opt, lower_bound_var_loc_opt, upper_bound_var_loc_opt, solve_time_loc_opt\n",
    "\n",
    "bound_M_G_loc_opt = 3*maximum(G_loc_opt[i,i] for i in 1:size(G_loc_opt,1))\n",
    "\n",
    "bound_M_F_loc_opt = 3*maximum(Ft_loc_opt[i] for i in 1:size(Ft_loc_opt,1))\n",
    "\n",
    "bound_M_loc_opt = maximum([bound_M_G_loc_opt, bound_M_F_loc_opt])\t"
   ]
  },
  {
   "cell_type": "code",
   "execution_count": 14,
   "id": "9d6f0680-6a1b-4d37-979b-773e283dea80",
   "metadata": {},
   "outputs": [
    {
     "name": "stdout",
     "output_type": "stream",
     "text": [
      "Set parameter NonConvex to value 2\n",
      "Set parameter MIPFocus to value 3\n",
      "Set parameter MIPGap to value 0.01\n",
      "Set parameter Presolve to value 2\n",
      "Set parameter MIPFocus to value 1\n"
     ]
    },
    {
     "name": "stderr",
     "output_type": "stream",
     "text": [
      "\u001b[36m\u001b[1m[ \u001b[22m\u001b[39m\u001b[36m\u001b[1mInfo: \u001b[22m\u001b[39m[🎉 ] defining the variables\n",
      "\u001b[36m\u001b[1m[ \u001b[22m\u001b[39m\u001b[36m\u001b[1mInfo: \u001b[22m\u001b[39m[🎣 ] imposing pattern on effective index set of λ\n",
      "\u001b[36m\u001b[1m[ \u001b[22m\u001b[39m\u001b[36m\u001b[1mInfo: \u001b[22m\u001b[39m[💣 ] imposing bound on the the entries of G, F based on Lyapunov function choice\n",
      "\u001b[36m\u001b[1m[ \u001b[22m\u001b[39m\u001b[36m\u001b[1mInfo: \u001b[22m\u001b[39m[🎍 ] adding the data generator function to create 𝐱, 𝐠, 𝐟\n",
      "\u001b[36m\u001b[1m[ \u001b[22m\u001b[39m\u001b[36m\u001b[1mInfo: \u001b[22m\u001b[39m[🎢 ] adding the constraints\n",
      "\u001b[36m\u001b[1m[ \u001b[22m\u001b[39m\u001b[36m\u001b[1mInfo: \u001b[22m\u001b[39mconinterpol ℓ = i_j_idx(0, 1)\n",
      "\u001b[36m\u001b[1m[ \u001b[22m\u001b[39m\u001b[36m\u001b[1mInfo: \u001b[22m\u001b[39mconinterpol ℓ = i_j_idx(1, 0)\n",
      "\u001b[36m\u001b[1m[ \u001b[22m\u001b[39m\u001b[36m\u001b[1mInfo: \u001b[22m\u001b[39m[🎇 ] adding objective\n",
      "\u001b[36m\u001b[1m[ \u001b[22m\u001b[39m\u001b[36m\u001b[1mInfo: \u001b[22m\u001b[39m[👲 ] warm-start values for all the variables\n",
      "\u001b[36m\u001b[1m[ \u001b[22m\u001b[39m\u001b[36m\u001b[1mInfo: \u001b[22m\u001b[39m[🙌 \t🙏 ] model building done, starting the optimization process\n",
      "\u001b[36m\u001b[1m[ \u001b[22m\u001b[39m\u001b[36m\u001b[1mInfo: \u001b[22m\u001b[39m[🎴 ] Analyzing PRP/FR method\n",
      "\u001b[36m\u001b[1m[ \u001b[22m\u001b[39m\u001b[36m\u001b[1mInfo: \u001b[22m\u001b[39m[😻 ] optimal solution found done, store the solution\n"
     ]
    },
    {
     "name": "stdout",
     "output_type": "stream",
     "text": [
      "Set parameter NonConvex to value 2\n",
      "Set parameter MIPFocus to value 1\n",
      "Set parameter MIPGap to value 0.01\n",
      "Set parameter Presolve to value 2\n",
      "Set parameter LazyConstraints to value 1\n",
      "Gurobi Optimizer version 10.0.0 build v10.0.0rc2 (mac64[rosetta2])\n",
      "\n",
      "CPU model: Apple M1 Max\n",
      "Thread count: 10 physical cores, 10 logical processors, using up to 10 threads\n",
      "\n",
      "Optimize a model with 146 rows, 71 columns and 978 nonzeros\n",
      "Model fingerprint: 0x56cfc567\n",
      "Model has 45 quadratic constraints\n",
      "Coefficient statistics:\n",
      "  Matrix range     [1e-10, 4e+00]\n",
      "  QMatrix range    [5e-01, 2e+00]\n",
      "  QLMatrix range   [1e+00, 2e+00]\n",
      "  Objective range  [1e+00, 1e+00]\n",
      "  Bounds range     [2e+00, 1e+01]\n",
      "  RHS range        [1e+00, 1e+00]\n",
      "  QRHS range       [1e+00, 1e+00]\n",
      "Presolve removed 45 rows and 42 columns\n",
      "\n",
      "Continuous model is non-convex -- solving as a MIP\n",
      "\n",
      "\n",
      "Loaded user MIP start with objective 1.125\n",
      "\n",
      "Presolve removed 50 rows and 48 columns\n",
      "Presolve time: 0.00s\n",
      "Presolved: 114 rows, 25 columns, 575 nonzeros\n",
      "Presolved model has 6 bilinear constraint(s)\n",
      "Variable types: 25 continuous, 0 integer (0 binary)\n",
      "Root relaxation presolved: 112 rows, 25 columns, 578 nonzeros\n",
      "\n",
      "\n",
      "Root relaxation: objective 6.023245e+01, 20 iterations, 0.00 seconds (0.00 work units)\n",
      "\n",
      "    Nodes    |    Current Node    |     Objective Bounds      |     Work\n",
      " Expl Unexpl |  Obj  Depth IntInf | Incumbent    BestBd   Gap | It/Node Time\n",
      "\n",
      "     0     0   60.23245    0    2    1.12500   60.23245  5254%     -    0s\n",
      "     0     0   40.93862    0    6    1.12500   40.93862  3539%     -    0s\n",
      "     0     0   38.15941    0    6    1.12500   38.15941  3292%     -    0s\n",
      "     0     0   38.15941    0    6    1.12500   38.15941  3292%     -    0s\n",
      "     0     0   35.96125    0    6    1.12500   35.96125  3097%     -    0s\n",
      "     0     0   23.18875    0    6    1.12500   23.18875  1961%     -    0s\n",
      "     0     2   23.18875    0    6    1.12500   23.18875  1961%     -    0s\n",
      "\n",
      "Cutting planes:\n",
      "  RLT: 3\n",
      "  PSD: 2\n",
      "  Lazy constraints: 341\n",
      "\n",
      "Explored 571 nodes (2665 simplex iterations) in 0.09 seconds (0.05 work units)\n",
      "Thread count was 10 (of 10 available processors)\n",
      "\n",
      "Solution count 1: 1.125 \n",
      "\n",
      "Optimal solution found (tolerance 1.00e-02)\n",
      "Warning: max constraint violation (1.1445e-06) exceeds tolerance\n",
      "Best objective 1.125002570812e+00, best bound 1.128152421103e+00, gap 0.2800%\n",
      "\n",
      "User-callback calls 1506, time in user-callback 0.02 sec\n"
     ]
    },
    {
     "name": "stderr",
     "output_type": "stream",
     "text": [
      "\u001b[36m\u001b[1m[ \u001b[22m\u001b[39m\u001b[36m\u001b[1mInfo: \u001b[22m\u001b[39m[💹 ] warm-start objective value = 1.12500257081152, and objective value of found solution = 1.12500257081152\n",
      "\u001b[36m\u001b[1m[ \u001b[22m\u001b[39m\u001b[36m\u001b[1mInfo: \u001b[22m\u001b[39mIMPORTANT INFO\n",
      "\u001b[36m\u001b[1m[ \u001b[22m\u001b[39m\u001b[36m\u001b[1mInfo: \u001b[22m\u001b[39m------------------------------------------\n",
      "\u001b[36m\u001b[1m[ \u001b[22m\u001b[39m\u001b[36m\u001b[1mInfo: \u001b[22m\u001b[39m||g_{k-1}||^2 =  1.091633176753031\n",
      "\u001b[36m\u001b[1m[ \u001b[22m\u001b[39m\u001b[36m\u001b[1mInfo: \u001b[22m\u001b[39m||p_{k-1}||^2 = 2.183266353506088\n",
      "\u001b[36m\u001b[1m[ \u001b[22m\u001b[39m\u001b[36m\u001b[1mInfo: \u001b[22m\u001b[39mNCG-PEP Theory {||p_k||^2/||g_k||^2} = 1.125\n",
      "\u001b[36m\u001b[1m[ \u001b[22m\u001b[39m\u001b[36m\u001b[1mInfo: \u001b[22m\u001b[39mNCG-PEP Numerical {||p_k||^2/||g_k||^2}= 1.12500257081152\n",
      "\u001b[36m\u001b[1m[ \u001b[22m\u001b[39m\u001b[36m\u001b[1mInfo: \u001b[22m\u001b[39m------------------------------------------\n"
     ]
    },
    {
     "data": {
      "text/plain": [
       "([3.4484680565568384 1.9366255188342425 1.3265313541226442 1.9131844765475234; 1.9366255188342425 1.091633176753031 0.7387941869867347 1.091633176753032; 1.3265313541226442 0.7387941869867347 1.0 0.0; 1.9131844765475234 1.091633176753032 0.0 2.183266353506088], [1.0156388826381713, 0.6062766112124546], [1.8570051309990583 0.0 0.0 0.0; 1.0428756961987729 0.06358883891967192 0.0 0.0; 0.7143390893099806 -0.09707282514788534 0.6930343256545931 0.0; 1.0302526603777824 0.27060842578981825 -1.0240199748129173 0.0], 0.7499996821178813, 0.23927984102202843, 1.12500257081152, Any[], Any[], 0.0893092155456543)"
      ]
     },
     "execution_count": 14,
     "metadata": {},
     "output_type": "execute_result"
    }
   ],
   "source": [
    "## Compute globally optimal solution\n",
    "\n",
    "G_glb_opt, Ft_glb_opt, L_cholesky_glb_opt, γ_kM1_glb_opt, β_kM1_glb_opt, t_glb_opt, lower_bound_var_glb_opt, upper_bound_var_glb_opt, solve_time_glb_opt = Ratio_of_Pseudograd_and_Grad_Model(\n",
    "\t# different parameters to be used\n",
    "    # -------------------------------\n",
    "    μ, L, R,\n",
    "    # warm-start points\n",
    "    # -----------------\n",
    "    idx_set_λ_ws_effective, G_ws, Ft_ws, L_cholesky_ws, γ_kM1_ws,  β_kM1_ws;\n",
    "\t# different options\n",
    "\t# -----------------\n",
    "\t# [🐘 ] solver type\n",
    "\tsolver = GlobalOptSolver,\n",
    "\t# the solvers are:\n",
    "\t# GlobalOptSolver to find the globally optimal solution (uses gurobi)\n",
    "\t# LocalOptSolver to find the locally optimal solution (uses KNITRO)\n",
    "\t# BoundCompSolver to find valid bounds on the decision variables (uses Alpine)\n",
    "\t# [🐯 ] cost coefficients\n",
    "    c_f = c_f_input, c_x = c_x_input, c_g = c_g_input, c_p = c_p_input,\n",
    "\tι_f = ι_f_input, ι_x = ι_x_input, ι_g = ι_g_input, ι_p = ι_p_input,\n",
    "\tshow_output = :on, # options are :on and :off\n",
    "\tlower_bound_opt_val = 0,\n",
    "\tupper_bound_opt_val = Inf,\n",
    "\timpose_pattern_interpolation = :on,\n",
    "\timpose_pattern_noninterpolation = :off,\n",
    "\tbound_impose = :generic, # # options are :generic, and :off\n",
    "\tbound_M = bound_M_loc_opt,\n",
    "\tlower_bound_var = [], # lower bound vector on the decision variables\n",
    "\tupper_bound_var = [], # upper bound vector on the decision variables\n",
    "\tPSDness_modeling = :lazy_constraint_callback, # options are :exact and :through_ϵ and :lazy_constraint_callback\n",
    "    ϵ_tol_feas = 1e-6, # feasiblity tolerance for minimum eigenvalue of G\n",
    "    maxCutCount=1e6, # number of lazy cuts when we use lazy constraints for modeling G = L_cholesky*L_cholesky\n",
    "\tPRP_Plus = :off, # options are :positive_case, :negative_case and :off\n",
    "\tc_0_input_initial = c_0_input_initial_given\n",
    "\t)"
   ]
  },
  {
   "cell_type": "code",
   "execution_count": null,
   "id": "ef43182a-de30-4a34-a502-45582c2e2ffc",
   "metadata": {},
   "outputs": [],
   "source": []
  }
 ],
 "metadata": {
  "kernelspec": {
   "display_name": "Julia 1.8.0",
   "language": "julia",
   "name": "julia-1.8"
  },
  "language_info": {
   "file_extension": ".jl",
   "mimetype": "application/julia",
   "name": "julia",
   "version": "1.8.0"
  }
 },
 "nbformat": 4,
 "nbformat_minor": 5
}
