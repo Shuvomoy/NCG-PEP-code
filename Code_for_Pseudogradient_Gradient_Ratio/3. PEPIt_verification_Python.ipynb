{
 "cells": [
  {
   "cell_type": "code",
   "execution_count": 1,
   "id": "88d71449-4685-44b8-9e57-ba21169c869c",
   "metadata": {},
   "outputs": [],
   "source": [
    "import PEPit"
   ]
  },
  {
   "cell_type": "code",
   "execution_count": 2,
   "id": "71f1b4d9-f619-43b8-9aa5-644b0206e03f",
   "metadata": {},
   "outputs": [],
   "source": [
    "from PEPit import *\n",
    "from PEPit.functions import SmoothStronglyConvexFunction"
   ]
  },
  {
   "cell_type": "code",
   "execution_count": 5,
   "id": "58a98e10-f623-4f07-a4ca-424e126041a5",
   "metadata": {},
   "outputs": [],
   "source": [
    "def pseudograd_grad_ratio(L, mu, gamma, beta, c0, eta, NCG_PEP_ratio, verbose=1):\n",
    "    \n",
    "    n = 1\n",
    "    \n",
    "    # Instantiate PEP\n",
    "    problem = PEP()\n",
    "    \n",
    "    # Declare a smooth strongly convex function\n",
    "    f = problem.declare_function(SmoothStronglyConvexFunction, mu=mu, L=L)\n",
    "    \n",
    "    # Start by defining its unique optimal point xs = x_* and \n",
    "    # corresponding function value fs = f_*\n",
    "    xs = f.stationary_point()\n",
    "    fs = f.value(xs)\n",
    "    \n",
    "    # Then define the starting point x0 of the algorithm as well as corresponding gradient and function value g0 and f0\n",
    "    x0 = problem.set_initial_point()\n",
    "    g0, f0 = f.oracle(x0)\n",
    "    \n",
    "    d0 = Point()\n",
    "    d_new = d0\n",
    "    x_new = x0\n",
    "    g_new = g0\n",
    "    \n",
    "    problem.add_constraint((d0) ** 2 == c0*(g0) ** 2)\n",
    "\n",
    "    problem.add_constraint((d0) ** 2 >= (g0) ** 2)\n",
    "\n",
    "    problem.add_constraint(g0 * d0 == (g0) ** 2)\n",
    "    \n",
    "    for i in range(n):\n",
    "        print(i)\n",
    "        d_old = d_new\n",
    "        x_old = x_new\n",
    "        g_old = g_new\n",
    "        x_new = x_old - gamma*d_old\n",
    "        g_new = f.gradient(x_new)\n",
    "        d_new = g_new + beta*d_old\n",
    "        problem.add_constraint(g_new * d_old == 0)\n",
    "        problem.add_constraint(g_new * (x_old-x_new) == 0)\n",
    "        problem.add_constraint(g_old * d_old == g_old ** 2)\n",
    "        problem.add_constraint(beta * g_old ** 2 == g_new **2 - eta * (g_new * g_old))\n",
    "        \n",
    "      \n",
    "    # Set the initial constraint that is the difference between f0 and f_*\n",
    "    problem.set_initial_condition(g_new**2 == 1)\n",
    "    \n",
    "    # Set the performance metric to the function value accuracy\n",
    "    problem.set_performance_metric(d_new**2)   \n",
    "    \n",
    "    # Solve the PEP\n",
    "    verbose = 1\n",
    "    pepit_verbose = max(verbose, 0)\n",
    "    pepit_rho = problem.solve(verbose=pepit_verbose)\n",
    "    \n",
    "    \n",
    "    # Print conclusion if required\n",
    "    if verbose != -1:\n",
    "        print('*** Example file ***')\n",
    "        print(\"\\tPEPit guarantee: \\t\\t\\t d_k^2 >= {:.6} g_k^2\".format(pepit_rho))\n",
    "        print(\"\\tNCG-PEP guarantee: \\t\\t\\t d_k^2 <= {:.6} g_k^2\".format( NCG_PEP_ratio))\n",
    "        \n",
    "    return pepit_rho   "
   ]
  },
  {
   "cell_type": "code",
   "execution_count": 3,
   "id": "91ad35c1-1bde-47df-accb-7efec18a2729",
   "metadata": {},
   "outputs": [],
   "source": [
    "## These inputs are coming from last line of \"2. Using_the_saved_datasets_Julia.ipynb\"\n",
    "L = 1\n",
    "mu = 0.5\n",
    "beta = 0.15876766391979427\n",
    "gamma = 1.4851485148762182\n",
    "NCG_PEP_ratio = 1.12500000062546\n",
    "c0 = 1.01\n",
    "eta = 1"
   ]
  },
  {
   "cell_type": "code",
   "execution_count": 6,
   "id": "bb8ed430-4e27-4b2b-b9cb-ff65f834cd91",
   "metadata": {},
   "outputs": [
    {
     "name": "stdout",
     "output_type": "stream",
     "text": [
      "0\n",
      "(PEPit) Setting up the problem: size of the main PSD matrix: 5x5\n",
      "(PEPit) Setting up the problem: performance measure is minimum of 1 element(s)\n",
      "(PEPit) Setting up the problem: Adding initial conditions and general constraints ...\n",
      "(PEPit) Setting up the problem: initial conditions and general constraints (8 constraint(s) added)\n",
      "(PEPit) Setting up the problem: interpolation conditions for 1 function(s)\n",
      "\t\t function 1 : Adding 6 scalar constraint(s) ...\n",
      "\t\t function 1 : 6 scalar constraint(s) added\n",
      "(PEPit) Compiling SDP\n",
      "(PEPit) Calling SDP solver\n",
      "(PEPit) Solver status: optimal (solver: MOSEK); optimal value: 1.1249999959713253\n",
      "\u001b[96m(PEPit) Postprocessing: solver's output is not entirely feasible (smallest eigenvalue of the Gram matrix is: -2.59e-09 < 0).\n",
      " Small deviation from 0 may simply be due to numerical error. Big ones should be deeply investigated.\n",
      " In any case, from now the provided values of parameters are based on the projection of the Gram matrix onto the cone of symmetric semi-definite matrix.\u001b[0m\n",
      "*** Example file ***\n",
      "\tPEPit guarantee: \t\t\t d_k^2 >= 1.125 g_k^2\n",
      "\tNCG-PEP guarantee: \t\t\t d_k^2 <= 1.125 g_k^2\n"
     ]
    },
    {
     "data": {
      "text/plain": [
       "1.1249999959713253"
      ]
     },
     "execution_count": 6,
     "metadata": {},
     "output_type": "execute_result"
    }
   ],
   "source": [
    "pseudograd_grad_ratio(L, mu, gamma, beta, c0, eta, NCG_PEP_ratio, verbose=1)"
   ]
  },
  {
   "cell_type": "code",
   "execution_count": null,
   "id": "3514bde8-b44f-4d39-9655-77fdba9e399f",
   "metadata": {},
   "outputs": [],
   "source": []
  },
  {
   "cell_type": "code",
   "execution_count": null,
   "id": "b915960e-0cb6-447a-bc68-a0e399ee928a",
   "metadata": {},
   "outputs": [],
   "source": []
  }
 ],
 "metadata": {
  "kernelspec": {
   "display_name": "Python 3 (ipykernel)",
   "language": "python",
   "name": "python3"
  },
  "language_info": {
   "codemirror_mode": {
    "name": "ipython",
    "version": 3
   },
   "file_extension": ".py",
   "mimetype": "text/x-python",
   "name": "python",
   "nbconvert_exporter": "python",
   "pygments_lexer": "ipython3",
   "version": "3.9.12"
  }
 },
 "nbformat": 4,
 "nbformat_minor": 5
}
